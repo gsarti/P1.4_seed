{
 "cells": [
  {
   "cell_type": "code",
   "execution_count": 125,
   "metadata": {},
   "outputs": [],
   "source": [
    "import numpy as np"
   ]
  },
  {
   "cell_type": "code",
   "execution_count": 126,
   "metadata": {},
   "outputs": [],
   "source": [
    "A = np.diag(list(range(102,111)), -1) + np.diag(list(range(1,11)), 0) + np.diag(list(range(11,20)), 1)"
   ]
  },
  {
   "cell_type": "code",
   "execution_count": 127,
   "metadata": {},
   "outputs": [
    {
     "data": {
      "text/plain": [
       "array([[  1,  11,   0,   0,   0,   0,   0,   0,   0,   0],\n",
       "       [102,   2,  12,   0,   0,   0,   0,   0,   0,   0],\n",
       "       [  0, 103,   3,  13,   0,   0,   0,   0,   0,   0],\n",
       "       [  0,   0, 104,   4,  14,   0,   0,   0,   0,   0],\n",
       "       [  0,   0,   0, 105,   5,  15,   0,   0,   0,   0],\n",
       "       [  0,   0,   0,   0, 106,   6,  16,   0,   0,   0],\n",
       "       [  0,   0,   0,   0,   0, 107,   7,  17,   0,   0],\n",
       "       [  0,   0,   0,   0,   0,   0, 108,   8,  18,   0],\n",
       "       [  0,   0,   0,   0,   0,   0,   0, 109,   9,  19],\n",
       "       [  0,   0,   0,   0,   0,   0,   0,   0, 110,  10]])"
      ]
     },
     "execution_count": 127,
     "metadata": {},
     "output_type": "execute_result"
    }
   ],
   "source": [
    "A"
   ]
  },
  {
   "cell_type": "code",
   "execution_count": 128,
   "metadata": {},
   "outputs": [],
   "source": [
    "x = np.zeros(10) + 1"
   ]
  },
  {
   "cell_type": "code",
   "execution_count": 129,
   "metadata": {},
   "outputs": [
    {
     "data": {
      "text/plain": [
       "array([1., 1., 1., 1., 1., 1., 1., 1., 1., 1.])"
      ]
     },
     "execution_count": 129,
     "metadata": {},
     "output_type": "execute_result"
    }
   ],
   "source": [
    "x"
   ]
  },
  {
   "cell_type": "code",
   "execution_count": 130,
   "metadata": {},
   "outputs": [],
   "source": [
    "b = np.dot(A,x)"
   ]
  },
  {
   "cell_type": "code",
   "execution_count": 131,
   "metadata": {},
   "outputs": [
    {
     "data": {
      "text/plain": [
       "array([ 12., 116., 119., 122., 125., 128., 131., 134., 137., 120.])"
      ]
     },
     "execution_count": 131,
     "metadata": {},
     "output_type": "execute_result"
    }
   ],
   "source": [
    "b"
   ]
  },
  {
   "cell_type": "markdown",
   "metadata": {},
   "source": [
    "# Thomas algorithm\n",
    "\n",
    "In this case we don't solve using the default LU-factorization provided by numpy since it is not optimal given the fact that the matrix is tridiagonal. We will use the better thomas algorithm."
   ]
  },
  {
   "cell_type": "code",
   "execution_count": 132,
   "metadata": {},
   "outputs": [],
   "source": [
    "def thomas_lu(A, b):\n",
    "    \"\"\"\n",
    "    Performs thomas algorithm on tridiagonal matrix A with results b\n",
    "    Returns the variable vector x\n",
    "    \"\"\"\n",
    "    size = np.shape(b)[0]\n",
    "    e = np.diag(A, k=-1)\n",
    "    a = np.diag(A, k=0)\n",
    "    c = np.diag(A, k=1)\n",
    "    alpha = np.zeros(size)\n",
    "    beta = np.zeros(size - 1)\n",
    "    alpha[0] = a[0]\n",
    "    for i in range(size - 1):\n",
    "        beta[i] = e[i]/alpha[i]\n",
    "        alpha[i + 1] = a[i + 1] - beta[i] * c[i]\n",
    "    L = np.diag(np.zeros(size) + 1, k=0) + np.diag(beta, k=-1)\n",
    "    U = np.diag(alpha, k=0) + np.diag(c, k=1)\n",
    "    y = np.zeros(size)\n",
    "    x = np.zeros(size)\n",
    "    y[0] = b[0]\n",
    "    for i in range(1,size):\n",
    "        y[i] = b[i] - beta[i - 1] * y[i - 1]\n",
    "    x[size - 1] = y[size - 1]/alpha[size - 1]\n",
    "    for i in range(size - 2, -1, -1):\n",
    "        x[i] = (y[i] - c[i] * x[i + 1])/alpha[i]\n",
    "    return x"
   ]
  },
  {
   "cell_type": "code",
   "execution_count": 133,
   "metadata": {},
   "outputs": [],
   "source": [
    "x = thomas_lu(A,b)"
   ]
  },
  {
   "cell_type": "code",
   "execution_count": 134,
   "metadata": {},
   "outputs": [
    {
     "name": "stdout",
     "output_type": "stream",
     "text": [
      "[1. 1. 1. 1. 1. 1. 1. 1. 1. 1.]\n"
     ]
    }
   ],
   "source": [
    "print(x)"
   ]
  },
  {
   "cell_type": "markdown",
   "metadata": {},
   "source": [
    "# 2. Condition Number\n",
    "\n",
    "Since the matrix A has three eigenvalues $\\rho = (1, 1, \\epsilon)$ and we know that the condition number $K$ is defined as $\\frac{\\lambda_{max}}{\\lambda_{min}}$, we know that $K = \\frac{1}{\\epsilon}$\n",
    "\n",
    "$$K_p(A) = \\|A\\|_p \\times \\|A^{-1}\\|_p$$\n",
    "\n",
    "We have that:\n",
    "\n",
    "$K_1(A) = 1 \\times \\frac{1}{\\epsilon} = \\frac{1}{\\epsilon}$ for $\\epsilon << 1$\n",
    "\n",
    "$K_2(A) = 1 \\times \\frac{1}{\\epsilon} = \\frac{1}{\\epsilon}$ for $\\epsilon << 1$\n",
    "\n",
    "$K_\\infty = 1 \\times \\frac{1}{\\epsilon}= \\frac{1}{\\epsilon}$ for $\\epsilon << 1$\n",
    "\n",
    "With perturbation term $[0,0,\\alpha]^T$, the solution becomes $[1, 0, \\frac{\\alpha}{\\epsilon}]$\n",
    "\n",
    "With perturbation term $[\\alpha, 0, 0]^T$, the solution becomes $[1 + \\alpha, 0, 0]$\n",
    "\n",
    "In the first case, we obtain a perturbation of a factor of $10^{-6}$ if $\\alpha = 10^{-12}$ and $\\epsilon = 10^{-6}$ and a perturbation factor of 1 in the other case, in the second one we obtain a  perturbation factor of at most $\\alpha$."
   ]
  },
  {
   "cell_type": "markdown",
   "metadata": {},
   "source": [
    "# 3. Fill-in Phenomenon"
   ]
  },
  {
   "cell_type": "code",
   "execution_count": 22,
   "metadata": {},
   "outputs": [
    {
     "data": {
      "text/plain": [
       "array([[-4,  1,  0,  0],\n",
       "       [ 1, -4,  1,  0],\n",
       "       [ 0,  1, -4,  1],\n",
       "       [ 0,  0,  1, -4]])"
      ]
     },
     "execution_count": 22,
     "metadata": {},
     "output_type": "execute_result"
    }
   ],
   "source": [
    "B = np.array([[-4, 1, 0, 0],[1, -4, 1, 0],[0, 1, -4, 1],[0, 0, 1, -4]])\n",
    "B"
   ]
  },
  {
   "cell_type": "code",
   "execution_count": 24,
   "metadata": {},
   "outputs": [
    {
     "data": {
      "text/plain": [
       "array([[1., 0., 0., 0.],\n",
       "       [0., 1., 0., 0.],\n",
       "       [0., 0., 1., 0.],\n",
       "       [0., 0., 0., 1.]])"
      ]
     },
     "execution_count": 24,
     "metadata": {},
     "output_type": "execute_result"
    }
   ],
   "source": [
    "I = np.eye(4)\n",
    "I"
   ]
  },
  {
   "cell_type": "code",
   "execution_count": 31,
   "metadata": {},
   "outputs": [
    {
     "data": {
      "text/plain": [
       "array([[0., 0., 0., 0.],\n",
       "       [0., 0., 0., 0.],\n",
       "       [0., 0., 0., 0.],\n",
       "       [0., 0., 0., 0.]])"
      ]
     },
     "execution_count": 31,
     "metadata": {},
     "output_type": "execute_result"
    }
   ],
   "source": [
    "Z = np.zeros([4,4])\n",
    "Z"
   ]
  },
  {
   "cell_type": "code",
   "execution_count": 32,
   "metadata": {},
   "outputs": [
    {
     "data": {
      "text/plain": [
       "array([[-4.,  1.,  0.,  0.,  1.,  0.,  0.,  0.,  0.,  0.,  0.,  0.,  0.,\n",
       "         0.,  0.,  0.],\n",
       "       [ 1., -4.,  1.,  0.,  0.,  1.,  0.,  0.,  0.,  0.,  0.,  0.,  0.,\n",
       "         0.,  0.,  0.],\n",
       "       [ 0.,  1., -4.,  1.,  0.,  0.,  1.,  0.,  0.,  0.,  0.,  0.,  0.,\n",
       "         0.,  0.,  0.],\n",
       "       [ 0.,  0.,  1., -4.,  0.,  0.,  0.,  1.,  0.,  0.,  0.,  0.,  0.,\n",
       "         0.,  0.,  0.],\n",
       "       [ 1.,  0.,  0.,  0., -4.,  1.,  0.,  0.,  1.,  0.,  0.,  0.,  0.,\n",
       "         0.,  0.,  0.],\n",
       "       [ 0.,  1.,  0.,  0.,  1., -4.,  1.,  0.,  0.,  1.,  0.,  0.,  0.,\n",
       "         0.,  0.,  0.],\n",
       "       [ 0.,  0.,  1.,  0.,  0.,  1., -4.,  1.,  0.,  0.,  1.,  0.,  0.,\n",
       "         0.,  0.,  0.],\n",
       "       [ 0.,  0.,  0.,  1.,  0.,  0.,  1., -4.,  0.,  0.,  0.,  1.,  0.,\n",
       "         0.,  0.,  0.],\n",
       "       [ 0.,  0.,  0.,  0.,  1.,  0.,  0.,  0., -4.,  1.,  0.,  0.,  1.,\n",
       "         0.,  0.,  0.],\n",
       "       [ 0.,  0.,  0.,  0.,  0.,  1.,  0.,  0.,  1., -4.,  1.,  0.,  0.,\n",
       "         1.,  0.,  0.],\n",
       "       [ 0.,  0.,  0.,  0.,  0.,  0.,  1.,  0.,  0.,  1., -4.,  1.,  0.,\n",
       "         0.,  1.,  0.],\n",
       "       [ 0.,  0.,  0.,  0.,  0.,  0.,  0.,  1.,  0.,  0.,  1., -4.,  0.,\n",
       "         0.,  0.,  1.],\n",
       "       [ 0.,  0.,  0.,  0.,  0.,  0.,  0.,  0.,  1.,  0.,  0.,  0., -4.,\n",
       "         1.,  0.,  0.],\n",
       "       [ 0.,  0.,  0.,  0.,  0.,  0.,  0.,  0.,  0.,  1.,  0.,  0.,  1.,\n",
       "        -4.,  1.,  0.],\n",
       "       [ 0.,  0.,  0.,  0.,  0.,  0.,  0.,  0.,  0.,  0.,  1.,  0.,  0.,\n",
       "         1., -4.,  1.],\n",
       "       [ 0.,  0.,  0.,  0.,  0.,  0.,  0.,  0.,  0.,  0.,  0.,  1.,  0.,\n",
       "         0.,  1., -4.]])"
      ]
     },
     "execution_count": 32,
     "metadata": {},
     "output_type": "execute_result"
    }
   ],
   "source": [
    "A = np.block([[B, I, Z, Z],[I, B, I, Z],[Z, I, B, I],[Z, Z, I, B]])\n",
    "A"
   ]
  },
  {
   "cell_type": "code",
   "execution_count": 42,
   "metadata": {},
   "outputs": [
    {
     "data": {
      "text/plain": [
       "<matplotlib.image.AxesImage at 0x7f2d6573c550>"
      ]
     },
     "execution_count": 42,
     "metadata": {},
     "output_type": "execute_result"
    },
    {
     "data": {
      "image/png": "[encoded data removed]",
      "text/plain": [
       "<Figure size 432x288 with 1 Axes>"
      ]
     },
     "metadata": {},
     "output_type": "display_data"
    }
   ],
   "source": [
    "import scipy\n",
    "import scipy.linalg\n",
    "import matplotlib.pyplot as plt\n",
    "from scipy.sparse import coo_matrix\n",
    "\n",
    "P, L, U = scipy.linalg.lu(A)\n",
    "\n",
    "plt.spy(A)"
   ]
  },
  {
   "cell_type": "code",
   "execution_count": 43,
   "metadata": {},
   "outputs": [
    {
     "data": {
      "text/plain": [
       "<matplotlib.image.AxesImage at 0x7f2d6571d898>"
      ]
     },
     "execution_count": 43,
     "metadata": {},
     "output_type": "execute_result"
    },
    {
     "data": {
      "image/png": "[encoded data removed]",
      "text/plain": [
       "<Figure size 432x288 with 1 Axes>"
      ]
     },
     "metadata": {},
     "output_type": "display_data"
    }
   ],
   "source": [
    "plt.spy(L)"
   ]
  },
  {
   "cell_type": "code",
   "execution_count": 44,
   "metadata": {},
   "outputs": [
    {
     "data": {
      "text/plain": [
       "<matplotlib.image.AxesImage at 0x7f2d65680fd0>"
      ]
     },
     "execution_count": 44,
     "metadata": {},
     "output_type": "execute_result"
    },
    {
     "data": {
      "image/png": "[encoded data removed]",
      "text/plain": [
       "<Figure size 432x288 with 1 Axes>"
      ]
     },
     "metadata": {},
     "output_type": "display_data"
    }
   ],
   "source": [
    "plt.spy(U)"
   ]
  },
  {
   "cell_type": "markdown",
   "metadata": {},
   "source": []
  }
 ],
 "metadata": {
  "kernelspec": {
   "display_name": "Python 3",
   "language": "python",
   "name": "python3"
  },
  "language_info": {
   "codemirror_mode": {
    "name": "ipython",
    "version": 3
   },
   "file_extension": ".py",
   "mimetype": "text/x-python",
   "name": "python",
   "nbconvert_exporter": "python",
   "pygments_lexer": "ipython3",
   "version": "3.7.1"
  }
 },
 "nbformat": 4,
 "nbformat_minor": 2
}
