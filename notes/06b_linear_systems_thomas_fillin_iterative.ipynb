{
 "cells": [
  {
   "cell_type": "code",
   "execution_count": 125,
   "metadata": {},
   "outputs": [],
   "source": [
    "import numpy as np"
   ]
  },
  {
   "cell_type": "code",
   "execution_count": 126,
   "metadata": {},
   "outputs": [],
   "source": [
    "A = np.diag(list(range(102,111)), -1) + np.diag(list(range(1,11)), 0) + np.diag(list(range(11,20)), 1)"
   ]
  },
  {
   "cell_type": "code",
   "execution_count": 127,
   "metadata": {},
   "outputs": [
    {
     "data": {
      "text/plain": [
       "array([[  1,  11,   0,   0,   0,   0,   0,   0,   0,   0],\n",
       "       [102,   2,  12,   0,   0,   0,   0,   0,   0,   0],\n",
       "       [  0, 103,   3,  13,   0,   0,   0,   0,   0,   0],\n",
       "       [  0,   0, 104,   4,  14,   0,   0,   0,   0,   0],\n",
       "       [  0,   0,   0, 105,   5,  15,   0,   0,   0,   0],\n",
       "       [  0,   0,   0,   0, 106,   6,  16,   0,   0,   0],\n",
       "       [  0,   0,   0,   0,   0, 107,   7,  17,   0,   0],\n",
       "       [  0,   0,   0,   0,   0,   0, 108,   8,  18,   0],\n",
       "       [  0,   0,   0,   0,   0,   0,   0, 109,   9,  19],\n",
       "       [  0,   0,   0,   0,   0,   0,   0,   0, 110,  10]])"
      ]
     },
     "execution_count": 127,
     "metadata": {},
     "output_type": "execute_result"
    }
   ],
   "source": [
    "A"
   ]
  },
  {
   "cell_type": "code",
   "execution_count": 128,
   "metadata": {},
   "outputs": [],
   "source": [
    "x = np.zeros(10) + 1"
   ]
  },
  {
   "cell_type": "code",
   "execution_count": 129,
   "metadata": {},
   "outputs": [
    {
     "data": {
      "text/plain": [
       "array([1., 1., 1., 1., 1., 1., 1., 1., 1., 1.])"
      ]
     },
     "execution_count": 129,
     "metadata": {},
     "output_type": "execute_result"
    }
   ],
   "source": [
    "x"
   ]
  },
  {
   "cell_type": "code",
   "execution_count": 130,
   "metadata": {},
   "outputs": [],
   "source": [
    "b = np.dot(A,x)"
   ]
  },
  {
   "cell_type": "code",
   "execution_count": 131,
   "metadata": {},
   "outputs": [
    {
     "data": {
      "text/plain": [
       "array([ 12., 116., 119., 122., 125., 128., 131., 134., 137., 120.])"
      ]
     },
     "execution_count": 131,
     "metadata": {},
     "output_type": "execute_result"
    }
   ],
   "source": [
    "b"
   ]
  },
  {
   "cell_type": "markdown",
   "metadata": {},
   "source": [
    "# Thomas algorithm\n",
    "\n",
    "In this case we don't solve using the default LU-factorization provided by numpy since it is not optimal given the fact that the matrix is tridiagonal. We will use the better thomas algorithm."
   ]
  },
  {
   "cell_type": "code",
   "execution_count": 132,
   "metadata": {},
   "outputs": [],
   "source": [
    "def thomas_lu(A, b):\n",
    "    \"\"\"\n",
    "    Performs thomas algorithm on tridiagonal matrix A with results b\n",
    "    Returns the variable vector x\n",
    "    \"\"\"\n",
    "    size = np.shape(b)[0]\n",
    "    e = np.diag(A, k=-1)\n",
    "    a = np.diag(A, k=0)\n",
    "    c = np.diag(A, k=1)\n",
    "    alpha = np.zeros(size)\n",
    "    beta = np.zeros(size - 1)\n",
    "    alpha[0] = a[0]\n",
    "    for i in range(size - 1):\n",
    "        beta[i] = e[i]/alpha[i]\n",
    "        alpha[i + 1] = a[i + 1] - beta[i] * c[i]\n",
    "    L = np.diag(np.zeros(size) + 1, k=0) + np.diag(beta, k=-1)\n",
    "    U = np.diag(alpha, k=0) + np.diag(c, k=1)\n",
    "    y = np.zeros(size)\n",
    "    x = np.zeros(size)\n",
    "    y[0] = b[0]\n",
    "    for i in range(1,size):\n",
    "        y[i] = b[i] - beta[i - 1] * y[i - 1]\n",
    "    x[size - 1] = y[size - 1]/alpha[size - 1]\n",
    "    for i in range(size - 2, -1, -1):\n",
    "        x[i] = (y[i] - c[i] * x[i + 1])/alpha[i]\n",
    "    return x"
   ]
  },
  {
   "cell_type": "code",
   "execution_count": 133,
   "metadata": {},
   "outputs": [],
   "source": [
    "x = thomas_lu(A,b)"
   ]
  },
  {
   "cell_type": "code",
   "execution_count": 134,
   "metadata": {},
   "outputs": [
    {
     "name": "stdout",
     "output_type": "stream",
     "text": [
      "[1. 1. 1. 1. 1. 1. 1. 1. 1. 1.]\n"
     ]
    }
   ],
   "source": [
    "print(x)"
   ]
  },
  {
   "cell_type": "markdown",
   "metadata": {},
   "source": [
    "# 2. Condition Number\n",
    "\n",
    "Since the matrix A has three eigenvalues $\\rho = (1, 1, \\epsilon)$ and we know that the condition number $K$ is defined as $\\frac{\\lambda_{max}}{\\lambda_{min}}$, we know that $K = \\frac{1}{\\epsilon}$\n",
    "\n",
    "$$K_p(A) = \\|A\\|_p \\times \\|A^{-1}\\|_p$$"
   ]
  },
  {
   "cell_type": "code",
   "execution_count": null,
   "metadata": {},
   "outputs": [],
   "source": []
  }
 ],
 "metadata": {
  "kernelspec": {
   "display_name": "Python 3",
   "language": "python",
   "name": "python3"
  },
  "language_info": {
   "codemirror_mode": {
    "name": "ipython",
    "version": 3
   },
   "file_extension": ".py",
   "mimetype": "text/x-python",
   "name": "python",
   "nbconvert_exporter": "python",
   "pygments_lexer": "ipython3",
   "version": "3.7.1"
  }
 },
 "nbformat": 4,
 "nbformat_minor": 2
}
