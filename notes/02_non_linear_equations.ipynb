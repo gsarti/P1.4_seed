{
 "cells": [
  {
   "cell_type": "markdown",
   "metadata": {
    "ein.tags": [
     "worksheet-0"
    ],
    "slideshow": {
     "slide_type": "-"
    }
   },
   "source": [
    "# Nonlinear Equations\n",
    "\n",
    "We want to find a root of the nonlinear function $f$ using different methods.\n",
    "\n",
    "1. Bisection method\n",
    "2. Newton method\n",
    "3. Chord method\n",
    "4. Secant method\n",
    "5. Fixed point iterations\n",
    "\n",
    "\n",
    "\n"
   ]
  },
  {
   "cell_type": "code",
   "execution_count": 1,
   "metadata": {},
   "outputs": [],
   "source": [
    "%matplotlib inline\n",
    "from numpy import *\n",
    "from matplotlib.pyplot import *\n",
    "import sympy as sym\n"
   ]
  },
  {
   "cell_type": "code",
   "execution_count": 2,
   "metadata": {
    "autoscroll": "json-false",
    "ein.tags": [
     "worksheet-0"
    ],
    "slideshow": {
     "slide_type": "-"
    }
   },
   "outputs": [
    {
     "data": {
      "image/png": "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\n",
      "text/plain": [
       "<Figure size 432x288 with 1 Axes>"
      ]
     },
     "metadata": {
      "needs_background": "light"
     },
     "output_type": "display_data"
    }
   ],
   "source": [
    "t = sym.symbols('t')\n",
    "\n",
    "f_sym = t/8. * (63.*t**4 - 70.*t**2. +15.) # Legendre polynomial of order 5\n",
    "\n",
    "f_prime_sym = sym.diff(f_sym,t)\n",
    "\n",
    "f = sym.lambdify(t, f_sym, 'numpy')\n",
    "f_prime = sym.lambdify(t,f_prime_sym, 'numpy')\n",
    "\n",
    "phi = lambda x : 63./70.*x**3 + 15./(70.*x)\n",
    "#phi = lambda x : 70.0/15.0*x**3 - 63.0/15.0*x**5\n",
    "#phi = lambda x : sqrt((63.*x**4 + 15.0)/70.)\n",
    "\n",
    "# Let's plot\n",
    "n = 1025\n",
    "\n",
    "x = linspace(-1,1,n)\n",
    "c = zeros_like(x)\n",
    "\n",
    "_ = plot(x,f(x))\n",
    "_ = plot(x,c)\n",
    "_ = grid()\n"
   ]
  },
  {
   "cell_type": "code",
   "execution_count": 3,
   "metadata": {},
   "outputs": [],
   "source": [
    "# Initial data for the variuos algorithms\n",
    "\n",
    "# interval in which we seek the solution \n",
    "a = 0.7\n",
    "b = 1.\n",
    "\n",
    "# initial points\n",
    "x0 = (a+b)/2.0\n",
    "x00 = b\n"
   ]
  },
  {
   "cell_type": "code",
   "execution_count": 4,
   "metadata": {},
   "outputs": [],
   "source": [
    "# stopping criteria\n",
    "eps = 1e-10\n",
    "n_max = 1000"
   ]
  },
  {
   "cell_type": "markdown",
   "metadata": {},
   "source": [
    "## Bisection method\n",
    "\n",
    "$$\n",
    "x^k = \\frac{a^k+b^k}{2}\n",
    "$$\n",
    "```\n",
    "                   if (f(a_k) * f(x_k)) < 0:\n",
    "                      b_k1 = x_k\n",
    "                      a_k1 = a_k\n",
    "                   else:\n",
    "                      a_k1 = x_k\n",
    "                      b_k1 = b_k\n",
    "```"
   ]
  },
  {
   "cell_type": "code",
   "execution_count": 5,
   "metadata": {},
   "outputs": [
    {
     "name": "stdout",
     "output_type": "stream",
     "text": [
      "32\n",
      "0.9061798459501006\n",
      "7.857261621871514e-11\n"
     ]
    },
    {
     "data": {
      "image/png": "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\n",
      "text/plain": [
       "<Figure size 432x288 with 1 Axes>"
      ]
     },
     "metadata": {},
     "output_type": "display_data"
    }
   ],
   "source": [
    "def bisect(f,a,b,eps,n_max):\n",
    "    assert(f(a) * f(b) < 0)\n",
    "    a_new = a\n",
    "    b_new = b\n",
    "    x = mean([a,b])\n",
    "    err = eps + 1.\n",
    "    errors = [err]\n",
    "    it = 0\n",
    "    while (err > eps and it < n_max):\n",
    "        if ( f(a_new) * f(x) < 0 ):\n",
    "            # root in (a_new,x)\n",
    "            b_new = x\n",
    "        else:\n",
    "            # root in (x,b_new)\n",
    "            a_new = x\n",
    "        \n",
    "        x_new = mean([a_new,b_new])\n",
    "        \n",
    "        #err = 0.5 *(b_new -a_new)\n",
    "        err = abs(f(x_new))\n",
    "        #err = abs(x-x_new)\n",
    "        \n",
    "        errors.append(err)\n",
    "        x = x_new\n",
    "        it += 1\n",
    "    \n",
    "    semilogy(errors)\n",
    "    print(it)\n",
    "    print(x)\n",
    "    print(err)\n",
    "    return errors\n",
    "              \n",
    "errors_bisect = bisect(f,a,b,eps,n_max)    "
   ]
  },
  {
   "cell_type": "code",
   "execution_count": 6,
   "metadata": {},
   "outputs": [],
   "source": [
    "# is the number of iterations coherent with the theoretical estimation?"
   ]
  },
  {
   "cell_type": "markdown",
   "metadata": {},
   "source": [
    "In order to find out other methods for solving non-linear equations, let's compute the Taylor's series of $f(x^k)$ up to the first order \n",
    "\n",
    "$$\n",
    "f(x^k) \\simeq f(x^k) + (x-x^k)f^{\\prime}(x^k)\n",
    "$$\n",
    "which suggests the following iterative scheme\n",
    "$$\n",
    "x^{k+1} = x^k - \\frac{f(x^k)}{f^{\\prime}(x^k)}\n",
    "$$\n",
    "\n",
    "The following methods are obtained applying the above scheme where\n",
    "\n",
    "$$\n",
    "f^{\\prime}(x^k) \\approx q^k\n",
    "$$"
   ]
  },
  {
   "cell_type": "markdown",
   "metadata": {},
   "source": [
    "## Newton's method\n",
    "$$\n",
    "q^k = f^{\\prime}(x^k)\n",
    "$$\n",
    "\n",
    "$$\n",
    "x^{k+1} = x^k - \\frac{f(x^k)}{q^k}\n",
    "$$"
   ]
  },
  {
   "cell_type": "code",
   "execution_count": 12,
   "metadata": {},
   "outputs": [
    {
     "name": "stdout",
     "output_type": "stream",
     "text": [
      "5\n",
      "0.9061798459386647\n",
      "5.633945684709343e-15\n",
      "CPU times: user 6.77 ms, sys: 10.1 ms, total: 16.8 ms\n",
      "Wall time: 15.8 ms\n"
     ]
    },
    {
     "data": {
      "image/png": "iVBORw0KGgoAAAANSUhEUgAAAYQAAAD8CAYAAAB3u9PLAAAABHNCSVQICAgIfAhkiAAAAAlwSFlzAAALEgAACxIB0t1+/AAAADl0RVh0U29mdHdhcmUAbWF0cGxvdGxpYiB2ZXJzaW9uIDMuMC4wLCBodHRwOi8vbWF0cGxvdGxpYi5vcmcvqOYd8AAAIABJREFUeJzt3Xl41PW99vH3JztJIEAIi9kgbAIRBSOCtFartWgRUHusWOjjo6c8Vjmn55xej8daq8dW257Tp+1pq0dLq7UuxVqtQF1brSubBEQJsiPZBBN2whaSfJ4/MmJI2SQz88vM3K/rmgvmm9/M3HN5yZ3vb/uauyMiIpIUdAAREekcVAgiIgKoEEREJESFICIigApBRERCVAgiIgKoEEREJESFICIigApBRERCUoIO8Gn06tXL+/fvH3QMEZGYsnTp0q3unnei7WKqEPr37095eXnQMUREYoqZVZ7MdtplJCIigApBRERCVAgiIgKoEEREJESFICIigApBRERCVAgiIgLE2HUIp+rDnfv5/eIqSvKyKMnLpiQvi24ZqUHHEhHpVBKiENbXNXD/6xtobvlk/ei8rumU9GotiIF5Wa1l0Subgh5dSEnWxElEEk9CFML5Q/JY9b0JVG3fx8b6BjZu3cuGutY/X6zYzI59hw5vm5acRHFu5ieziTal0T0zLcBvISISWQlRCABpKUkM6p3NoN7Zf/ezHXsb2bi1gQ31e9lYv5cN9Q2sr2vgb6vrONT8yayiZ1Za62yiV/YRu5+KemaSqlmFiMS4hCmE4+mRlcbZWT05u7jnEeNNzS1U79jfOquo39taGnV7eWX1R/yhvPHwdilJRlHP1lnFwLzsI2YXPbPSMLNofyURkU9NhXAcKclJDOiVxYBeWVw07Mif7dp/6Iii+Hhm8cbarTQ2txzeLqdL6uHjEwN7h/7My6IoN5P0lOQofyMRkWNTIZyinC6pjCrqwaiiHkeMN7c4tTv2syFUEh+Xxpvr6nl6Wc3h7ZIMCntmHj5G0XZ2kZedrlmFiESdCiHMkpOMotxMinIzuXDokT/bc+AQH2zde7goNoQObi/YsI2DTZ/MKrqmp/zdQe2SvNaZSkaqZhUiEhkqhCjqmpHKyILujCzofsR4S4vz4a79n8woQqWxaOM2nnmn9vB2ZpDfvcvhohjY5sB2324ZmlWISIeoEDqBpCSjoEcmBT0yOX/IkYsa7WtsCh2n2HvEMYvyTdvZ19h8eLvMtOTDxyo+nl0M7t360HUVInIyVAidXGZaCqX5OZTm5xwx7u5s2X3gk91PodJYVrWDP7/3Ie4fvz6Zswq7M7qoB2cX92BUUXddTyEiRxVoIZhZCfAdIMfdvxxkllhjZvTL6UK/nC6MH9TriJ8dONTMB1v3smbLHt6p2sHSqh1HXKk9MC+Ls4t7HC6JgXnZJCVpd5NIojN3P/FWR3uh2UPARKDO3UvbjE8Afg4kA79x9x+dxHs9dTKFUFZW5lpT+dTsa2zi3epdLKvawbLK1pLYGbpCu1tGCqNC5TC6qAdnFXUnO12TR5F4YWZL3b3sRNt15P/6h4F7gUfafGgycB/wBaAGWGJm82gthx+2e/317l7Xgc+XTyEzLYVxA3MZNzAXaN3ltHHrXpZV7giVxE5+9vJa3FtPiR3SpytnF39SEsW5mTpoLRLnTrkQ3P0NM+vfbngMsN7dNwKY2RPAZHf/Ia2zCekkzIyBedkMzMvmH8oKgdaL7ZZX7zxcEvOWf8jji6sAyM1KOzyLOLu4ByMLcnQKrEicCfd+gXygus3zGuDcY21sZrnAPcAoM/t2qDjabzMDmAFQVFQU3rRyhJwuqXxuSB6fC53p1NzirKvbw9LK1hnEsqodvLzqI6D1dh0jTuvG6DbHIk7r3iXI+CLSQYHuKHb3bcCNJ9hmFjALWo8hRCOXtEpOMk7v243T+3bjq+cWA7Ct4SDvVLWWw9LKHcx+u4rfzt8EQN9uGYfPZDq7uAcjTsshLUWnvIrEinAXQi1Q2OZ5QWhM4kRudjoXD+/DxcP7AHCouYXVm/ewtHI7y6p2srRyB8+t2Ay03mF2ZH5O63GI0Ewir2t6kPFF5DhO+SwjgNAxhGc/PsvIzFKAtcBFtBbBEuBad1/Z4aToLKNY8dHuA61nMoWORVTU7j58w7+inpmMDs0gRhf3YGifrrpwTiTCIn6WkZnNBi4AeplZDXCnuz9oZjOBl2g9s+ihcJWBxI4+3TK49Ix+XHpGP6D1uoiVH+5iWWXrDGL+hm3MWf4hoAvnRDqTDs0Qok0zhPjg7tTs2H/ENRGrNu/RhXMiEXKyMwQVgnQKunBOJHKicWGaSNgc7cK5D7buPXwcov2Fc0P7dvvkWIQunBMJC80QJGbsPnCI5aEzmZZV7WB51U72HGwCWi+cG13cg7EluVw5Kp8eWToOIfIx7TKSuPfxhXMfH6x+p2oHG7fuJS0liYkj+zF9bDFnFXbXzEESngpBEtKaLXt4bFElz7xTS8PBJkrzuzF9bDGTzsynS5putSGJSYUgCa3hYBNz3qnlsUWVrN6yh64ZKXz57AKmjS1mYF520PFEokqFIELrwenyyh08urCSFyo2c6jZGT8ol+lji7l4WB9dFCcJQYUg0k79noM8WV7N7xdXUbtzP326pTN1TBFTxxTRp1tG0PFEIkaFIHIMzS3Oq6vreHRRJa+vrSc5yfjiiD5MG1vMuJJcHYSWuKPrEESOITnJDt+gr3LbXh5fXMWT5dU8v2ILA/OymDa2mCtHF5DTJTXoqCJRpRmCCK33W3ruvc08uqiS5dU76ZKazJRRpzFtbDEjTssJOp5Ih2iXkcgpqqjdxWOLKpmzvJYDh1oYXdSdaWOLueyMflolTmKSCkGkg3btO8TTy2p4bFElG7fupUdmKlefU8hXxxRTlJsZdDyRk6ZCEAkTd2fBhm08urCSv676iBZ3LhiSx7SxxVwwtDfJuhOrdHIqBJEI2LLrALPfrmL221XU7TlIfvcufHVsEVeXFdIrW6vBSeekQhCJoEPNLfz1/Y94dGElCzduIy05icvO6Mv0ccWMLuqhU1elU1EhiETJ+ro9PLaoiqeX1rDnYBOn9+3K9HHFTDkrnyyt2yCdgApBJMr2NTYxd/mHPLqwkvc37yY7PYWrRuczbWwxg/t0DTqeJLCYKAQzGwZ8E+gFvOLu9x9vexWCxAJ3Z1nVTh5fVMmz722msbmFcwf0ZPq4Yi4Z3pe0FN0/SaIr4oVgZg8BE4E6dy9tMz4B+DmQDPzG3X90Eu+VBDzi7tOOt50KQWLNtoaD/HFpDY8vrqR6+37yuqYz9ZxCpp5bRL+cLkHHkwQRjUI4H2ig9R/y0tBYMrAW+AJQAywBptJaDj9s9xbXu3udmU0CvgE86u6/P95nqhAkVjW3OG+sreexRZX8bU0dBlw8rA/TxxUzfmAvknTqqkRQVHYZmVl/4Nk2hTAO+A93/2Lo+bcB3L19GRztvZ5z9y8dbxsVgsSD6u37+P3bVfxhSTXb9zYyoFcWXz23iH84u5CcTN0/ScIvqJvb5QPVbZ7XAOcea2MzuwC4EkgHnj/GNjOAGQBFRUXhyikSmMKemfz7hNP5l4sH88KKLTy2qJK7n1vFj19aw6QzT2P6uGJGFnQPOqYkoEDPiXP314DXTrDNLGAWtM4QIp9KJDrSU5KZMiqfKaPyef/D3Ty2uJI579Tyx6U1nFmQw7SxxVx+5mm6f5JETbhPd6gFCts8LwiNichxDD+tGz+44gwW3XYRd00awd7GZv7vU+9x7g9e4e5n3+eDrXuDjigJINzHEFJoPah8Ea1FsAS41t1XdjgpOoYgicPdWfzBdh5dVMlLFVtoanE+O7gX08cW8/nTe2vpT/lUIn4MwcxmAxcAvcysBrjT3R80s5nAS7SeWfRQuMpAJJGYGWNLchlbkkvd7gM8saR16c8Zjy7ltJwMpo4p4itjCundVUt/SvjoSmWRGNHU3MLLq+p4fHElb67bSkqSMaG0L1//bAlnFuogtBybltAUiTMpyUlMKO3LhNK+bKxv4PHFVfyxvJoXKrZw5+XDmT62WDfVkw7RjkiRGFSSl813Jw5n/q2f58KhedwxdyW3PVNBY1NL0NEkhqkQRGJY14xUZk0v4+YLBzL77SqmPbiYbQ0Hg44lMUqFIBLjkpKM//vF0/n5NWfxbvVOJt07n1WbdwcdS2KQCkEkTkw+K58/3jiO5hbnqvsX8GLFlqAjSYxRIYjEkZEF3Zk3czxD+nTlxseW8otX1hFLZxJKsFQIInGmd7cMnpgxlitH5fPTv65l5u/fYV9jU9CxJAaoEETiUEZqMj+5+ky+c9kwXqjYzJfvX0jtzv1Bx5JOToUgEqfMjK+fX8KD151D9fZ9TPrlW5Rv2h50LOnEVAgice7Cob155ubxdOuSytRfL+LJJdUnfpEkJBWCSAIY1DubOTeNZ2xJLrc8/R53/XklTc26iE2OpEIQSRA5man89rpzuH78AH47fxP/++El7Np3KOhY0omoEEQSSEpyEndcPpz/umokizZuY/J9b7G+bk/QsaSTUCGIJKCrzylk9tfH0nCwiSvuW8Crq+uCjiSdgApBJEGV9e/J3JmfobBnJtf/bgm/en2DLmJLcCoEkQSW370LT31jHJeV9uOHL6zmW0++y4FDzUHHkoCoEEQSXGZaCvdeO4pvfWEIf3qnlq/MWsRHuw8EHUsCoEIQEcyMf7poMA9MO5t1H+1h0r1v8W71zqBjSZQFWghmdoGZvWlmD5jZBUFmERGYUNqXp79xHilJSVz9q4XMXV4bdCSJolMuBDN7yMzqzKyi3fgEM1tjZuvN7NYTvI0DDUAGUHOqWUQkfIb168a8meM5s7A733xiOf/54mqaW3SwORF0ZIbwMDCh7YCZJQP3AZcCw4GpZjbczM4ws2fbPXoDb7r7pcC/A3d1IIuIhFFudjqP3XAuU8cUcf9rG5jxSDl7Dugitnh3yoXg7m8A7e+UNQZY7+4b3b0ReAKY7O4r3H1iu0edu3987fwOIP1Us4hI+KWlJPGDK0r5/uQRvLa2niv/ZwGV2/YGHUsiKNzHEPKBtnfOqgmNHZWZXWlmvwIeBe49xjYzzKzczMrr6+vDGlZEjs/MmD6uP49eP4b6hoNMunc+89dvDTqWREigB5Xd/U/u/n/c/Svu/toxtpnl7mXuXpaXlxflhCICcN6gXsy9eTy9u6bztYfe5ncLNukitjgU7kKoBQrbPC8IjYlIjCvOzeJPN53HhUPzuHPeSm57poLGJt0xNZ6EuxCWAIPNbICZpQHXAPPC/BkiEpCuGanMml7GTRcMZPbbVUz7zWK2NRwMOpaESUdOO50NLASGmlmNmd3g7k3ATOAlYBXwpLuvDE9UEekMkpKMWyaczs+vOYt3a3Yy6d75vP/h7qBjSRhYLO0HLCsr8/Ly8qBjiEjIezU7mfHIUnYfOMRPrz6TCaX9go4kR2FmS9297ETb6dYVInLKRhZ0Z97M8Qzp05UbH1vGz19eR4suYotZKgQR6ZDe3TJ4YsZYrhyVz89eXsvM2cvY19gUdCw5BSoEEemwjNRkfnL1mXznsmG8WLGFL9+/kNqd+4OOJZ+SCkFEwsLM+Pr5JTx43TlUb9/HpF++xZJN7W9mIJ2ZCkFEwurCob155ubxdOuSyrW/XsQfllQFHUlOkgpBRMJuUO9s5tw0nrElufz70yv4j3kraWrWRWydnQpBRCIiJzOV3153DtePH8DDCzZx3W+XsHNfY9Cx5DhUCCISMSnJSdxx+XD+66qRLP5gG1Pum8/6uj1Bx5JjUCGISMRdfU4hs78+loaDTUy5bwGvrq4LOpIchQpBRKKirH9P5s78DEU9M7n+d0v41esbdMfUTkaFICJRk9+9C099YxyXlfbjhy+s5t+efJcDh5qDjiUhKgQRiarMtBTuvXYU//aFITzzTi1fmbWIj3YfCDqWoEIQkQCYGf980WAemHY26z7aw6R73+Ld6p1Bx0p4KgQRCcyE0r48/Y3zSElK4h9+tZA572g9rSCpEEQkUMP6dWPezPGcVdidf/nDcn70wmqadcfUQKgQRCRwudnpPHbDuUwdU8QDr29gxiPl7DlwKOhYCUeFICKdQlpKEj+4opTvTx7Ba2vrueJ/FrBp696gYyUUFYKIdBpmxvRx/Xn0+jFsbTjI5PvmM3/91qBjJYxAC8HMPmtmD5jZb8xsQZBZRKTzOG9QL+bePJ7eXdP52kNv87sFm3QRWxScciGY2UNmVmdmFe3GJ5jZGjNbb2a3Hu893P1Nd78ReBb43almEZH4U5ybxZ9uOo8Lh+Zx57yV3PbMChqbdMfUSOrIDOFhYELbATNLBu4DLgWGA1PNbLiZnWFmz7Z79G7z0muB33cgi4jEoa4ZqcyaXsZNFwxk9tvVTPvNYrY1HAw6Vtw65UJw9zeA9sshjQHWu/tGd28EngAmu/sKd5/Y7lEHYGZFwC53P+otEM1shpmVm1l5fX39qcYVkRiVlGTcMuF0fn7NWbxbs5NJ985n1ebdQceKS+E+hpAPVLd5XhMaO54bgN8e64fuPsvdy9y9LC8vLwwRRSQWTT4rnz/eOI6mlhb+8Xfl7GtsCjpS3An8LCN3v9PddUBZRE5oZEF3fjl1NLU79/PLv60POk7cCXch1AKFbZ4XhMZERMJizICeXDW6gF+/sZF1H2mxnXAKdyEsAQab2QAzSwOuAeaF+TNEJMHddtnpZKWn8N25FTodNYw6ctrpbGAhMNTMaszsBndvAmYCLwGrgCfdfWV4ooqItMrNTueWCUNZtHE7c5ZrJ0S4pJzqC9196jHGnweeP+VEIiInYeo5RfyxvIZ7nlvF54f2ISczNehIMS/wg8oiIqciKcm4e0op2/c28uO/rA46TlxQIYhIzCrNz+Fr4/rz+OIqLbATBioEEYlp37pkCHnZ6dw+p0LrKHSQCkFEYlrXjFRunzicFbW7eHxxZdBxYpoKQURi3uUj+/GZQb348YtrqNtzIOg4MUuFICIxz8z43uQRHGxq4Z7nVgUdJ2apEEQkLpTkZXPj50qYu/xDFmhRnVOiQhCRuHHThYMo6pnJ7XMrONjUHHScmKNCEJG4kZGazF2TR7Cxfi+/efODoOPEHBWCiMSVC4f25tLSvvzilXVUb98XdJyYokIQkbhzx+XDSU4y7py3Uje/+xRUCCISd/rldOFfLx7C31bX8Zf3Pwo6TsxQIYhIXLpufH9O79uVu+atZO9Bra52MlQIIhKXUpOTuHtKKR/uOsAvXlkXdJyYoEIQkbhV1r8nV5cV8OBbH7Bmi1ZXOxEVgojEtVsvHUZ2RgrfnaPV1U5EhSAica1nVhq3Tjidtzdt5+llWl3teAItBDMbbmZPmtn9ZvblILOISPy6uqyQ0UXd+cHzq9i5rzHoOJ1WR9ZUfsjM6sysot34BDNbY2brzezWE7zNpcAv3f0bwNdONYuIyPEkJRn3XHEGu/Yf4j9fXBN0nE6rIzOEh4EJbQfMLBm4j9Z/6IcDU0OzgDPM7Nl2j97Ao8A1ZvZjILcDWUREjmtYv25cd15/nlhSxbKqHUHH6ZROuRDc/Q1ge7vhMcB6d9/o7o3AE8Bkd1/h7hPbPepCj5uBWwHdnlBEIupfvzCE3l3Tuf2ZCpqaW4KO0+mE+xhCPlDd5nlNaOyozKy/mc0CHgF+fIxtZphZuZmV19fXhzWsiCSW7PQU7pg4gvc37+bRRVpdrb1ADyq7+yZ3n+HuX3X3t46xzSx3L3P3sry8vGhHFJE4c9kZfTl/SB4/+ctaPtqt1dXaCnch1AKFbZ4XhMZERDoFM+N7k0bQ2NzC9599P+g4nUq4C2EJMNjMBphZGnANMC/MnyEi0iH9e2Vx0wUDefa9zby5TruiP9aR005nAwuBoWZWY2Y3uHsTMBN4CVgFPOnuK8MTVUQkfG783ED652Zyx9yVHDik1dWgY2cZTXX3fu6e6u4F7v5gaPx5dx/i7gPd/Z7wRRURCZ+M1GS+N7mUD7buZdYbG4OO0yno1hUikrDOH5LHl0b2495X11O5bW/QcQKnQhCRhHbHxOGkJSdxx1ytrqZCEJGE1qdbBv/6hSG8vraeFyu2BB0nUCoEEUl4/2tcMcP6deOuP79PQwKvrqZCEJGElxJaXW3L7gP8/OW1QccJjApBRAQ4u7gHU8cU8tD8TazavDvoOIFQIYiIhNzyxdPJ6ZLK7XMqaGlJvAPMKgQRkZAeWWnceunpLK3cwVNLa4KOE3UqBBGRNr48uoBz+vfghy+sYsfexFpdTYUgItJGUpJx95Qz2H2gif98cXXQcaJKhSAi0s7Qvl254TMDeGJJNUsr268DFr9UCCIiR/HNiwbTLyeD7yTQ6moqBBGRo8hKT+HOy4ezesseHl6wKeg4UaFCEBE5hi+O6MuFQ/P42V/XsnnX/qDjRJwKQUTkGMyMuyaV0tTi3P3sqqDjRJwKQUTkOIpyM5l54SCeW7GZ19fG9+pqKgQRkROY8bkSSnplccfcirheXU2FICJyAukpyXx/SimV2/Zx/2sbgo4TMVErBDMrMbMHzeyp442JiHRG4wf1YtKZp3H/axv4YGt8rq52UoVgZg+ZWZ2ZVbQbn2Bma8xsvZnderz3cPeN7n7DicZERDqr2780jPSUJO6YWxGXq6ud7AzhYWBC2wEzSwbuAy4FhgNTzWy4mZ1hZs+2e/QOa2oRkQD07pbBty4ZwpvrtvLcis1Bxwm7kyoEd38DaH/99hhgfei3/EbgCWCyu69w94ntHnVhzi0iEojp4/oz4rRufO/P77PnwKGg44RVR44h5APVbZ7XhMaOysxyzewBYJSZfftYY0d53QwzKzez8vr6+D7lS0Q6v+Qk454rzqC+4SA/++u6oOOEVUq0PsjdtwE3nmjsKK+bBcwCKCsri7+ddiISc84q7M61Y4p4eMEHXHV2PiNOywk6Ulh0ZIZQCxS2eV4QGhMRiXu3fPF0emSmxdXqah0phCXAYDMbYGZpwDXAvPDEEhHp3HIyU7ntsmG8U7WTP5RXn/gFMeBkTzudDSwEhppZjZnd4O5NwEzgJWAV8KS7r4xcVBGRzuXK0fmMGdCTH72wmm0NB4OO02Ene5bRVHfv5+6p7l7g7g+Gxp939yHuPtDd74lsVBGRzsXMuHtKKXsPNvGjF2J/dTXdukJEpAOG9OnKP362hD8urWHJptheXU2FICLSQf980SDyu3fh9mcqOBTDq6upEEREOigzrXV1tTUf7eG38z8IOs4pUyGIiITBJSP6cvGw3vz3y+v4cGdsrq6mQhARCZM7Lx9Bizvf+/P7QUc5JSoEEZEwKeyZyT99fjAvrtzCq6tj7xZuKgQRkTD6+mdLGJiXxR3zYm91NRWCiEgYpaUk8f0ppVRv3899r64POs6nokIQEQmz8wb24opR+Tzw+gY21DcEHeekqRBERCLgtsuGkZGaHFOrq6kQREQiIK9rOrd8cSjz129j3rsfBh3npKgQREQi5NpzixlZkMPdz61idwysrqZCEBGJkOSk1pvfbW04yE//sjboOCekQhARiaCRBd2ZPraYRxZuoqJ2V9BxjkuFICISYd+6ZCg9s9L5zjMraO7Eq6upEEREIiynSyq3f2kY79bsYvbbVUHHOSYVgohIFEw+6zTGleTyXy+upn5P51xdTYUgIhIFZsb3p5Sy/1AzP3xhVdBxjipqhWBmJWb2oJk91WZsmJk9YGZPmdk3opVFRCQIg3pnM+P8Ev60rJZFG7cFHefvnFQhmNlDZlZnZhXtxieY2RozW29mtx7vPdx9o7vf0G5slbvfCFwNjP+04UVEYs3MCwdT0KML351TQWNT51pd7WRnCA8DE9oOmFkycB9wKTAcmGpmw83sDDN7tt2j97He2MwmAc8Bz5/SNxARiSFd0pK5a9II1tU18OBbnWt1tZMqBHd/A2i/evQYYH3oN/9G4AlgsruvcPeJ7R7HvDG4u89z90uBr57qlxARiSUXDevDJcP78ItX1lGzY1/QcQ7ryDGEfKC6zfOa0NhRmVmumT0AjDKzb4fGLjCzX5jZrzjGDMHMZphZuZmV19fXdyCuiEjnceekEQDc1YlWV0uJ1ge5+zbgxnZjrwGvneB1s4BZAGVlZZ33ig4RkU8hv3sXvnnxYH70wmpefv8jLh7eJ+hIHZoh1AKFbZ4XhMZEROQk3PCZAQzunc2d81ayvzH41dU6UghLgMFmNsDM0oBrgHnhiSUiEv9Sk5O4e0optTv388u/rQs6zkmfdjobWAgMNbMaM7vB3ZuAmcBLwCrgSXdfGbmoIiLx59ySXK4aXcCv39zI+ro9gWaxWFnJB1qPIZSXlwcdQ0QkrLY1HOTzP3mdYf26MvvrYzGzsL6/mS1197ITbadbV4iIBCw3O51bJgxl0cbtzFke3KFYFYKISCcw9Zwizizszj3PrWLX/mBWV1MhiIh0AklJxj1TStm+t5H/99KaYDIE8qkiIvJ3SvNz+Nq4/jy2uJJ3q3dG/fNVCCIinci3LhlCXnY6t8+piPrqaioEEZFOpGtGKrdPHM6K2l08vrgyqp+tQhAR6WQuH9mPzwzqxY9fWkPdngNR+1wVgohIJ2NmfG/yCA4eauEHz0VvdTUVgohIJ1SSl82NnythzvIPWbB+a1Q+U4UgItJJ3XThIIp6ZnL73OisrqZCEBHppDJSk7lr8gg21u/l129ujPjnqRBERDqxC4f25ppzCundNT3inxW1BXJEROTU/OiqkVH5HM0QREQEUCGIiEiICkFERAAVgoiIhKgQREQEUCGIiEiICkFERAAVgoiIhJh7dBdg6AgzqwdO9QbhvYDo3CGq89B3Tgz6zomhI9+52N3zTrRRTBVCR5hZubuXBZ0jmvSdE4O+c2KIxnfWLiMREQFUCCIiEpJIhTAr6AAB0HdODPrOiSHi3zlhjiGIiMjxJdIMQUREjiMhCsHMJpjZGjNbb2a3Bp0n0szsITOrM7OKoLNEi5kVmtmrZva+ma00s28GnSnSzCzDzN42s3dD3/muoDNFg5klm9k7ZvZs0Fmiwcw2mdkKM1tuZuUR/ax432VkZslLVgR6AAACLElEQVTAWuALQA2wBJjq7u8HGiyCzOx8oAF4xN1Lg84TDWbWD+jn7svMrCuwFJgS5/+dDchy9wYzSwXeAr7p7osCjhZRZvZvQBnQzd0nBp0n0sxsE1Dm7hG/7iIRZghjgPXuvtHdG4EngMkBZ4ood38D2B50jmhy983uviz09z3AKiA/2FSR5a0aQk9TQ4+4/g3PzAqALwG/CTpLPEqEQsgHqts8ryHO/6FIdGbWHxgFLA42SeSFdp8sB+qAv7p7vH/n/wZuAVqCDhJFDvzFzJaa2YxIflAiFIIkEDPLBp4G/sXddwedJ9LcvdndzwIKgDFmFre7CM1sIlDn7kuDzhJln3H30cClwM2hXcIRkQiFUAsUtnleEBqTOBPaj/408Li7/ynoPNHk7juBV4EJQWeJoPHApNA+9SeAz5vZY8FGijx3rw39WQc8Q+tu8IhIhEJYAgw2swFmlgZcA8wLOJOEWegA64PAKnf/adB5osHM8syse+jvXWg9cWJ1sKkix92/7e4F7t6f1v+P/+bu0wKOFVFmlhU6SQIzywIuASJ29mDcF4K7NwEzgZdoPdD4pLuvDDZVZJnZbGAhMNTMaszshqAzRcF4YDqtvzUuDz0uCzpUhPUDXjWz92j9xeev7p4Qp2ImkD7AW2b2LvA28Jy7vxipD4v7005FROTkxP0MQURETo4KQUREABWCiIiEqBBERARQIYiISIgKQUREABWCiIiEqBBERASA/w+Fc5ML6wpOdgAAAABJRU5ErkJggg==\n",
      "text/plain": [
       "<Figure size 432x288 with 1 Axes>"
      ]
     },
     "metadata": {},
     "output_type": "display_data"
    }
   ],
   "source": [
    "def newton(f,f_prime,x0,eps,n_max):\n",
    "    x_new = x0\n",
    "    err = eps + 1.\n",
    "    errors = [err]\n",
    "    it = 0\n",
    "    while (err > eps and it < n_max):\n",
    "        x_new = x_new - (f(x_new)/f_prime(x_new))\n",
    "        err = abs(f(x_new))\n",
    "        errors.append(err)\n",
    "        it += 1\n",
    "    semilogy(errors)\n",
    "    print(it)\n",
    "    print(x_new)\n",
    "    print(err)\n",
    "    return errors\n",
    "\n",
    "%time errors_newton = newton(f,f_prime,1.0,eps,n_max)"
   ]
  },
  {
   "cell_type": "markdown",
   "metadata": {},
   "source": [
    "## Chord method\n",
    "\n",
    "$$\n",
    "q^k \\equiv q = \\frac{f(b)-f(a)}{b-a}\n",
    "$$\n",
    "\n",
    "$$\n",
    "x^{k+1} = x^k - \\frac{f(x^k)}{q}\n",
    "$$"
   ]
  },
  {
   "cell_type": "code",
   "execution_count": 13,
   "metadata": {
    "autoscroll": "json-false",
    "ein.tags": [
     "worksheet-0"
    ],
    "slideshow": {
     "slide_type": "-"
    }
   },
   "outputs": [
    {
     "name": "stdout",
     "output_type": "stream",
     "text": [
      "31\n",
      "0.9061798459502479\n",
      "7.958511674322147e-11\n"
     ]
    },
    {
     "data": {
      "image/png": "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\n",
      "text/plain": [
       "<Figure size 432x288 with 1 Axes>"
      ]
     },
     "metadata": {},
     "output_type": "display_data"
    }
   ],
   "source": [
    "def chord(f,a,b,x0,eps,n_max):\n",
    "    x_new = x0\n",
    "    err = eps + 1.\n",
    "    errors = [err]\n",
    "    it = 0\n",
    "    while (err > eps and it < n_max):\n",
    "        x_new = x_new - (f(x_new)/((f(b) - f(a)) / (b - a)))\n",
    "        err = abs(f(x_new))\n",
    "        errors.append(err)\n",
    "        it += 1\n",
    "    semilogy(errors)\n",
    "    print(it)\n",
    "    print(x_new)\n",
    "    print(err)\n",
    "    return errors\n",
    "\n",
    "errors_chord = chord (f,a,b,x0,eps,n_max)"
   ]
  },
  {
   "cell_type": "markdown",
   "metadata": {},
   "source": [
    "## Secant method\n",
    "\n",
    "$$\n",
    "q^k = \\frac{f(x^k)-f(x^{k-1})}{x^k - x^{k-1}}\n",
    "$$\n",
    "\n",
    "$$\n",
    "x^{k+1} = x^k - \\frac{f(x^k)}{q^k}\n",
    "$$\n",
    "\n",
    "Note that this algorithm requirs **two** initial points"
   ]
  },
  {
   "cell_type": "code",
   "execution_count": 15,
   "metadata": {},
   "outputs": [
    {
     "name": "stdout",
     "output_type": "stream",
     "text": [
      "7\n",
      "0.906179845938664\n",
      "0.0\n"
     ]
    },
    {
     "data": {
      "image/png": "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\n",
      "text/plain": [
       "<Figure size 432x288 with 1 Axes>"
      ]
     },
     "metadata": {},
     "output_type": "display_data"
    }
   ],
   "source": [
    "def secant(f,x0,x00,eps,n_max):\n",
    "    xk = x00\n",
    "    x_new = x0\n",
    "    err = eps + 1.\n",
    "    errors = [err]\n",
    "    it = 0\n",
    "    while (err > eps and it < n_max):\n",
    "        temp = x_new\n",
    "        x_new = x_new - (f(x_new)/((f(x_new)-f(xk))/(x_new - xk)))\n",
    "        xk = temp\n",
    "        err = abs(f(x_new))\n",
    "        errors.append(err)\n",
    "        it += 1\n",
    "    semilogy(errors)\n",
    "    print(it)\n",
    "    print(x_new)\n",
    "    print(err)\n",
    "    return errors\n",
    "    \n",
    "errors_secant = secant(f,x0,x00,eps,n_max)"
   ]
  },
  {
   "cell_type": "markdown",
   "metadata": {},
   "source": [
    "## Fixed point iterations\n",
    "\n",
    "$$\n",
    "f(x)=0 \\to x-\\phi(x)=0\n",
    "$$\n",
    "\n",
    "$$\n",
    "x^{k+1} = \\phi(x^k)\n",
    "$$"
   ]
  },
  {
   "cell_type": "code",
   "execution_count": 17,
   "metadata": {},
   "outputs": [
    {
     "name": "stdout",
     "output_type": "stream",
     "text": [
      "11\n",
      "0.5384693101084483\n",
      "6.708269298482029e-12\n"
     ]
    },
    {
     "data": {
      "image/png": "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\n",
      "text/plain": [
       "<Figure size 432x288 with 1 Axes>"
      ]
     },
     "metadata": {},
     "output_type": "display_data"
    }
   ],
   "source": [
    "def fixed_point(phi,x0,eps,n_max):\n",
    "    x_new = x0\n",
    "    err = eps + 1.\n",
    "    errors = [err]\n",
    "    it = 0\n",
    "    while (err > eps and it < n_max):\n",
    "        x_new = phi(x_new)\n",
    "        err = abs(f(x_new))\n",
    "        errors.append(err)\n",
    "        it += 1\n",
    "    semilogy(errors)\n",
    "    print(it)\n",
    "    print(x_new)\n",
    "    print(err)\n",
    "    return errors\n",
    "\n",
    "errors_fixed = fixed_point(phi,0.3,eps,n_max)\n",
    "        "
   ]
  },
  {
   "cell_type": "markdown",
   "metadata": {},
   "source": [
    "## Comparison"
   ]
  },
  {
   "cell_type": "code",
   "execution_count": 18,
   "metadata": {},
   "outputs": [
    {
     "data": {
      "image/png": "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\n",
      "text/plain": [
       "<Figure size 432x288 with 1 Axes>"
      ]
     },
     "metadata": {},
     "output_type": "display_data"
    }
   ],
   "source": [
    "# plot the error convergence for the methods\n",
    "loglog(errors_bisect, label='bisect')\n",
    "loglog(errors_chord, label='chord')\n",
    "loglog(errors_secant, label='secant')\n",
    "loglog(errors_newton, label ='newton')\n",
    "loglog(errors_fixed, label ='fixed')\n",
    "_ = legend()"
   ]
  },
  {
   "cell_type": "code",
   "execution_count": null,
   "metadata": {},
   "outputs": [],
   "source": [
    "# Let's compare the scipy implmentation of Newton's method with our.."
   ]
  },
  {
   "cell_type": "code",
   "execution_count": 19,
   "metadata": {},
   "outputs": [
    {
     "name": "stdout",
     "output_type": "stream",
     "text": [
      "CPU times: user 12 µs, sys: 11 µs, total: 23 µs\n",
      "Wall time: 26.5 µs\n"
     ]
    },
    {
     "data": {
      "text/plain": [
       "0.906179845938664"
      ]
     },
     "execution_count": 19,
     "metadata": {},
     "output_type": "execute_result"
    }
   ],
   "source": [
    "import scipy.optimize as opt\n",
    "%time opt.newton(f, 1.0, f_prime, tol = eps)"
   ]
  },
  {
<<<<<<< HEAD
   "cell_type": "markdown",
   "metadata": {
    "collapsed": true
   },
   "source": [
    "We see that the scipy method is 1000 times slower than the `scipy` one"
   ]
  },
  {
=======
>>>>>>> upstream/master
   "cell_type": "code",
   "execution_count": null,
   "metadata": {},
   "outputs": [],
   "source": []
  }
 ],
 "metadata": {
  "anaconda-cloud": {},
  "kernelspec": {
   "display_name": "Python 3",
   "language": "python",
   "name": "python3"
  },
  "language_info": {
   "codemirror_mode": {
    "name": "ipython",
    "version": 3
   },
   "file_extension": ".py",
   "mimetype": "text/x-python",
   "name": "python",
   "nbconvert_exporter": "python",
   "pygments_lexer": "ipython3",
<<<<<<< HEAD
   "version": "3.7.1"
=======
   "version": "3.6.7"
>>>>>>> upstream/master
  },
  "name": "07_non_linear_equations.ipynb"
 },
 "nbformat": 4,
 "nbformat_minor": 1
}
