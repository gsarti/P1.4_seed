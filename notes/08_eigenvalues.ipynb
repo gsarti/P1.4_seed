{
 "cells": [
  {
   "cell_type": "markdown",
   "metadata": {},
   "source": [
    "# Eigenvalue and eigenvectors calculation\n",
    "\n",
    "$$\n",
    "A\\mathbf{x} = \\lambda \\mathbf{x}\n",
    "$$\n",
    "\n",
    "### Power method (vector iteration)\n",
    "- find the largest eigenvalue $\\lambda_{max}$\n",
    "\\begin{align}\n",
    "\\mathbf{q}_k & = \\frac{\\mathbf{z}_{k-1}}{\\|\\mathbf{z}_{k-1}\\|_2}\\\\\n",
    "\\mathbf{z}_k & = A\\mathbf{q}_{k}\\\\\n",
    "\\lambda_{max}^k & = \\mathbf{q}^T_k \\mathbf{z}_k\n",
    "\\end{align}"
   ]
  },
  {
   "cell_type": "code",
   "execution_count": null,
   "metadata": {},
   "outputs": [],
   "source": []
  },
  {
   "cell_type": "code",
   "execution_count": 4,
   "metadata": {},
   "outputs": [
    {
     "name": "stdout",
     "output_type": "stream",
     "text": [
      "[[128. -64.   0.   0.   0.   0.   0.   0.   0.]\n",
      " [-64. 128. -64.   0.   0.   0.   0.   0.   0.]\n",
      " [  0. -64. 128. -64.   0.   0.   0.   0.   0.]\n",
      " [  0.   0. -64. 128. -64.   0.   0.   0.   0.]\n",
      " [  0.   0.   0. -64. 128. -64.   0.   0.   0.]\n",
      " [  0.   0.   0.   0. -64. 128. -64.   0.   0.]\n",
      " [  0.   0.   0.   0.   0. -64. 128. -64.   0.]\n",
      " [  0.   0.   0.   0.   0.   0. -64. 128. -64.]\n",
      " [  0.   0.   0.   0.   0.   0.   0. -64. 128.]]\n",
      "[1. 1. 1. 1. 1. 1. 1. 1. 1.]\n",
      "error = 8.456086477502974e-06 iterations = 82\n",
      "lambda_max = 249.7352340857781\n",
      "numpy\n",
      "[249.73523409 231.55417528 203.23651229 167.55417528 128.\n",
      "   6.26476591  24.44582472  88.44582472  52.76348771]\n"
     ]
    }
   ],
   "source": [
    "%matplotlib inline\n",
    "from numpy import *\n",
    "from matplotlib.pyplot import *\n",
    "import numpy.linalg\n",
    "import scipy.linalg\n",
    "\n",
    "n = 9\n",
    "h = 1./(n-1)\n",
    "\n",
    "x=linspace(0,1,n)\n",
    "\n",
    "a = -ones((n-1,))\n",
    "b = 2*ones((n,))\n",
    "A = (diag(a, -1) + diag(b, 0) + diag(a, +1))\n",
    "\n",
    "A /= h**2\n",
    "\n",
    "print(A)\n",
    "\n",
    "\n",
    "\n",
    "z0 = ones_like(x)\n",
    "print(z0)\n",
    "\n",
    "\n",
    "def PM(A,z0,tol=1e-5,nmax=500):\n",
    "    q = z0/numpy.linalg.norm(z0,2)\n",
    "    it = 0\n",
    "    err = tol + 1.\n",
    "    while it < nmax and err > tol:\n",
    "        z = dot(A,q)\n",
    "        l = dot(q.T,z)\n",
    "        err = numpy.linalg.norm(z-l*q,2)\n",
    "        q = z/numpy.linalg.norm(z,2)\n",
    "        \n",
    "        it += 1\n",
    "    print(\"error =\", err, \"iterations =\", it)\n",
    "    print(\"lambda_max =\", l)\n",
    "    return l,q\n",
    "\n",
    "l,x = PM(A,z0)\n",
    "    \n",
    "l_np, x_np = numpy.linalg.eig(A)\n",
    "\n",
    "print(\"numpy\")\n",
    "print(l_np)"
   ]
  },
  {
   "cell_type": "markdown",
   "metadata": {},
   "source": [
    "### Power method with shift\n",
    "- find the eigenvalue $\\lambda$ **closest** to $\\mu$\n",
    "\\begin{align}\n",
    "M & = A-\\mu I\\\\\n",
    "M & = LU \\\\\n",
    "& \\\\\n",
    "M\\mathbf{x}_k &= \\mathbf q_{k-1}\\\\\n",
    "\\mathbf{q}_k & = \\frac{\\mathbf{x}_k}{\\|\\mathbf{x}_k\\|_2}\\\\\n",
    "\\mathbf{z}_k & = A\\mathbf{q}_{k}\\\\\n",
    "\\lambda^k & = \\mathbf{q}^T_k \\mathbf{z}_k\n",
    "\\end{align}\n"
   ]
  },
  {
   "cell_type": "code",
   "execution_count": 37,
   "metadata": {},
   "outputs": [
    {
     "name": "stdout",
     "output_type": "stream",
     "text": [
      "error = 8.49941671821064e-07 iterations = 2\n",
      "lambda_max = 6.264765914246636\n"
     ]
    }
   ],
   "source": [
    "def IPM(A,x0,mu,tol=1e-5,nmax=500):\n",
    "    M = A - mu * eye(A.shape[0])\n",
    "    Minv = numpy.linalg.inv(M)\n",
    "    y = x0/numpy.linalg.norm(x0, 2)\n",
    "    l = 1/dot(y.T,dot(Minv,y))\n",
    "    it = 0\n",
    "    err = tol + 1\n",
    "    while it < nmax and err > tol:\n",
    "        x = dot(Minv,y)\n",
    "        y = x/numpy.linalg.norm(x,2)\n",
    "        l_new = 1/dot(y.T,dot(Minv,y))\n",
    "        err = abs(l_new - l)\n",
    "        l = l_new\n",
    "        it += 1\n",
    "    print(\"error =\", err, \"iterations =\", it)\n",
    "    print(\"lambda_max =\", l + mu)\n",
    "    return l + mu,y\n",
    "    pass\n",
    "\n",
    "\n",
    "l,x = IPM(A,z0,6.)\n"
   ]
  },
  {
   "cell_type": "code",
   "execution_count": 14,
   "metadata": {},
   "outputs": [],
   "source": [
    "M = A - 6 * eye(A.shape[0])"
   ]
  },
  {
   "cell_type": "code",
   "execution_count": 16,
   "metadata": {},
   "outputs": [
    {
     "data": {
      "text/plain": [
       "9"
      ]
     },
     "execution_count": 16,
     "metadata": {},
     "output_type": "execute_result"
    }
   ],
   "source": [
    "A.shape[0]"
   ]
  },
  {
   "cell_type": "code",
   "execution_count": null,
   "metadata": {},
   "outputs": [],
   "source": []
  }
 ],
 "metadata": {
  "anaconda-cloud": {},
  "kernelspec": {
   "display_name": "Python 3",
   "language": "python",
   "name": "python3"
  },
  "language_info": {
   "codemirror_mode": {
    "name": "ipython",
    "version": 3
   },
   "file_extension": ".py",
   "mimetype": "text/x-python",
   "name": "python",
   "nbconvert_exporter": "python",
   "pygments_lexer": "ipython3",
   "version": "3.7.1"
  }
 },
 "nbformat": 4,
 "nbformat_minor": 1
}
