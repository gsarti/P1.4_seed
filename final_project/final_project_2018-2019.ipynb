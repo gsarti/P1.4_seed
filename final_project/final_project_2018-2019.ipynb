{
 "cells": [
  {
   "cell_type": "markdown",
   "metadata": {},
   "source": [
    "# Final project, Numerical Analysis 2018-2019\n",
    "\n",
    "\n",
    "## Project description\n",
    "\n",
    "In this project, we would like to compare the performance of some embarassingly simple algorithms to solve a classification problem based on the MNIST database. \n",
    "\n",
    "The abstract aim of the program is to write a function:\n",
    "\n",
    "```\n",
    "result = classify(image)\n",
    "```\n",
    "\n",
    "that takes as input a small grey scale image of a hand-written digit (from the MNIST database), and returns the digit corresponding to the content of the image.\n",
    "\n",
    "An example of the images we'll be working on is the following:\n",
    "\n",
    "![mnist examples](https://m-alcu.github.io/assets/mnist.png)\n",
    "\n",
    "Some background on the MNIST database (from wikipedia):\n",
    "\n",
    "\n",
    "## MNIST database\n",
    "\n",
    "*From Wikipedia, the free encyclopedia*\n",
    "\n",
    "The MNIST database (Modified National Institute of Standards and Technology database) is a large database of handwritten digits that is commonly used for training various image processing systems. The database is also widely used for training and testing in the field of machine learning. It was created by \"re-mixing\" the samples from NIST's original datasets. The creators felt that since NIST's training dataset was taken from American Census Bureau employees, while the testing dataset was taken from American high school students, it was not well-suited for machine learning experiments. Furthermore, the black and white images from NIST were normalized to fit into a 28x28 pixel bounding box and anti-aliased, which introduced grayscale levels.\n",
    "\n",
    "## MNIST sample images.\n",
    "\n",
    "The MNIST database contains 60,000 training images and 10,000 testing images. Half of the training set and half of the test set were taken from NIST's training dataset, while the other half of the training set and the other half of the test set were taken from NIST's testing dataset. There have been a number of scientific papers on attempts to achieve the lowest error rate; one paper, using a hierarchical system of convolutional neural networks, manages to get an error rate on the MNIST database of 0.23%. The original creators of the database keep a list of some of the methods tested on it. In their original paper, they use a support vector machine to get an error rate of 0.8%. An extended dataset similar to MNIST called EMNIST has been published in 2017, which contains 240,000 training images, and 40,000 testing images of handwritten digits and characters.\n",
    "\n",
    "## Algorithm\n",
    "\n",
    "We start by defining the distance between two images. Ideally, a distance function between two images is zero when the images are the same, and greater than zero when the images are different. \n",
    "\n",
    "The bigger the distance, the more different the images should be. Ideally, the distance between an image of the number `9` should be closer to an image of the number `8` than to an image of the number `1` (the digits `9` and `8`, as images, differ by the fact that the first has one closed loop, while the second has two closed loops, while the digit `1` is mostly a straight line). Two different images representing the same number should be even closer (i.e., the distance function should return a \"small\" number).\n",
    "\n",
    "Given a distance and a training set of images for which we know everything, the simplest algorithm we can think of to classify an image `z`, is the following: given a set of train images (`x_train`) for which we know the digit they represent (`y_train`), measure the distance between `z` and all images in `x_train`, and classify the image `z` to represent the same digit of the image that is closest to `z` in `x_train`:\n",
    "\n",
    "Parameters of the algorithm:\n",
    "\n",
    "- `x_train`\n",
    "- `y_train`\n",
    "- a distance function `dist`  \n",
    "\n",
    "Input of the function\n",
    "\n",
    "- `z`\n",
    "\n",
    "Output of the function\n",
    "\n",
    "- `digit`\n",
    "\n",
    "where \n",
    "\n",
    "```\n",
    "def classify(z):\n",
    "    all_distances = array([dist(x, z) for x in x_train])\n",
    "    digit = y_train[argmin(all_distances)]\n",
    "    return digit\n",
    "```\n",
    "\n",
    "We will experiment with different distances, and we will try to improve the algorithm above in a step by step fashon.\n",
    "\n",
    "## Data description\n",
    "\n",
    "Each image in the MNIST dataset represents a hand written digit, in the form of a matrix of `28x28` values between zero and one, representing gray scale values (zero = white, one = black).\n",
    "\n",
    "We use an array of `60.000x28x28` floating point values to collect all training images, and an array of `60.000` digits containing the (correct) value of the training digits (between 0 and 9 inclusive).\n",
    "\n",
    "The testing images are instead collected into two arrays of size `10.000x28x28` and `10.0000` respectively."
   ]
  },
  {
   "cell_type": "code",
   "execution_count": 1,
   "metadata": {},
   "outputs": [
    {
     "name": "stdout",
     "output_type": "stream",
     "text": [
      "Populating the interactive namespace from numpy and matplotlib\n"
     ]
    }
   ],
   "source": [
    "%pylab inline"
   ]
  },
  {
   "cell_type": "code",
   "execution_count": 2,
   "metadata": {},
   "outputs": [
    {
     "name": "stdout",
     "output_type": "stream",
     "text": [
      "(60000, 28, 28) (60000,)\n",
      "(10000, 28, 28) (10000,)\n"
     ]
    }
   ],
   "source": [
    "arc = load('mnist.npz')\n",
    "\n",
    "x_train = arc['arr_0']\n",
    "y_train = arc['arr_1']\n",
    "x_test  = arc['arr_2']\n",
    "y_test  = arc['arr_3']\n",
    "\n",
    "print(x_train.shape, y_train.shape)\n",
    "print(x_test.shape, y_test.shape)"
   ]
  },
  {
   "cell_type": "markdown",
   "metadata": {},
   "source": [
    "# Plotting one image\n",
    "\n",
    "How do we plot the images? `pyplot`, which has been imported by the first line of the previous cell, contains a command called `imshow`, that can be used to plot images. \n",
    "\n",
    "In this case we know it is a greyscale image, with zero representing white and one representing black, so we use a colormap that goes from white to black, i.e., `gray_r` where `_r` stands for reversed. "
   ]
  },
  {
   "cell_type": "code",
   "execution_count": 3,
   "metadata": {},
   "outputs": [
    {
     "data": {
      "image/png": "[encoded data removed]",
      "text/plain": [
       "<Figure size 432x288 with 1 Axes>"
      ]
     },
     "metadata": {},
     "output_type": "display_data"
    }
   ],
   "source": [
    "# Show image number 15, and write in the title what digit it should correspond to\n",
    "N=15\n",
    "imshow(x_train[N], cmap='gray_r')\n",
    "_ = title('Hand written digit '+str(y_train[N]))"
   ]
  },
  {
   "cell_type": "code",
   "execution_count": 4,
   "metadata": {},
   "outputs": [],
   "source": [
    "def classify(z, dist):\n",
    "    \"\"\"\n",
    "    Classifies observation z using the dist function to find \n",
    "    minimal distance with observations in the training set.\n",
    "    z -> A 28x28 matrix of values between 0 and 1\n",
    "    dist -> A function measuring distance between observations\n",
    "    \"\"\"\n",
    "    all_distances = array([dist(x, z) for x in x_train])\n",
    "    digit = y_train[argmin(all_distances)]\n",
    "    return digit"
   ]
  },
  {
   "cell_type": "markdown",
   "metadata": {},
   "source": [
    "**IF YOU DON'T HAVE ENOUGH COMPUTATIONAL POWER, RUN THE EXERCISES ONLY UP TO WHAT IS SUSTAINABLE FOR YOUR PC**\n",
    "\n",
    "General guidelines:\n",
    "\n",
    "- Time all functions you construct, and try to make them run as fast as possible by precomputing anything that can be precomputed\n",
    "- Extra points are gained if you reduce the complexity of the given algorithms in any possible way, for example by exploiting linearity, etc.\n",
    "- If something takes too long to execute, make sure you time it on a smaller set of input data, and give estimates of how long it would take to run the full thing (without actually running it). Plot only the results you manage to run on your PC.\n",
    "\n",
    "# Assignment 1\n",
    "\n",
    "Implement the following distance functions\n",
    "\n",
    "- d_infty $$ d_{\\infty}(a,b) := \\max_{i,j} |b_{ij}-a_{ij}|$$\n",
    "- d_one $$ d_1(a,b) := \\sum_{i,j} |b_{ij}-a_{ij}|$$\n",
    "- d_two $$ d_2(a,b) := \\sqrt{\\sum_{i,j} |b_{ij}-a_{ij}|^2}$$\n",
    "\n",
    "that take two `(28,28)` images in input, and return a non-negative number."
   ]
  },
  {
   "cell_type": "code",
   "execution_count": 5,
   "metadata": {},
   "outputs": [],
   "source": [
    "def d_infty(a,b):\n",
    "    \"\"\" Computes the infinity norm distance between a and b \"\"\"\n",
    "    return np.max(np.abs(b - a))\n",
    "\n",
    "def d_one(a,b):\n",
    "    \"\"\" Computes the l1 norm distance between a and b \"\"\"\n",
    "    return np.sum(np.abs(b - a))\n",
    "\n",
    "def d_two(a,b):\n",
    "    \"\"\" Computes the Euclidean norm distance between a and b \"\"\"\n",
    "    return sqrt(np.sum((b - a)**2))"
   ]
  },
  {
   "cell_type": "markdown",
   "metadata": {},
   "source": [
    "# Assignment 2\n",
    "\n",
    "Write a function that, given a number `N`, and a distance function `dist`, computes the distance matrix D of shape `(N,N)` between the first `N` entries of `x_train`:\n",
    "\n",
    "```\n",
    "D[i,j] = dist(x_train[i], x_train[j])\n",
    "```\n",
    "\n",
    "performing the **minimum** number of operations (i.e., avoid computing a distance if it has already been computed before, i.e., keep in mind that dist(a,b) = dist(b,a))."
   ]
  },
  {
   "cell_type": "code",
   "execution_count": 40,
   "metadata": {},
   "outputs": [],
   "source": [
    "def distance_matrix(N, dist):\n",
    "    \"\"\" \n",
    "    Computes the distance matrix D of shape (N,N) between\n",
    "    the first N entries of x_train using the dist function.\n",
    "    \"\"\"\n",
    "    D = zeros((N,N))\n",
    "    for i in range(N):\n",
    "        for j in range(i): # Diagonal is always 0\n",
    "            D[i,j] = dist(x_train[i], x_train[j])\n",
    "    return D + D.T"
   ]
  },
  {
   "cell_type": "markdown",
   "metadata": {},
   "source": [
    "# Assignment 3\n",
    "\n",
    "Compute and plot the three distance matrices\n",
    "\n",
    "- Dinfty\n",
    "- D1\n",
    "- D2\n",
    "\n",
    "for the first 100 images of the training set, using the function `imshow` applied to the three matrices"
   ]
  },
  {
   "cell_type": "code",
   "execution_count": 7,
   "metadata": {},
   "outputs": [
    {
     "name": "stdout",
     "output_type": "stream",
     "text": [
      "CPU times: user 33.4 ms, sys: 0 ns, total: 33.4 ms\n",
      "Wall time: 32.8 ms\n",
      "CPU times: user 31.3 ms, sys: 2.45 ms, total: 33.8 ms\n",
      "Wall time: 33.6 ms\n",
      "CPU times: user 47.9 ms, sys: 383 µs, total: 48.2 ms\n",
      "Wall time: 48.1 ms\n"
     ]
    }
   ],
   "source": [
    "%time D_infty = distance_matrix(100, d_infty)\n",
    "%time D_one = distance_matrix(100, d_one)\n",
    "%time D_two = distance_matrix(100, d_two)"
   ]
  },
  {
   "cell_type": "code",
   "execution_count": 8,
   "metadata": {},
   "outputs": [
    {
     "data": {
      "image/png": "[encoded data removed]",
      "text/plain": [
       "<Figure size 432x288 with 1 Axes>"
      ]
     },
     "metadata": {},
     "output_type": "display_data"
    }
   ],
   "source": [
    "imshow(D_infty, cmap=\"gray_r\")\n",
    "_ = title('Infinity norm distance matrix')"
   ]
  },
  {
   "cell_type": "code",
   "execution_count": 9,
   "metadata": {},
   "outputs": [
    {
     "data": {
      "image/png": "[encoded data removed]",
      "text/plain": [
       "<Figure size 432x288 with 1 Axes>"
      ]
     },
     "metadata": {},
     "output_type": "display_data"
    }
   ],
   "source": [
    "imshow(D_one, cmap=\"gray_r\")\n",
    "_ = title('L1 norm distance matrix')"
   ]
  },
  {
   "cell_type": "code",
   "execution_count": 10,
   "metadata": {},
   "outputs": [
    {
     "data": {
      "image/png": "[encoded data removed]",
      "text/plain": [
       "<Figure size 432x288 with 1 Axes>"
      ]
     },
     "metadata": {},
     "output_type": "display_data"
    }
   ],
   "source": [
    "imshow(D_two, cmap=\"gray_r\")\n",
    "_ = title('Euclidean norm distance matrix')"
   ]
  },
  {
   "cell_type": "markdown",
   "metadata": {},
   "source": [
    "# Assignment 4\n",
    "\n",
    "Using only a distance matrix, apply the algorithm described above and compute the efficency of the algorithm, i.e., write a function that:\n",
    "\n",
    "Given a distance matrix with shape `(N,N)`, constructed on the first `N` samples of the `x_train` set, count the number of failures of the **leave one out** strategy, i.e., \n",
    "\n",
    "- set `error_counter` to zero\n",
    "\n",
    "- for every line `i` of the matrix:\n",
    "\n",
    "    - find the index `j` (different from `i`) for which `D[i,k] >= D[i,j]` for all `k` different from `i` and `j`.\n",
    "\n",
    "    - if `y_train[j]` is different from `y_train[i]`, increment by one `error_counter`\n",
    "\n",
    "- return the error: error_counter/N\n",
    "\n",
    "- apply the function above to the 3 different distance matrices you computed before"
   ]
  },
  {
   "cell_type": "code",
   "execution_count": 11,
   "metadata": {},
   "outputs": [
    {
     "name": "stdout",
     "output_type": "stream",
     "text": [
      "CPU times: user 511 µs, sys: 322 µs, total: 833 µs\n",
      "Wall time: 421 µs\n",
      "CPU times: user 768 µs, sys: 485 µs, total: 1.25 ms\n",
      "Wall time: 422 µs\n",
      "CPU times: user 0 ns, sys: 1.24 ms, total: 1.24 ms\n",
      "Wall time: 418 µs\n"
     ]
    },
    {
     "data": {
      "text/plain": [
       "(0.58, 0.17, 0.17)"
      ]
     },
     "execution_count": 11,
     "metadata": {},
     "output_type": "execute_result"
    }
   ],
   "source": [
    "def error_rate(D, N, D_max):\n",
    "    \"\"\"\n",
    "    Computes the error rate of distance matrix classification\n",
    "    using a leave-one-out strategy.\n",
    "    \n",
    "    The choice to include the splitting is optimal since it avoid the bottleneck \n",
    "    of computing multiple distance matrices when benchmarking of different sizes.\n",
    "    \n",
    "    D -> The distance matrix for which we want to compute the error rate.\n",
    "    N -> The precomputed number of columns of the distance matrix.\n",
    "    D_max -> Maximum value in D, used to skip diagonal values efficiently.\n",
    "    \"\"\"\n",
    "    D = D[0:N, 0:N] #Allows to use the same matrix for computing performance of its subsets.\n",
    "    error_counter = 0\n",
    "    for i in range(N):  \n",
    "        D[i][i] = D_max\n",
    "        j = argmin(D[i])\n",
    "        if(y_train[i] != y_train[j]):\n",
    "            error_counter += 1\n",
    "        D[i][i] = 0.0\n",
    "    return error_counter / N\n",
    "\n",
    "m = D_one.max()\n",
    "\n",
    "%time E_infty = error_rate(D_infty, 100, m)\n",
    "%time E_one = error_rate(D_one, 100, m)\n",
    "%time E_two = error_rate(D_two, 100, m)\n",
    "E_infty, E_one, E_two"
   ]
  },
  {
   "cell_type": "markdown",
   "metadata": {},
   "source": [
    "# Assignment 5\n",
    "\n",
    "Run the algorithm implemented above for N=100,200,400,800,1600 on the three different distances, and plot the three error rate as a function of N (i.e., compute the distance matrix, and compute the efficiency associated to the distance matrix).\n",
    "\n",
    "You should get an error like:\n",
    "```\n",
    "[[ 0.58      0.17      0.17    ]\n",
    " [ 0.52      0.145     0.135   ]\n",
    " [ 0.4425    0.15      0.135   ]\n",
    " [ 0.4       0.145     0.12875 ]\n",
    " [ 0.369375  0.1025    0.09375 ]]\n",
    "```\n",
    "where each column represents a different norm.\n",
    "\n",
    "** In the next assignments, optional points are given if you manage to make the algorithm run faster, by pre-computing everything you can precompute in advance **"
   ]
  },
  {
   "cell_type": "code",
   "execution_count": 12,
   "metadata": {},
   "outputs": [
    {
     "name": "stdout",
     "output_type": "stream",
     "text": [
      "CPU times: user 27.4 ms, sys: 44 µs, total: 27.4 ms\n",
      "Wall time: 27.5 ms\n"
     ]
    },
    {
     "data": {
      "text/plain": [
       "[[0.58, 0.17, 0.17],\n",
       " [0.52, 0.145, 0.135],\n",
       " [0.4425, 0.15, 0.135],\n",
       " [0.4, 0.145, 0.12875],\n",
       " [0.369375, 0.1025, 0.09375]]"
      ]
     },
     "execution_count": 12,
     "metadata": {},
     "output_type": "execute_result"
    }
   ],
   "source": [
    "# Pre-computing\n",
    "N = [100, 200, 400, 800, 1600]\n",
    "dist = [d_infty, d_one, d_two]\n",
    "D = [distance_matrix(max(N), d) for d in dist]\n",
    "# m is the maximum value inside our difference matrices (L1 for 1600x1600)\n",
    "m = D[1].max()\n",
    "\n",
    "# Computing the error\n",
    "%time error_rates_tot = [[error_rate(d, n, m) for d in D] for n in N]\n",
    "error_rates_tot"
   ]
  },
  {
   "cell_type": "code",
   "execution_count": 14,
   "metadata": {},
   "outputs": [
    {
     "data": {
      "image/png": "[encoded data removed]",
      "text/plain": [
       "<Figure size 432x288 with 1 Axes>"
      ]
     },
     "metadata": {},
     "output_type": "display_data"
    }
   ],
   "source": [
    "plot(N, error_rates_tot)\n",
    "_ = legend([\"Infinity norm\",\"L1 norm\",\"Euclidean norm\"])\n",
    "_ = xlabel(\"Matrix size\")\n",
    "_ = ylabel(\"Error rate\")\n",
    "_ = title(\"Comparison of error rates using various norms as distances\\n\")"
   ]
  },
  {
   "cell_type": "markdown",
   "metadata": {},
   "source": [
    "# Assignment 6\n",
    "\n",
    "In principle, it should be possible to decrease the error by using a better norm. From the table above, it is clear that the L2 distance works better than the L1 distance, which works better than the Linfty distance.\n",
    "\n",
    "However, *none of these distances exploit the fact that the image is a two-dimensional object*, and that there is information also in the **neighboring** information of the pixels. \n",
    "\n",
    "One way to exploit this, is to interpret the image as a continuous function with values between zero and one, defined on a square domain $\\Omega=[0,27]x[0,27]$.\n",
    "\n",
    "$$ f: \\Omega \\to R $$\n",
    "\n",
    "- Implement a function that computes an approximation of the $H^1$ norm distance on the renormalized images. Given two images $f_1$ and $f_2$\n",
    "    - Compute $$a = \\frac{f_1}{\\int_\\Omega f_1}$$, $$b=\\frac{f_2}{\\int_\\Omega f_2}$$\n",
    "    - Define the $H^1$ distance as\n",
    "    $$\n",
    "    d_{H^1}(f_1,f_2) := \\sqrt{\\int_\\Omega |\\nabla(a-b)|^2+ (a-b)^2}\n",
    "    $$\n",
    "    using the algorithm you prefer (or the library you prefer) to compute the gradients and the integrals. Notice that $\\nabla f = (\\partial f/\\partial x, \\partial f/\\partial y)$ is a vector valued function, and $|\\nabla g|^2 := (\\partial g/\\partial x)^2 + (\\partial g/\\partial y)^2$\n",
    "\n",
    "- Compute the distance matrix and the efficiency for this distance for N=100,200,400,800,1600"
   ]
  },
  {
   "cell_type": "code",
   "execution_count": 15,
   "metadata": {},
   "outputs": [],
   "source": [
    "# Simple approach\n",
    "\n",
    "def d_H1(f1,f2):\n",
    "    \"\"\" Computes the H1 norm between f1 and f2 \"\"\"\n",
    "    a = f1/np.sum(f1)\n",
    "    b = f2/np.sum(f2)\n",
    "    diff = a - b\n",
    "    grad = gradient(diff)\n",
    "    grad_squared_norm = grad[0]**2 + grad[1]**2\n",
    "    return sqrt(np.sum(grad_squared_norm + diff**2))"
   ]
  },
  {
   "cell_type": "code",
   "execution_count": 16,
   "metadata": {},
   "outputs": [
    {
     "name": "stdout",
     "output_type": "stream",
     "text": [
      "CPU times: user 1min 36s, sys: 30.8 ms, total: 1min 36s\n",
      "Wall time: 1min 36s\n",
      "CPU times: user 9.31 ms, sys: 0 ns, total: 9.31 ms\n",
      "Wall time: 9.4 ms\n"
     ]
    },
    {
     "data": {
      "text/plain": [
       "[0.23, 0.175, 0.145, 0.12125, 0.099375]"
      ]
     },
     "execution_count": 16,
     "metadata": {},
     "output_type": "execute_result"
    }
   ],
   "source": [
    "# Testing execution time as in Assignment 5\n",
    "N = [100, 200, 400, 800, 1600]\n",
    "%time D_H1 = distance_matrix(max(N), d_H1)\n",
    "m = D_H1.max()\n",
    "%time error_rates_H1 = [error_rate(D_H1, n, m) for n in N]\n",
    "error_rates_H1"
   ]
  },
  {
   "cell_type": "code",
   "execution_count": 51,
   "metadata": {},
   "outputs": [],
   "source": [
    "# Pre-computing approach, calculating normalized values and gradients in advance.\n",
    "\n",
    "def normalize(data):\n",
    "    \"\"\" Renormalizes data \"\"\"\n",
    "    data_n = zeros(shape(data))\n",
    "    for i in range(len(data_n)):\n",
    "        data_n[i] = data[i]/np.sum(data[i])\n",
    "    return data_n\n",
    "\n",
    "def compute_gradient(data_n):\n",
    "    \"\"\" Computes the gradient for normalized data\"\"\"\n",
    "    grad = zeros((data_n.shape[0], 2, data_n.shape[1], data_n.shape[2]))\n",
    "    for i in range(len(grad)):\n",
    "        grad[i] = gradient(data_n[i])\n",
    "    return grad\n",
    "    \n",
    "def d_H1_opt(i, j, data_n, grad):\n",
    "    \"\"\" \n",
    "    Computes the H1 norm between pre-normalized a and b (at indexes i and j of data_n),\n",
    "    given their precomputed gradients grad_a and grad_b (at indexes i and j of grad).\n",
    "    diff -> a - b\n",
    "    diff_grad -> grad_a - grad_b\n",
    "    \"\"\"\n",
    "    diff = data_n[i] - data_n[j]\n",
    "    diff_grad = grad[i] - grad[j]\n",
    "    grad_squared_norm = (diff_grad[0])**2 + (diff_grad[1])**2\n",
    "    return sqrt(np.sum(grad_squared_norm + diff**2))\n",
    "\n",
    "def distance_matrix_opt(N, dist, data_n, grad):\n",
    "    \"\"\" \n",
    "    Computes the distance matrix D of shape (N,N) between\n",
    "    the first N entries of x_train using the opt_d_H1 function\n",
    "    with precomputed values for normalized data and gradients.\n",
    "    \"\"\"\n",
    "    D = zeros((N,N))\n",
    "    for i in range(N):\n",
    "        for j in range(i):\n",
    "            D[i,j] = D[j,i] = dist(i, j, data_n, grad)\n",
    "    return D + D.T\n",
    "\n",
    "# Pre-computing of normalized values and gradients\n",
    "data_n = normalize(x_train)\n",
    "grad = compute_gradient(data_n)"
   ]
  },
  {
   "cell_type": "code",
   "execution_count": 53,
   "metadata": {},
   "outputs": [
    {
     "name": "stdout",
     "output_type": "stream",
     "text": [
      "CPU times: user 26.7 s, sys: 9.66 ms, total: 26.7 s\n",
      "Wall time: 26.8 s\n",
      "CPU times: user 9.12 ms, sys: 33 µs, total: 9.15 ms\n",
      "Wall time: 9.21 ms\n"
     ]
    },
    {
     "data": {
      "text/plain": [
       "[0.23, 0.175, 0.145, 0.12125, 0.099375]"
      ]
     },
     "execution_count": 53,
     "metadata": {},
     "output_type": "execute_result"
    }
   ],
   "source": [
    "# Testing execution time as in Assignment 5\n",
    "N = [100, 200, 400, 800, 1600]\n",
    "%time D_H1 = distance_matrix_opt(max(N), d_H1_opt, data_n, grad)\n",
    "m = D_H1.max()\n",
    "%time error_rates_h1 = [error_rate(D_H1, n, m) for n in N]\n",
    "error_rates_h1"
   ]
  },
  {
   "cell_type": "code",
   "execution_count": 26,
   "metadata": {},
   "outputs": [
    {
     "data": {
      "text/plain": [
       "[[0.58, 0.17, 0.17, 0.23, 0.23, 0.23],\n",
       " [0.52, 0.145, 0.135, 0.175, 0.175, 0.175],\n",
       " [0.4425, 0.15, 0.135, 0.145, 0.145, 0.145],\n",
       " [0.4, 0.145, 0.12875, 0.12125, 0.12125, 0.12125],\n",
       " [0.369375, 0.1025, 0.09375, 0.099375, 0.099375, 0.099375]]"
      ]
     },
     "execution_count": 26,
     "metadata": {},
     "output_type": "execute_result"
    }
   ],
   "source": [
    "# Adding H1 to previous results\n",
    "for i in range(len(error_rates_tot)):\n",
    "    error_rates_tot[i].append(error_rates_h1[i])\n",
    "error_rates_tot"
   ]
  },
  {
   "cell_type": "code",
   "execution_count": 27,
   "metadata": {},
   "outputs": [
    {
     "data": {
      "image/png": "[encoded data removed]",
      "text/plain": [
       "<Figure size 432x288 with 1 Axes>"
      ]
     },
     "metadata": {},
     "output_type": "display_data"
    }
   ],
   "source": [
    "plot(N, error_rates_tot)\n",
    "_ = legend([\"Infinity norm\",\"L1 norm\",\"Euclidean norm\", \"H1 norm\"])\n",
    "_ = xlabel(\"Matrix size\")\n",
    "_ = ylabel(\"Error rate\")\n",
    "_ = title(\"Comparison of error rates using various norms as distances\\n\")"
   ]
  },
  {
   "cell_type": "markdown",
   "metadata": {},
   "source": [
    "**We can see how, through precomputing, we obtain the same results in around one-fourth of the time using the `error_rate` function.**"
   ]
  },
  {
   "cell_type": "markdown",
   "metadata": {},
   "source": [
    "## Assignment 7\n",
    "\n",
    "An even better improvement on the previous distance function is given by the following algorithm\n",
    "\n",
    "- Given two images $f1$ and $f2$:\n",
    "    - Compute $$a = \\frac{f_1}{\\int_\\Omega f_1}$$, $$b=\\frac{f_2}{\\int_\\Omega f_2}$$\n",
    "    - Solve \n",
    "    $$\n",
    "    -\\Delta \\phi = a - b \\qquad \\text{ in } \\Omega\n",
    "    $$\n",
    "    $$\n",
    "    \\phi = 0 \\text{ on } \\partial\\Omega\n",
    "    $$\n",
    "    - Define the *Monge Ampere* distance\n",
    "    $$\n",
    "    d_{MA}(f_1,f_2) = \\int_\\Omega (a+b)|\\nabla \\phi|^2\n",
    "    $$\n",
    "\n",
    "- Compute the distance matrix and the efficiency for this distance for N=100,200,400,800,1600"
   ]
  },
  {
   "cell_type": "code",
   "execution_count": 46,
   "metadata": {},
   "outputs": [],
   "source": [
    "from scipy.sparse import diags, csc_matrix\n",
    "from scipy.sparse.linalg import splu"
   ]
  },
  {
   "cell_type": "code",
   "execution_count": 47,
   "metadata": {},
   "outputs": [],
   "source": [
    "# Simple approach\n",
    "\n",
    "def laplacian(N):\n",
    "    \"\"\" \n",
    "    Optimized building of the 2D Laplacian matrix of size N.\n",
    "    Inspired by: https://stackoverflow.com/questions/34895970 \n",
    "    \"\"\"\n",
    "    side_diag = np.ones(N*N-1)\n",
    "    side_diag[np.arange(1,N*N) % N == 0] = 0\n",
    "    return diags([1, side_diag, -4, side_diag, 1],[-N, -1, 0, 1, N], shape = (N * N, N * N)).toarray()\n",
    "\n",
    "def solve_LU(img, lu_solver):\n",
    "    \"\"\" Solves the system with boundary condition, obtaining the value for phi \"\"\"\n",
    "    size = len(img)\n",
    "    phi = zeros(shape(img))\n",
    "    phi[1:-1, 1:-1] = lu_solver.solve(img[1:-1, 1:-1].ravel()).reshape((size - 2, size - 2))\n",
    "    return phi\n",
    "    \n",
    "def d_MA(f1,f2):\n",
    "    \"\"\" Computes the Monge Ampere norm between f1 and f2 \"\"\"\n",
    "    a = f1/np.sum(f1)\n",
    "    b = f2/np.sum(f2)\n",
    "    phi = solve_LU(a-b, lu_solver)\n",
    "    grad = gradient(phi)\n",
    "    grad_squared_norm = grad[0]**2 + grad[1]**2\n",
    "    return np.sum((a + b) * grad_squared_norm)"
   ]
  },
  {
   "cell_type": "code",
   "execution_count": 48,
   "metadata": {},
   "outputs": [
    {
     "name": "stdout",
     "output_type": "stream",
     "text": [
      "CPU times: user 3min 39s, sys: 466 µs, total: 3min 39s\n",
      "Wall time: 3min 39s\n",
      "CPU times: user 8.93 ms, sys: 40 µs, total: 8.97 ms\n",
      "Wall time: 9 ms\n"
     ]
    },
    {
     "data": {
      "text/plain": [
       "[0.24, 0.2, 0.145, 0.12875, 0.12125]"
      ]
     },
     "execution_count": 48,
     "metadata": {},
     "output_type": "execute_result"
    }
   ],
   "source": [
    "# Testing execution time as in Assignment 5\n",
    "N = [100, 200, 400, 800, 1600]\n",
    "lu_solver = splu(csc_matrix(laplacian(26) * (-1)))\n",
    "%time D_MA = distance_matrix(max(N), d_MA)\n",
    "m = D_MA.max()\n",
    "%time error_rates_MA = [error_rate(D_MA, n, m) for n in N]\n",
    "error_rates_MA"
   ]
  },
  {
   "cell_type": "code",
   "execution_count": 57,
   "metadata": {},
   "outputs": [],
   "source": [
    "# Optimized approach, computing phis and gradients in advance\n",
    "\n",
    "def solve_laplacians(data_n, lu_solver):\n",
    "    \"\"\" Solves the Laplacian system for normalized data\"\"\"\n",
    "    phis = zeros(shape(data_n))\n",
    "    for i in range(len(phis)):\n",
    "        phis[i] = solve_LU(data_n[i], lu_solver)\n",
    "    return phis\n",
    "\n",
    "# We use the same compute_gradient method of the previous assignment\n",
    "\n",
    "def d_MA_opt(i, j, data_n, grad):\n",
    "    \"\"\" \n",
    "    Computes the Monge Ampere norm between pre-normalized a and b (at indexes i and j of data_n),\n",
    "    given their precomputed gradients grad_a and grad_b (at indexes i and j of grad).\n",
    "    \"\"\"\n",
    "    absum = data_n[i] + data_n[j]\n",
    "    diff_grad = grad[i] - grad[j]\n",
    "    grad_squared_norm = (diff_grad[0])**2 + (diff_grad[1])**2\n",
    "    return np.sum(grad_squared_norm * absum)\n",
    "\n",
    "# Pre-computing of normalized values and gradients\n",
    "data_n_MA = normalize(x_train)\n",
    "lu_solver = splu(csc_matrix(laplacian(26) * (-1)))\n",
    "phis = solve_laplacians(data_n_MA, lu_solver)\n",
    "grad_MA = compute_gradient(phis)"
   ]
  },
  {
   "cell_type": "code",
   "execution_count": 58,
   "metadata": {},
   "outputs": [
    {
     "name": "stdout",
     "output_type": "stream",
     "text": [
      "CPU times: user 20.4 s, sys: 2.97 ms, total: 20.4 s\n",
      "Wall time: 20.4 s\n",
      "CPU times: user 9.1 ms, sys: 0 ns, total: 9.1 ms\n",
      "Wall time: 9.14 ms\n"
     ]
    },
    {
     "data": {
      "text/plain": [
       "[0.24, 0.2, 0.145, 0.12875, 0.12125]"
      ]
     },
     "execution_count": 58,
     "metadata": {},
     "output_type": "execute_result"
    }
   ],
   "source": [
    "N = [100,200,400,800,1600]\n",
    "%time D_MA = distance_matrix_opt(max(N),d_MA_opt, data_n_MA, grad_MA)\n",
    "m = D_MA.max()\n",
    "%time error_rates_MA = [error_rate(D_MA, n, m) for n in N]\n",
    "error_rates_MA"
   ]
  },
  {
   "cell_type": "code",
   "execution_count": 59,
   "metadata": {},
   "outputs": [
    {
     "data": {
      "text/plain": [
       "[[0.58, 0.17, 0.17, 0.23, 0.23, 0.23, 0.24],\n",
       " [0.52, 0.145, 0.135, 0.175, 0.175, 0.175, 0.2],\n",
       " [0.4425, 0.15, 0.135, 0.145, 0.145, 0.145, 0.145],\n",
       " [0.4, 0.145, 0.12875, 0.12125, 0.12125, 0.12125, 0.12875],\n",
       " [0.369375, 0.1025, 0.09375, 0.099375, 0.099375, 0.099375, 0.12125]]"
      ]
     },
     "execution_count": 59,
     "metadata": {},
     "output_type": "execute_result"
    }
   ],
   "source": [
    "# Adding MA to previous results\n",
    "for i in range(len(error_rates_tot)):\n",
    "    error_rates_tot[i].append(error_rates_MA[i])\n",
    "error_rates_tot"
   ]
  },
  {
   "cell_type": "code",
   "execution_count": 60,
   "metadata": {},
   "outputs": [
    {
     "data": {
      "image/png": "[encoded data removed]",
      "text/plain": [
       "<Figure size 432x288 with 1 Axes>"
      ]
     },
     "metadata": {},
     "output_type": "display_data"
    }
   ],
   "source": [
    "plot(N, error_rates_tot)\n",
    "_ = legend([\"Infinity norm\",\"L1 norm\",\"Euclidean norm\", \"H1 norm\", \"Monge Ampere norm\"])\n",
    "_ = xlabel(\"Matrix size\")\n",
    "_ = ylabel(\"Error rate\")\n",
    "_ = title(\"Comparison of error rates using various norms as distances\\n\")"
   ]
  },
  {
   "cell_type": "markdown",
   "metadata": {},
   "source": [
    "**This time, through prec**"
   ]
  },
  {
   "cell_type": "markdown",
   "metadata": {},
   "source": [
    "## Assigment 8 (optional for DSSC, PhD and LM, Mandatory for MHPC)\n",
    "\n",
    "Use the `BallTree` algorithm (https://en.wikipedia.org/wiki/Ball_tree), from the `sklearn` package, and construct a tree data structure **that uses one of the custom distances defined above**.\n",
    "\n",
    "For each N in 3200,6400,12800,25600,51200, and for each distance defined above\n",
    "\n",
    "- Build a tree using the first N entries of the training set `x_train`\n",
    "- Construct a function that tests the efficiency on all the entries of the test set `x_test`:\n",
    "    - for any image in `x_test`, call it `x_test[i]`, query the tree for the nearest neighbor (call it `k`), and assign as predicted digit the digit of the `x_train[k]` image, i.e., `y_train[k]`\n",
    "    - check if `y_train[k]` is equal to the corresponding entry in `y_test[i]`. If not, increment a counter of the error\n",
    "    - return the efficiency, i.e., `error_counter/len(x_test)`\n",
    "- Plot, in a single graph, the error of each distance as a function of `N` (including labels, titles, etc.)\n",
    "\n",
    "- Once you have the tree, experiment with different nearest neighbor algorithms, i.e., instead of taking only one nearest neighbor, take a larger number (a small number of your choice), and instead of returning the single closest digit, return the one with the largest number of occurrences. Plot the same graph you gave before, and see if you gain an improvement. Motivate all choices you have to make to get to the final answer.\n",
    "\n",
    "\n",
    "**IF YOU DON'T HAVE ENOUGH COMPUTATIONAL POWER, RUN THE EXERCISES ONLY UP TO WHAT IS SUSTAINABLE FOR YOUR PC**"
   ]
  },
  {
   "cell_type": "code",
   "execution_count": null,
   "metadata": {},
   "outputs": [],
   "source": []
  }
 ],
 "metadata": {
  "kernelspec": {
   "display_name": "Python 3",
   "language": "python",
   "name": "python3"
  },
  "language_info": {
   "codemirror_mode": {
    "name": "ipython",
    "version": 3
   },
   "file_extension": ".py",
   "mimetype": "text/x-python",
   "name": "python",
   "nbconvert_exporter": "python",
   "pygments_lexer": "ipython3",
   "version": "3.7.2"
  }
 },
 "nbformat": 4,
 "nbformat_minor": 2
}
