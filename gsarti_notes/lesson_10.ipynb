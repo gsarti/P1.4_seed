{
 "cells": [
  {
   "cell_type": "markdown",
   "metadata": {},
   "source": [
    "# Linear Systems and Numerical Analysis\n",
    "\n",
    "A system is called **decoupled** when the values of different variables are not linked to each other. This translates into a matrix that models the linear system which is mostly filled with zeros.\n",
    "\n",
    "We call $Ax = b$ a **linear system of order $n$**, where $A = (a_{ij})$ is a given matrix of size $n \\times n$, $b = (b_{j})$ is a given vector and $x = (x_{j})$ is the **unknown vector** of the system.\n",
    "\n",
    "$A$ is called **non-singular** if $det(A) \\neq 0$; the solution $x$ will be **unique** for any given vector $b$ iff this is true.\n",
    "\n",
    "\n",
    "**Cramer's Rule** implies the replacing of each column in matrix $A$ by vector $b$ and computing the determinants in order to compute $x$. This implies a **computational cost of (n+1)! flops**, which is way too much to solve large matrices (n > 20).\n",
    "\n",
    "If a matrix $A$ is non-singular and triangular we know that\n",
    "\n",
    "$$det(A) = \\Pi_{i = 1}^{n} \\lambda_{i}(A) = \\Pi_{i = 1}^{n} a_{ii}$$\n",
    "\n",
    "and thus we can deduce that, in this case, $a_{ii} \\neq 0,  \\forall i = 1, \\dots , n$\n",
    "\n",
    "The **forward substitution algorithm** is applied to solve lower triangular systems with a **computational cost of $n^{2}$ equations**, replacing all the values known values from top to bottom based on previously replaced values.\n",
    "\n",
    "The **backward substitution** is a very similar method which is applied on upper triangular systems. It has the same computational cost\n",
    "\n",
    "In the **LU factorization method**, we split any $A$ matrix in two triangular matrices (one upper, one lower) and use those to solve the linear system.\n",
    "\n",
    "$$Ax = b \\implies LUx = b$$\n",
    "\n",
    "First we solve $Ly = b$, then $Ux = y$. Total computational cost is $\\frac{2n^3}{3}$ since we will use the **Gauss Elimination Method (GEM)** to reduce the matrix to a triangular one. Since the cost is higher that the one of substitution, the computational cost of this one is generally disregarded."
   ]
  },
  {
   "cell_type": "code",
   "execution_count": null,
   "metadata": {},
   "outputs": [],
   "source": []
  }
 ],
 "metadata": {
  "kernelspec": {
   "display_name": "Python 3",
   "language": "python",
   "name": "python3"
  },
  "language_info": {
   "codemirror_mode": {
    "name": "ipython",
    "version": 3
   },
   "file_extension": ".py",
   "mimetype": "text/x-python",
   "name": "python",
   "nbconvert_exporter": "python",
   "pygments_lexer": "ipython3",
   "version": "3.7.1"
  }
 },
 "nbformat": 4,
 "nbformat_minor": 2
}
