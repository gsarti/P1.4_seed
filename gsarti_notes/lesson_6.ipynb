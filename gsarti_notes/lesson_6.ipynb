{
 "cells": [
  {
   "cell_type": "markdown",
   "metadata": {},
   "source": [
    "# Nonlinear equations - Lesson 2"
   ]
  },
  {
   "cell_type": "markdown",
   "metadata": {},
   "source": [
    "## Introduction\n",
    "\n",
    "Interest rates, applied mechanics and gas dynamics are some examples of real-world problems which are modeled by nonlinear equations. \n",
    "\n",
    "For those types of problem, we doesn't search for an analytic solution, but instead try to approximate the results by using different methods, such as **bisection**, **Newton's** and **fixed point iteration**.\n",
    "\n",
    "Recall:\n",
    "\n",
    "* Bisection algorithm provides us with an upper bound for the error\n",
    "\n",
    "* Newton's method is limited by the divergence when $f'(x)$ goes to infinite, but has the advantage of **quadratic convergence**.\n",
    "\n",
    "* For the fixed point iteration, since we are dealing on the contraction $\\phi(x)$ instead of the function $f(x)$, we are trying to converge towards the diagonal instead of the x axis.\n",
    "\n",
    "* In order to guarantee existence of a fixed point, we need to set continuity as a necessary condition. The fixed point must be unique in the case that $f'(x) < 1$ and have some specific conditions on its first and second derivative function."
   ]
  },
  {
   "cell_type": "markdown",
   "metadata": {},
   "source": [
    "## More about the Newton's Method\n",
    "\n",
    "Since the Newton's method is simply a subset of the fixed point iteration method, in which $\\phi(x) = x - \\frac{f(x)}{f'(x)}$, we can deduce that if $f$ is twice differentiable, $f(\\alpha) = 0$ and $f'(\\alpha) \\neq 0$, the fixed point iteration converges to $\\alpha$ with quadratic convergence.\n",
    "\n",
    "If $f'(\\alpha)=0$ the convergence of the said method is linear, and the method could be modified to:\n",
    "\n",
    "$$x^{(k + 1)} = x^{(k)} - m\\frac{f(x^{(k)})}{f'(x^{(k)})}, k = 0,1,2,\\dots$$\n",
    "\n",
    "Where $m$ is the **multiplicity** of $\\alpha$.\n",
    "\n",
    "Methods derived from the Newton's Method which can recover quadratic convergence are called **adaptive** or **Quasi-Newton's Methods** which are much appreciated in the field of HPC because of their capability."
   ]
  },
  {
   "cell_type": "markdown",
   "metadata": {},
   "source": [
    "## A stopping criterion for Newton's Method\n",
    "\n",
    "A good way to achieve a specific performance through the Newton's method is the **control of the increment**. \n",
    "\n",
    "If we define $\\epsilon$ as a **fixed tolerance**, we can set the stopping condition as follows:\n",
    "\n",
    "$$|x^{(k+1)} - x^{(k)}| < \\epsilon$$\n",
    "\n",
    "The error on the $k + 1$ iteration is defined as $\\phi'(\\xi^{(k)})e^{(k)}$, where $e$ is the error on the $k^{th}$ iteration and $\\phi'(\\xi^{(k)})$ is called the **transmission function** of $e$.\n",
    "\n",
    "Another possible stopping criterion is the control of the residual, defined as $|f(x^{(k)}| < \\epsilon$ (the length of the projection of point $x^{(k)}$ on the function is smaller than a constant).\n",
    "\n"
   ]
  },
  {
   "cell_type": "markdown",
   "metadata": {},
   "source": [
    "## The rope method\n",
    "\n",
    "It is a particular case of the Newton method in which the denominator $f'(x)$ is replaced by a fixed $q$, which could be $q = f'(x^{(0)})$ or $q = \\frac{f(b) - f(a)}{b - a}$"
   ]
  },
  {
   "cell_type": "markdown",
   "metadata": {},
   "source": [
    "## Methods comparison\n",
    "\n",
    "* The bisection method is the only one which has a scatter behavior. \n",
    "\n",
    "* The fastest method is the Newton's method, followed by quasi-Newton's methods (including rope method), the bisection and then the fixed point iterations."
   ]
  },
  {
   "cell_type": "markdown",
   "metadata": {},
   "source": [
    "## Additional Informations\n",
    "\n",
    "We use . in MATLAB before operations containing a vector"
   ]
  }
 ],
 "metadata": {
  "kernelspec": {
   "display_name": "Python 3",
   "language": "python",
   "name": "python3"
  },
  "language_info": {
   "codemirror_mode": {
    "name": "ipython",
    "version": 3
   },
   "file_extension": ".py",
   "mimetype": "text/x-python",
   "name": "python",
   "nbconvert_exporter": "python",
   "pygments_lexer": "ipython3",
   "version": "3.7.1"
  }
 },
 "nbformat": 4,
 "nbformat_minor": 2
}
