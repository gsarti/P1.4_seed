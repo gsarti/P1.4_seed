{
 "cells": [
  {
   "cell_type": "code",
   "execution_count": 1,
   "metadata": {},
   "outputs": [
    {
     "name": "stdout",
     "output_type": "stream",
     "text": [
      "Populating the interactive namespace from numpy and matplotlib\n"
     ]
    }
   ],
   "source": [
    "%pylab inline"
   ]
  },
  {
   "cell_type": "code",
   "execution_count": 2,
   "metadata": {},
   "outputs": [],
   "source": [
    "x = linspace(0,1,100)"
   ]
  },
  {
   "cell_type": "code",
   "execution_count": 3,
   "metadata": {},
   "outputs": [
    {
     "data": {
      "text/plain": [
       "array([0.        , 0.01010101, 0.02020202, 0.03030303, 0.04040404,\n",
       "       0.05050505, 0.06060606, 0.07070707, 0.08080808, 0.09090909,\n",
       "       0.1010101 , 0.11111111, 0.12121212, 0.13131313, 0.14141414,\n",
       "       0.15151515, 0.16161616, 0.17171717, 0.18181818, 0.19191919,\n",
       "       0.2020202 , 0.21212121, 0.22222222, 0.23232323, 0.24242424,\n",
       "       0.25252525, 0.26262626, 0.27272727, 0.28282828, 0.29292929,\n",
       "       0.3030303 , 0.31313131, 0.32323232, 0.33333333, 0.34343434,\n",
       "       0.35353535, 0.36363636, 0.37373737, 0.38383838, 0.39393939,\n",
       "       0.4040404 , 0.41414141, 0.42424242, 0.43434343, 0.44444444,\n",
       "       0.45454545, 0.46464646, 0.47474747, 0.48484848, 0.49494949,\n",
       "       0.50505051, 0.51515152, 0.52525253, 0.53535354, 0.54545455,\n",
       "       0.55555556, 0.56565657, 0.57575758, 0.58585859, 0.5959596 ,\n",
       "       0.60606061, 0.61616162, 0.62626263, 0.63636364, 0.64646465,\n",
       "       0.65656566, 0.66666667, 0.67676768, 0.68686869, 0.6969697 ,\n",
       "       0.70707071, 0.71717172, 0.72727273, 0.73737374, 0.74747475,\n",
       "       0.75757576, 0.76767677, 0.77777778, 0.78787879, 0.7979798 ,\n",
       "       0.80808081, 0.81818182, 0.82828283, 0.83838384, 0.84848485,\n",
       "       0.85858586, 0.86868687, 0.87878788, 0.88888889, 0.8989899 ,\n",
       "       0.90909091, 0.91919192, 0.92929293, 0.93939394, 0.94949495,\n",
       "       0.95959596, 0.96969697, 0.97979798, 0.98989899, 1.        ])"
      ]
     },
     "execution_count": 3,
     "metadata": {},
     "output_type": "execute_result"
    }
   ],
   "source": [
    "x"
   ]
  },
  {
   "cell_type": "code",
   "execution_count": 4,
   "metadata": {},
   "outputs": [
    {
     "data": {
      "text/plain": [
       "[<matplotlib.lines.Line2D at 0x7f56f8cf1278>]"
      ]
     },
     "execution_count": 4,
     "metadata": {},
     "output_type": "execute_result"
    },
    {
     "data": {
      "image/png": "[encoded data removed]",
      "text/plain": [
       "<Figure size 432x288 with 1 Axes>"
      ]
     },
     "metadata": {},
     "output_type": "display_data"
    }
   ],
   "source": [
    "plot(x, x*x)"
   ]
  },
  {
   "cell_type": "code",
   "execution_count": 5,
   "metadata": {},
   "outputs": [],
   "source": [
    "x = arange(0,100,.5)"
   ]
  },
  {
   "cell_type": "code",
   "execution_count": 6,
   "metadata": {},
   "outputs": [
    {
     "data": {
      "text/plain": [
       "array([ 0. ,  0.5,  1. ,  1.5,  2. ,  2.5,  3. ,  3.5,  4. ,  4.5,  5. ,\n",
       "        5.5,  6. ,  6.5,  7. ,  7.5,  8. ,  8.5,  9. ,  9.5, 10. , 10.5,\n",
       "       11. , 11.5, 12. , 12.5, 13. , 13.5, 14. , 14.5, 15. , 15.5, 16. ,\n",
       "       16.5, 17. , 17.5, 18. , 18.5, 19. , 19.5, 20. , 20.5, 21. , 21.5,\n",
       "       22. , 22.5, 23. , 23.5, 24. , 24.5, 25. , 25.5, 26. , 26.5, 27. ,\n",
       "       27.5, 28. , 28.5, 29. , 29.5, 30. , 30.5, 31. , 31.5, 32. , 32.5,\n",
       "       33. , 33.5, 34. , 34.5, 35. , 35.5, 36. , 36.5, 37. , 37.5, 38. ,\n",
       "       38.5, 39. , 39.5, 40. , 40.5, 41. , 41.5, 42. , 42.5, 43. , 43.5,\n",
       "       44. , 44.5, 45. , 45.5, 46. , 46.5, 47. , 47.5, 48. , 48.5, 49. ,\n",
       "       49.5, 50. , 50.5, 51. , 51.5, 52. , 52.5, 53. , 53.5, 54. , 54.5,\n",
       "       55. , 55.5, 56. , 56.5, 57. , 57.5, 58. , 58.5, 59. , 59.5, 60. ,\n",
       "       60.5, 61. , 61.5, 62. , 62.5, 63. , 63.5, 64. , 64.5, 65. , 65.5,\n",
       "       66. , 66.5, 67. , 67.5, 68. , 68.5, 69. , 69.5, 70. , 70.5, 71. ,\n",
       "       71.5, 72. , 72.5, 73. , 73.5, 74. , 74.5, 75. , 75.5, 76. , 76.5,\n",
       "       77. , 77.5, 78. , 78.5, 79. , 79.5, 80. , 80.5, 81. , 81.5, 82. ,\n",
       "       82.5, 83. , 83.5, 84. , 84.5, 85. , 85.5, 86. , 86.5, 87. , 87.5,\n",
       "       88. , 88.5, 89. , 89.5, 90. , 90.5, 91. , 91.5, 92. , 92.5, 93. ,\n",
       "       93.5, 94. , 94.5, 95. , 95.5, 96. , 96.5, 97. , 97.5, 98. , 98.5,\n",
       "       99. , 99.5])"
      ]
     },
     "execution_count": 6,
     "metadata": {},
     "output_type": "execute_result"
    }
   ],
   "source": [
    "x"
   ]
  },
  {
   "cell_type": "code",
   "execution_count": 7,
   "metadata": {},
   "outputs": [
    {
     "data": {
      "text/plain": [
       "array([  1. ,   1.5,   2. ,   2.5,   3. ,   3.5,   4. ,   4.5,   5. ,\n",
       "         5.5,   6. ,   6.5,   7. ,   7.5,   8. ,   8.5,   9. ,   9.5,\n",
       "        10. ,  10.5,  11. ,  11.5,  12. ,  12.5,  13. ,  13.5,  14. ,\n",
       "        14.5,  15. ,  15.5,  16. ,  16.5,  17. ,  17.5,  18. ,  18.5,\n",
       "        19. ,  19.5,  20. ,  20.5,  21. ,  21.5,  22. ,  22.5,  23. ,\n",
       "        23.5,  24. ,  24.5,  25. ,  25.5,  26. ,  26.5,  27. ,  27.5,\n",
       "        28. ,  28.5,  29. ,  29.5,  30. ,  30.5,  31. ,  31.5,  32. ,\n",
       "        32.5,  33. ,  33.5,  34. ,  34.5,  35. ,  35.5,  36. ,  36.5,\n",
       "        37. ,  37.5,  38. ,  38.5,  39. ,  39.5,  40. ,  40.5,  41. ,\n",
       "        41.5,  42. ,  42.5,  43. ,  43.5,  44. ,  44.5,  45. ,  45.5,\n",
       "        46. ,  46.5,  47. ,  47.5,  48. ,  48.5,  49. ,  49.5,  50. ,\n",
       "        50.5,  51. ,  51.5,  52. ,  52.5,  53. ,  53.5,  54. ,  54.5,\n",
       "        55. ,  55.5,  56. ,  56.5,  57. ,  57.5,  58. ,  58.5,  59. ,\n",
       "        59.5,  60. ,  60.5,  61. ,  61.5,  62. ,  62.5,  63. ,  63.5,\n",
       "        64. ,  64.5,  65. ,  65.5,  66. ,  66.5,  67. ,  67.5,  68. ,\n",
       "        68.5,  69. ,  69.5,  70. ,  70.5,  71. ,  71.5,  72. ,  72.5,\n",
       "        73. ,  73.5,  74. ,  74.5,  75. ,  75.5,  76. ,  76.5,  77. ,\n",
       "        77.5,  78. ,  78.5,  79. ,  79.5,  80. ,  80.5,  81. ,  81.5,\n",
       "        82. ,  82.5,  83. ,  83.5,  84. ,  84.5,  85. ,  85.5,  86. ,\n",
       "        86.5,  87. ,  87.5,  88. ,  88.5,  89. ,  89.5,  90. ,  90.5,\n",
       "        91. ,  91.5,  92. ,  92.5,  93. ,  93.5,  94. ,  94.5,  95. ,\n",
       "        95.5,  96. ,  96.5,  97. ,  97.5,  98. ,  98.5,  99. ,  99.5,\n",
       "       100. , 100.5])"
      ]
     },
     "execution_count": 7,
     "metadata": {},
     "output_type": "execute_result"
    }
   ],
   "source": [
    "x + 1 #Each operations performed on an array from the Numpy library is element-wise"
   ]
  },
  {
   "cell_type": "markdown",
   "metadata": {},
   "source": [
    "# Broadcasting\n"
   ]
  },
  {
   "cell_type": "markdown",
   "metadata": {},
   "source": [
    "When numpy sees an operation performed on objects of different types, it changes the type of the second object to match the one of the first object. In this case, it casts 1 to a float.\n",
    "\n",
    "Then, numpy compares the object length, and if it's not matching it transforms the second object to an object of the same size as the first object.\n",
    "\n",
    "Just after those two steps, it takes the sum of the two objects."
   ]
  },
  {
   "cell_type": "code",
   "execution_count": 32,
   "metadata": {},
   "outputs": [],
   "source": [
    "x = array([0, 1, 2, 3])"
   ]
  },
  {
   "cell_type": "code",
   "execution_count": 33,
   "metadata": {},
   "outputs": [],
   "source": [
    "y = array([[5, 6, 7, 8, 9]])"
   ]
  },
  {
   "cell_type": "code",
   "execution_count": 34,
   "metadata": {},
   "outputs": [],
   "source": [
    "z = copy(x.reshape((4,1)))"
   ]
  },
  {
   "cell_type": "code",
   "execution_count": 35,
   "metadata": {},
   "outputs": [
    {
     "data": {
      "text/plain": [
       "array([[0],\n",
       "       [1],\n",
       "       [2],\n",
       "       [3]])"
      ]
     },
     "execution_count": 35,
     "metadata": {},
     "output_type": "execute_result"
    }
   ],
   "source": [
    "z"
   ]
  },
  {
   "cell_type": "code",
   "execution_count": 36,
   "metadata": {},
   "outputs": [
    {
     "name": "stdout",
     "output_type": "stream",
     "text": [
      "(4,) (1, 5) (4, 1)\n"
     ]
    }
   ],
   "source": [
    "print(x.shape, y.shape, z.shape)"
   ]
  },
  {
   "cell_type": "code",
   "execution_count": 37,
   "metadata": {},
   "outputs": [
    {
     "ename": "ValueError",
     "evalue": "operands could not be broadcast together with shapes (4,) (1,5) ",
     "output_type": "error",
     "traceback": [
      "\u001b[0;31m---------------------------------------------------------------------------\u001b[0m",
      "\u001b[0;31mValueError\u001b[0m                                Traceback (most recent call last)",
      "\u001b[0;32m<ipython-input-37-10d98ca3b928>\u001b[0m in \u001b[0;36m<module>\u001b[0;34m()\u001b[0m\n\u001b[0;32m----> 1\u001b[0;31m \u001b[0mw\u001b[0m \u001b[0;34m=\u001b[0m \u001b[0mx\u001b[0m \u001b[0;34m+\u001b[0m \u001b[0my\u001b[0m\u001b[0;34m\u001b[0m\u001b[0m\n\u001b[0m\u001b[1;32m      2\u001b[0m \u001b[0mprint\u001b[0m\u001b[0;34m(\u001b[0m\u001b[0mw\u001b[0m\u001b[0;34m)\u001b[0m\u001b[0;34m\u001b[0m\u001b[0m\n",
      "\u001b[0;31mValueError\u001b[0m: operands could not be broadcast together with shapes (4,) (1,5) "
     ]
    }
   ],
   "source": [
    "w = x + y #The sum is not working because there's no compatible dimension\n",
    "print(w)"
   ]
  },
  {
   "cell_type": "code",
   "execution_count": 38,
   "metadata": {},
   "outputs": [
    {
     "name": "stdout",
     "output_type": "stream",
     "text": [
      "[[0 1 2 3]\n",
      " [1 2 3 4]\n",
      " [2 3 4 5]\n",
      " [3 4 5 6]]\n"
     ]
    }
   ],
   "source": [
    "w = x + z # Padding by one x, it becomes (4,1) and thus compatible with z. The operation is allowed by broadcasting.\n",
    "print(w)"
   ]
  },
  {
   "cell_type": "markdown",
   "metadata": {},
   "source": [
    "If at least one dimension is identical to at least another dimension of the other vector or one dimension is one, the two vectors are broadcasted on each other and the addition is allowed."
   ]
  },
  {
   "cell_type": "code",
   "execution_count": 40,
   "metadata": {},
   "outputs": [
    {
     "name": "stdout",
     "output_type": "stream",
     "text": [
      "[[ 5  6  7  8  9]\n",
      " [ 6  7  8  9 10]\n",
      " [ 7  8  9 10 11]\n",
      " [ 8  9 10 11 12]]\n"
     ]
    }
   ],
   "source": [
    "w = y + z\n",
    "print(w)"
   ]
  },
  {
   "cell_type": "code",
   "execution_count": 41,
   "metadata": {},
   "outputs": [],
   "source": [
    "x = ones((1,2,3,4))\n",
    "y = ones((3,2,1,1))"
   ]
  },
  {
   "cell_type": "code",
   "execution_count": 43,
   "metadata": {},
   "outputs": [
    {
     "name": "stdout",
     "output_type": "stream",
     "text": [
      "[[[[2. 2. 2. 2.]\n",
      "   [2. 2. 2. 2.]\n",
      "   [2. 2. 2. 2.]]\n",
      "\n",
      "  [[2. 2. 2. 2.]\n",
      "   [2. 2. 2. 2.]\n",
      "   [2. 2. 2. 2.]]]\n",
      "\n",
      "\n",
      " [[[2. 2. 2. 2.]\n",
      "   [2. 2. 2. 2.]\n",
      "   [2. 2. 2. 2.]]\n",
      "\n",
      "  [[2. 2. 2. 2.]\n",
      "   [2. 2. 2. 2.]\n",
      "   [2. 2. 2. 2.]]]\n",
      "\n",
      "\n",
      " [[[2. 2. 2. 2.]\n",
      "   [2. 2. 2. 2.]\n",
      "   [2. 2. 2. 2.]]\n",
      "\n",
      "  [[2. 2. 2. 2.]\n",
      "   [2. 2. 2. 2.]\n",
      "   [2. 2. 2. 2.]]]]\n"
     ]
    }
   ],
   "source": [
    "print(x+y) #it works since at least one dimension is one in both vectors"
   ]
  },
  {
   "cell_type": "markdown",
   "metadata": {},
   "source": [
    "Broadcast works automatically only if it is possible to fill the left side of one of the two members with one. The following example shows how different dimensions can be matched from the left, but not from the right"
   ]
  },
  {
   "cell_type": "code",
   "execution_count": 44,
   "metadata": {},
   "outputs": [],
   "source": [
    "x = ones((3,2,4))\n",
    "y = ones((2,4))\n",
    "z = ones((3,2))"
   ]
  },
  {
   "cell_type": "code",
   "execution_count": 45,
   "metadata": {},
   "outputs": [
    {
     "data": {
      "text/plain": [
       "array([[[2., 2., 2., 2.],\n",
       "        [2., 2., 2., 2.]],\n",
       "\n",
       "       [[2., 2., 2., 2.],\n",
       "        [2., 2., 2., 2.]],\n",
       "\n",
       "       [[2., 2., 2., 2.],\n",
       "        [2., 2., 2., 2.]]])"
      ]
     },
     "execution_count": 45,
     "metadata": {},
     "output_type": "execute_result"
    }
   ],
   "source": [
    "x + y #((3,2,4)) + ((1,2,4))"
   ]
  },
  {
   "cell_type": "code",
   "execution_count": 46,
   "metadata": {},
   "outputs": [
    {
     "ename": "ValueError",
     "evalue": "operands could not be broadcast together with shapes (3,2,4) (3,2) ",
     "output_type": "error",
     "traceback": [
      "\u001b[0;31m---------------------------------------------------------------------------\u001b[0m",
      "\u001b[0;31mValueError\u001b[0m                                Traceback (most recent call last)",
      "\u001b[0;32m<ipython-input-46-2d5f8479e2db>\u001b[0m in \u001b[0;36m<module>\u001b[0;34m()\u001b[0m\n\u001b[0;32m----> 1\u001b[0;31m \u001b[0mx\u001b[0m \u001b[0;34m+\u001b[0m \u001b[0mz\u001b[0m\u001b[0;34m\u001b[0m\u001b[0m\n\u001b[0m",
      "\u001b[0;31mValueError\u001b[0m: operands could not be broadcast together with shapes (3,2,4) (3,2) "
     ]
    }
   ],
   "source": [
    "x + z #((3,2,4)) + ((3,2,1))"
   ]
  },
  {
   "cell_type": "code",
   "execution_count": 51,
   "metadata": {},
   "outputs": [],
   "source": [
    "x = ones((2,3,4,5))\n",
    "y = ones((7))\n",
    "z = ones((8))\n",
    "\n",
    "#you need to do this by hand, since it involves the addition of ones as dimensions on the right\n",
    "#(1,2,3,4,5) + (7,1,1,1,1)\n",
    "#(2,3,4,5,1) + (1,1,1,1,7)"
   ]
  },
  {
   "cell_type": "markdown",
   "metadata": {},
   "source": [
    "Numpy thinks about 2D vector as multidimentional vectors instead of matrices.\n",
    "\n",
    "### IMPORTANT:\n",
    "matrix * matrix represent the elementwise sum of all the matrix elements (with possible broadcasting). To perform matrix multiplication, we use the dot function inside numpy."
   ]
  },
  {
   "cell_type": "code",
   "execution_count": 55,
   "metadata": {},
   "outputs": [],
   "source": [
    "?einsum"
   ]
  },
  {
   "cell_type": "code",
   "execution_count": 52,
   "metadata": {},
   "outputs": [
    {
     "name": "stdout",
     "output_type": "stream",
     "text": [
      "(2, 3, 7, 8)\n"
     ]
    }
   ],
   "source": [
    "x = ones((2,3,4,5,6)) #ijklm\n",
    "y = ones((4,5,6,7,8)) #klmno\n",
    "\n",
    "z = einsum('ijklm,klmno -> ijno', x, y) #Allows manual broadcasting\n",
    "\n",
    "print(z.shape)"
   ]
  },
  {
   "cell_type": "code",
   "execution_count": 53,
   "metadata": {},
   "outputs": [
    {
     "name": "stdout",
     "output_type": "stream",
     "text": [
      "(2, 3, 4, 7, 8)\n"
     ]
    }
   ],
   "source": [
    "z = einsum('ijklm,klmno -> ijkno', x, y)\n",
    "print(z.shape)"
   ]
  },
  {
   "cell_type": "code",
   "execution_count": 54,
   "metadata": {},
   "outputs": [
    {
     "name": "stdout",
     "output_type": "stream",
     "text": [
      "(8, 7, 4, 3, 2)\n"
     ]
    }
   ],
   "source": [
    "z = einsum('ijklm,klmno -> onkji', x, y) #The transpose of the previous matrix\n",
    "print(z.shape)"
   ]
  },
  {
   "cell_type": "markdown",
   "metadata": {},
   "source": [
    "# Errors"
   ]
  },
  {
   "cell_type": "code",
   "execution_count": 60,
   "metadata": {},
   "outputs": [],
   "source": [
    "def f(x):\n",
    "    return cos(x)\n",
    "\n",
    "def fprime(x):\n",
    "    return -sin(x)\n",
    "\n",
    "def FD(f, x, h):\n",
    "    return (f(x+h)-f(x))/h"
   ]
  },
  {
   "cell_type": "code",
   "execution_count": 61,
   "metadata": {},
   "outputs": [
    {
     "data": {
      "text/plain": [
       "[<matplotlib.lines.Line2D at 0x7f56f8bc4e48>]"
      ]
     },
     "execution_count": 61,
     "metadata": {},
     "output_type": "execute_result"
    },
    {
     "data": {
      "image/png": "[encoded data removed]",
      "text/plain": [
       "<Figure size 432x288 with 1 Axes>"
      ]
     },
     "metadata": {},
     "output_type": "display_data"
    }
   ],
   "source": [
    "x = linspace(0,2*pi,1000)\n",
    "plot(x, f(x)) #the cosine function, in blue\n",
    "plot(x,fprime(x)) #the derivative of the cosine function, in red"
   ]
  },
  {
   "cell_type": "code",
   "execution_count": 64,
   "metadata": {},
   "outputs": [],
   "source": [
    "h = [1.0/n for n in range(10, 1001)] #A list of steps that become smaller, in an efficient declaration"
   ]
  },
  {
   "cell_type": "code",
   "execution_count": 65,
   "metadata": {},
   "outputs": [
    {
     "data": {
      "text/plain": [
       "[0.1,\n",
       " 0.09090909090909091,\n",
       " 0.08333333333333333,\n",
       " 0.07692307692307693,\n",
       " 0.07142857142857142,\n",
       " 0.06666666666666667,\n",
       " 0.0625,\n",
       " 0.058823529411764705,\n",
       " 0.05555555555555555,\n",
       " 0.05263157894736842,\n",
       " 0.05,\n",
       " 0.047619047619047616,\n",
       " 0.045454545454545456,\n",
       " 0.043478260869565216,\n",
       " 0.041666666666666664,\n",
       " 0.04,\n",
       " 0.038461538461538464,\n",
       " 0.037037037037037035,\n",
       " 0.03571428571428571,\n",
       " 0.034482758620689655,\n",
       " 0.03333333333333333,\n",
       " 0.03225806451612903,\n",
       " 0.03125,\n",
       " 0.030303030303030304,\n",
       " 0.029411764705882353,\n",
       " 0.02857142857142857,\n",
       " 0.027777777777777776,\n",
       " 0.02702702702702703,\n",
       " 0.02631578947368421,\n",
       " 0.02564102564102564,\n",
       " 0.025,\n",
       " 0.024390243902439025,\n",
       " 0.023809523809523808,\n",
       " 0.023255813953488372,\n",
       " 0.022727272727272728,\n",
       " 0.022222222222222223,\n",
       " 0.021739130434782608,\n",
       " 0.02127659574468085,\n",
       " 0.020833333333333332,\n",
       " 0.02040816326530612,\n",
       " 0.02,\n",
       " 0.0196078431372549,\n",
       " 0.019230769230769232,\n",
       " 0.018867924528301886,\n",
       " 0.018518518518518517,\n",
       " 0.01818181818181818,\n",
       " 0.017857142857142856,\n",
       " 0.017543859649122806,\n",
       " 0.017241379310344827,\n",
       " 0.01694915254237288,\n",
       " 0.016666666666666666,\n",
       " 0.01639344262295082,\n",
       " 0.016129032258064516,\n",
       " 0.015873015873015872,\n",
       " 0.015625,\n",
       " 0.015384615384615385,\n",
       " 0.015151515151515152,\n",
       " 0.014925373134328358,\n",
       " 0.014705882352941176,\n",
       " 0.014492753623188406,\n",
       " 0.014285714285714285,\n",
       " 0.014084507042253521,\n",
       " 0.013888888888888888,\n",
       " 0.0136986301369863,\n",
       " 0.013513513513513514,\n",
       " 0.013333333333333334,\n",
       " 0.013157894736842105,\n",
       " 0.012987012987012988,\n",
       " 0.01282051282051282,\n",
       " 0.012658227848101266,\n",
       " 0.0125,\n",
       " 0.012345679012345678,\n",
       " 0.012195121951219513,\n",
       " 0.012048192771084338,\n",
       " 0.011904761904761904,\n",
       " 0.011764705882352941,\n",
       " 0.011627906976744186,\n",
       " 0.011494252873563218,\n",
       " 0.011363636363636364,\n",
       " 0.011235955056179775,\n",
       " 0.011111111111111112,\n",
       " 0.01098901098901099,\n",
       " 0.010869565217391304,\n",
       " 0.010752688172043012,\n",
       " 0.010638297872340425,\n",
       " 0.010526315789473684,\n",
       " 0.010416666666666666,\n",
       " 0.010309278350515464,\n",
       " 0.01020408163265306,\n",
       " 0.010101010101010102,\n",
       " 0.01,\n",
       " 0.009900990099009901,\n",
       " 0.00980392156862745,\n",
       " 0.009708737864077669,\n",
       " 0.009615384615384616,\n",
       " 0.009523809523809525,\n",
       " 0.009433962264150943,\n",
       " 0.009345794392523364,\n",
       " 0.009259259259259259,\n",
       " 0.009174311926605505,\n",
       " 0.00909090909090909,\n",
       " 0.009009009009009009,\n",
       " 0.008928571428571428,\n",
       " 0.008849557522123894,\n",
       " 0.008771929824561403,\n",
       " 0.008695652173913044,\n",
       " 0.008620689655172414,\n",
       " 0.008547008547008548,\n",
       " 0.00847457627118644,\n",
       " 0.008403361344537815,\n",
       " 0.008333333333333333,\n",
       " 0.008264462809917356,\n",
       " 0.00819672131147541,\n",
       " 0.008130081300813009,\n",
       " 0.008064516129032258,\n",
       " 0.008,\n",
       " 0.007936507936507936,\n",
       " 0.007874015748031496,\n",
       " 0.0078125,\n",
       " 0.007751937984496124,\n",
       " 0.007692307692307693,\n",
       " 0.007633587786259542,\n",
       " 0.007575757575757576,\n",
       " 0.007518796992481203,\n",
       " 0.007462686567164179,\n",
       " 0.007407407407407408,\n",
       " 0.007352941176470588,\n",
       " 0.0072992700729927005,\n",
       " 0.007246376811594203,\n",
       " 0.007194244604316547,\n",
       " 0.007142857142857143,\n",
       " 0.0070921985815602835,\n",
       " 0.007042253521126761,\n",
       " 0.006993006993006993,\n",
       " 0.006944444444444444,\n",
       " 0.006896551724137931,\n",
       " 0.00684931506849315,\n",
       " 0.006802721088435374,\n",
       " 0.006756756756756757,\n",
       " 0.006711409395973154,\n",
       " 0.006666666666666667,\n",
       " 0.006622516556291391,\n",
       " 0.006578947368421052,\n",
       " 0.006535947712418301,\n",
       " 0.006493506493506494,\n",
       " 0.0064516129032258064,\n",
       " 0.00641025641025641,\n",
       " 0.006369426751592357,\n",
       " 0.006329113924050633,\n",
       " 0.006289308176100629,\n",
       " 0.00625,\n",
       " 0.006211180124223602,\n",
       " 0.006172839506172839,\n",
       " 0.006134969325153374,\n",
       " 0.006097560975609756,\n",
       " 0.006060606060606061,\n",
       " 0.006024096385542169,\n",
       " 0.005988023952095809,\n",
       " 0.005952380952380952,\n",
       " 0.005917159763313609,\n",
       " 0.0058823529411764705,\n",
       " 0.005847953216374269,\n",
       " 0.005813953488372093,\n",
       " 0.005780346820809248,\n",
       " 0.005747126436781609,\n",
       " 0.005714285714285714,\n",
       " 0.005681818181818182,\n",
       " 0.005649717514124294,\n",
       " 0.0056179775280898875,\n",
       " 0.00558659217877095,\n",
       " 0.005555555555555556,\n",
       " 0.0055248618784530384,\n",
       " 0.005494505494505495,\n",
       " 0.00546448087431694,\n",
       " 0.005434782608695652,\n",
       " 0.005405405405405406,\n",
       " 0.005376344086021506,\n",
       " 0.0053475935828877,\n",
       " 0.005319148936170213,\n",
       " 0.005291005291005291,\n",
       " 0.005263157894736842,\n",
       " 0.005235602094240838,\n",
       " 0.005208333333333333,\n",
       " 0.0051813471502590676,\n",
       " 0.005154639175257732,\n",
       " 0.005128205128205128,\n",
       " 0.00510204081632653,\n",
       " 0.005076142131979695,\n",
       " 0.005050505050505051,\n",
       " 0.005025125628140704,\n",
       " 0.005,\n",
       " 0.004975124378109453,\n",
       " 0.0049504950495049506,\n",
       " 0.0049261083743842365,\n",
       " 0.004901960784313725,\n",
       " 0.004878048780487805,\n",
       " 0.0048543689320388345,\n",
       " 0.004830917874396135,\n",
       " 0.004807692307692308,\n",
       " 0.004784688995215311,\n",
       " 0.004761904761904762,\n",
       " 0.004739336492890996,\n",
       " 0.0047169811320754715,\n",
       " 0.004694835680751174,\n",
       " 0.004672897196261682,\n",
       " 0.004651162790697674,\n",
       " 0.004629629629629629,\n",
       " 0.004608294930875576,\n",
       " 0.0045871559633027525,\n",
       " 0.0045662100456621,\n",
       " 0.004545454545454545,\n",
       " 0.004524886877828055,\n",
       " 0.0045045045045045045,\n",
       " 0.004484304932735426,\n",
       " 0.004464285714285714,\n",
       " 0.0044444444444444444,\n",
       " 0.004424778761061947,\n",
       " 0.004405286343612335,\n",
       " 0.0043859649122807015,\n",
       " 0.004366812227074236,\n",
       " 0.004347826086956522,\n",
       " 0.004329004329004329,\n",
       " 0.004310344827586207,\n",
       " 0.004291845493562232,\n",
       " 0.004273504273504274,\n",
       " 0.00425531914893617,\n",
       " 0.00423728813559322,\n",
       " 0.004219409282700422,\n",
       " 0.004201680672268907,\n",
       " 0.0041841004184100415,\n",
       " 0.004166666666666667,\n",
       " 0.004149377593360996,\n",
       " 0.004132231404958678,\n",
       " 0.00411522633744856,\n",
       " 0.004098360655737705,\n",
       " 0.004081632653061225,\n",
       " 0.0040650406504065045,\n",
       " 0.004048582995951417,\n",
       " 0.004032258064516129,\n",
       " 0.004016064257028112,\n",
       " 0.004,\n",
       " 0.00398406374501992,\n",
       " 0.003968253968253968,\n",
       " 0.003952569169960474,\n",
       " 0.003937007874015748,\n",
       " 0.00392156862745098,\n",
       " 0.00390625,\n",
       " 0.0038910505836575876,\n",
       " 0.003875968992248062,\n",
       " 0.003861003861003861,\n",
       " 0.0038461538461538464,\n",
       " 0.0038314176245210726,\n",
       " 0.003816793893129771,\n",
       " 0.0038022813688212928,\n",
       " 0.003787878787878788,\n",
       " 0.0037735849056603774,\n",
       " 0.0037593984962406013,\n",
       " 0.003745318352059925,\n",
       " 0.0037313432835820895,\n",
       " 0.0037174721189591076,\n",
       " 0.003703703703703704,\n",
       " 0.0036900369003690036,\n",
       " 0.003676470588235294,\n",
       " 0.003663003663003663,\n",
       " 0.0036496350364963502,\n",
       " 0.0036363636363636364,\n",
       " 0.0036231884057971015,\n",
       " 0.0036101083032490976,\n",
       " 0.0035971223021582736,\n",
       " 0.0035842293906810036,\n",
       " 0.0035714285714285713,\n",
       " 0.0035587188612099642,\n",
       " 0.0035460992907801418,\n",
       " 0.0035335689045936395,\n",
       " 0.0035211267605633804,\n",
       " 0.0035087719298245615,\n",
       " 0.0034965034965034965,\n",
       " 0.003484320557491289,\n",
       " 0.003472222222222222,\n",
       " 0.0034602076124567475,\n",
       " 0.0034482758620689655,\n",
       " 0.003436426116838488,\n",
       " 0.003424657534246575,\n",
       " 0.0034129692832764505,\n",
       " 0.003401360544217687,\n",
       " 0.003389830508474576,\n",
       " 0.0033783783783783786,\n",
       " 0.003367003367003367,\n",
       " 0.003355704697986577,\n",
       " 0.0033444816053511705,\n",
       " 0.0033333333333333335,\n",
       " 0.0033222591362126247,\n",
       " 0.0033112582781456954,\n",
       " 0.0033003300330033004,\n",
       " 0.003289473684210526,\n",
       " 0.003278688524590164,\n",
       " 0.0032679738562091504,\n",
       " 0.003257328990228013,\n",
       " 0.003246753246753247,\n",
       " 0.003236245954692557,\n",
       " 0.0032258064516129032,\n",
       " 0.003215434083601286,\n",
       " 0.003205128205128205,\n",
       " 0.003194888178913738,\n",
       " 0.0031847133757961785,\n",
       " 0.0031746031746031746,\n",
       " 0.0031645569620253164,\n",
       " 0.0031545741324921135,\n",
       " 0.0031446540880503146,\n",
       " 0.003134796238244514,\n",
       " 0.003125,\n",
       " 0.003115264797507788,\n",
       " 0.003105590062111801,\n",
       " 0.0030959752321981426,\n",
       " 0.0030864197530864196,\n",
       " 0.003076923076923077,\n",
       " 0.003067484662576687,\n",
       " 0.0030581039755351682,\n",
       " 0.003048780487804878,\n",
       " 0.00303951367781155,\n",
       " 0.0030303030303030303,\n",
       " 0.0030211480362537764,\n",
       " 0.0030120481927710845,\n",
       " 0.003003003003003003,\n",
       " 0.0029940119760479044,\n",
       " 0.0029850746268656717,\n",
       " 0.002976190476190476,\n",
       " 0.002967359050445104,\n",
       " 0.0029585798816568047,\n",
       " 0.0029498525073746312,\n",
       " 0.0029411764705882353,\n",
       " 0.002932551319648094,\n",
       " 0.0029239766081871343,\n",
       " 0.0029154518950437317,\n",
       " 0.0029069767441860465,\n",
       " 0.002898550724637681,\n",
       " 0.002890173410404624,\n",
       " 0.002881844380403458,\n",
       " 0.0028735632183908046,\n",
       " 0.0028653295128939827,\n",
       " 0.002857142857142857,\n",
       " 0.002849002849002849,\n",
       " 0.002840909090909091,\n",
       " 0.0028328611898017,\n",
       " 0.002824858757062147,\n",
       " 0.0028169014084507044,\n",
       " 0.0028089887640449437,\n",
       " 0.0028011204481792717,\n",
       " 0.002793296089385475,\n",
       " 0.002785515320334262,\n",
       " 0.002777777777777778,\n",
       " 0.002770083102493075,\n",
       " 0.0027624309392265192,\n",
       " 0.0027548209366391185,\n",
       " 0.0027472527472527475,\n",
       " 0.0027397260273972603,\n",
       " 0.00273224043715847,\n",
       " 0.0027247956403269754,\n",
       " 0.002717391304347826,\n",
       " 0.0027100271002710027,\n",
       " 0.002702702702702703,\n",
       " 0.0026954177897574125,\n",
       " 0.002688172043010753,\n",
       " 0.002680965147453083,\n",
       " 0.00267379679144385,\n",
       " 0.0026666666666666666,\n",
       " 0.0026595744680851063,\n",
       " 0.002652519893899204,\n",
       " 0.0026455026455026454,\n",
       " 0.002638522427440633,\n",
       " 0.002631578947368421,\n",
       " 0.0026246719160104987,\n",
       " 0.002617801047120419,\n",
       " 0.0026109660574412533,\n",
       " 0.0026041666666666665,\n",
       " 0.0025974025974025974,\n",
       " 0.0025906735751295338,\n",
       " 0.002583979328165375,\n",
       " 0.002577319587628866,\n",
       " 0.002570694087403599,\n",
       " 0.002564102564102564,\n",
       " 0.0025575447570332483,\n",
       " 0.002551020408163265,\n",
       " 0.002544529262086514,\n",
       " 0.0025380710659898475,\n",
       " 0.002531645569620253,\n",
       " 0.0025252525252525255,\n",
       " 0.0025188916876574307,\n",
       " 0.002512562814070352,\n",
       " 0.002506265664160401,\n",
       " 0.0025,\n",
       " 0.0024937655860349127,\n",
       " 0.0024875621890547263,\n",
       " 0.0024813895781637717,\n",
       " 0.0024752475247524753,\n",
       " 0.0024691358024691358,\n",
       " 0.0024630541871921183,\n",
       " 0.002457002457002457,\n",
       " 0.0024509803921568627,\n",
       " 0.0024449877750611247,\n",
       " 0.0024390243902439024,\n",
       " 0.0024330900243309003,\n",
       " 0.0024271844660194173,\n",
       " 0.002421307506053269,\n",
       " 0.0024154589371980675,\n",
       " 0.0024096385542168677,\n",
       " 0.002403846153846154,\n",
       " 0.002398081534772182,\n",
       " 0.0023923444976076554,\n",
       " 0.002386634844868735,\n",
       " 0.002380952380952381,\n",
       " 0.0023752969121140144,\n",
       " 0.002369668246445498,\n",
       " 0.002364066193853428,\n",
       " 0.0023584905660377358,\n",
       " 0.002352941176470588,\n",
       " 0.002347417840375587,\n",
       " 0.00234192037470726,\n",
       " 0.002336448598130841,\n",
       " 0.002331002331002331,\n",
       " 0.002325581395348837,\n",
       " 0.002320185614849188,\n",
       " 0.0023148148148148147,\n",
       " 0.0023094688221709007,\n",
       " 0.002304147465437788,\n",
       " 0.0022988505747126436,\n",
       " 0.0022935779816513763,\n",
       " 0.002288329519450801,\n",
       " 0.00228310502283105,\n",
       " 0.002277904328018223,\n",
       " 0.0022727272727272726,\n",
       " 0.0022675736961451248,\n",
       " 0.0022624434389140274,\n",
       " 0.002257336343115124,\n",
       " 0.0022522522522522522,\n",
       " 0.0022471910112359553,\n",
       " 0.002242152466367713,\n",
       " 0.0022371364653243847,\n",
       " 0.002232142857142857,\n",
       " 0.0022271714922048997,\n",
       " 0.0022222222222222222,\n",
       " 0.0022172949002217295,\n",
       " 0.0022123893805309734,\n",
       " 0.002207505518763797,\n",
       " 0.0022026431718061676,\n",
       " 0.002197802197802198,\n",
       " 0.0021929824561403508,\n",
       " 0.002188183807439825,\n",
       " 0.002183406113537118,\n",
       " 0.002178649237472767,\n",
       " 0.002173913043478261,\n",
       " 0.0021691973969631237,\n",
       " 0.0021645021645021645,\n",
       " 0.0021598272138228943,\n",
       " 0.0021551724137931034,\n",
       " 0.002150537634408602,\n",
       " 0.002145922746781116,\n",
       " 0.0021413276231263384,\n",
       " 0.002136752136752137,\n",
       " 0.0021321961620469083,\n",
       " 0.002127659574468085,\n",
       " 0.0021231422505307855,\n",
       " 0.00211864406779661,\n",
       " 0.0021141649048625794,\n",
       " 0.002109704641350211,\n",
       " 0.002105263157894737,\n",
       " 0.0021008403361344537,\n",
       " 0.0020964360587002098,\n",
       " 0.0020920502092050207,\n",
       " 0.0020876826722338203,\n",
       " 0.0020833333333333333,\n",
       " 0.002079002079002079,\n",
       " 0.002074688796680498,\n",
       " 0.002070393374741201,\n",
       " 0.002066115702479339,\n",
       " 0.002061855670103093,\n",
       " 0.00205761316872428,\n",
       " 0.002053388090349076,\n",
       " 0.0020491803278688526,\n",
       " 0.002044989775051125,\n",
       " 0.0020408163265306124,\n",
       " 0.002036659877800407,\n",
       " 0.0020325203252032522,\n",
       " 0.002028397565922921,\n",
       " 0.0020242914979757085,\n",
       " 0.00202020202020202,\n",
       " 0.0020161290322580645,\n",
       " 0.002012072434607646,\n",
       " 0.002008032128514056,\n",
       " 0.002004008016032064,\n",
       " 0.002,\n",
       " 0.001996007984031936,\n",
       " 0.00199203187250996,\n",
       " 0.0019880715705765406,\n",
       " 0.001984126984126984,\n",
       " 0.0019801980198019802,\n",
       " 0.001976284584980237,\n",
       " 0.0019723865877712033,\n",
       " 0.001968503937007874,\n",
       " 0.0019646365422396855,\n",
       " 0.00196078431372549,\n",
       " 0.0019569471624266144,\n",
       " 0.001953125,\n",
       " 0.001949317738791423,\n",
       " 0.0019455252918287938,\n",
       " 0.001941747572815534,\n",
       " 0.001937984496124031,\n",
       " 0.0019342359767891683,\n",
       " 0.0019305019305019305,\n",
       " 0.0019267822736030828,\n",
       " 0.0019230769230769232,\n",
       " 0.0019193857965451055,\n",
       " 0.0019157088122605363,\n",
       " 0.0019120458891013384,\n",
       " 0.0019083969465648854,\n",
       " 0.0019047619047619048,\n",
       " 0.0019011406844106464,\n",
       " 0.0018975332068311196,\n",
       " 0.001893939393939394,\n",
       " 0.001890359168241966,\n",
       " 0.0018867924528301887,\n",
       " 0.0018832391713747645,\n",
       " 0.0018796992481203006,\n",
       " 0.001876172607879925,\n",
       " 0.0018726591760299626,\n",
       " 0.001869158878504673,\n",
       " 0.0018656716417910447,\n",
       " 0.00186219739292365,\n",
       " 0.0018587360594795538,\n",
       " 0.0018552875695732839,\n",
       " 0.001851851851851852,\n",
       " 0.0018484288354898336,\n",
       " 0.0018450184501845018,\n",
       " 0.001841620626151013,\n",
       " 0.001838235294117647,\n",
       " 0.001834862385321101,\n",
       " 0.0018315018315018315,\n",
       " 0.0018281535648994515,\n",
       " 0.0018248175182481751,\n",
       " 0.0018214936247723133,\n",
       " 0.0018181818181818182,\n",
       " 0.0018148820326678765,\n",
       " 0.0018115942028985507,\n",
       " 0.0018083182640144665,\n",
       " 0.0018050541516245488,\n",
       " 0.0018018018018018018,\n",
       " 0.0017985611510791368,\n",
       " 0.0017953321364452424,\n",
       " 0.0017921146953405018,\n",
       " 0.0017889087656529517,\n",
       " 0.0017857142857142857,\n",
       " 0.0017825311942959,\n",
       " 0.0017793594306049821,\n",
       " 0.0017761989342806395,\n",
       " 0.0017730496453900709,\n",
       " 0.0017699115044247787,\n",
       " 0.0017667844522968198,\n",
       " 0.001763668430335097,\n",
       " 0.0017605633802816902,\n",
       " 0.0017574692442882249,\n",
       " 0.0017543859649122807,\n",
       " 0.0017513134851138354,\n",
       " 0.0017482517482517483,\n",
       " 0.0017452006980802793,\n",
       " 0.0017421602787456446,\n",
       " 0.0017391304347826088,\n",
       " 0.001736111111111111,\n",
       " 0.0017331022530329288,\n",
       " 0.0017301038062283738,\n",
       " 0.0017271157167530224,\n",
       " 0.0017241379310344827,\n",
       " 0.0017211703958691911,\n",
       " 0.001718213058419244,\n",
       " 0.0017152658662092624,\n",
       " 0.0017123287671232876,\n",
       " 0.0017094017094017094,\n",
       " 0.0017064846416382253,\n",
       " 0.0017035775127768314,\n",
       " 0.0017006802721088435,\n",
       " 0.001697792869269949,\n",
       " 0.001694915254237288,\n",
       " 0.001692047377326565,\n",
       " 0.0016891891891891893,\n",
       " 0.0016863406408094434,\n",
       " 0.0016835016835016834,\n",
       " 0.0016806722689075631,\n",
       " 0.0016778523489932886,\n",
       " 0.0016750418760469012,\n",
       " 0.0016722408026755853,\n",
       " 0.001669449081803005,\n",
       " 0.0016666666666666668,\n",
       " 0.0016638935108153079,\n",
       " 0.0016611295681063123,\n",
       " 0.001658374792703151,\n",
       " 0.0016556291390728477,\n",
       " 0.001652892561983471,\n",
       " 0.0016501650165016502,\n",
       " 0.0016474464579901153,\n",
       " 0.001644736842105263,\n",
       " 0.0016420361247947454,\n",
       " 0.001639344262295082,\n",
       " 0.0016366612111292963,\n",
       " 0.0016339869281045752,\n",
       " 0.0016313213703099511,\n",
       " 0.0016286644951140066,\n",
       " 0.0016260162601626016,\n",
       " 0.0016233766233766235,\n",
       " 0.0016207455429497568,\n",
       " 0.0016181229773462784,\n",
       " 0.0016155088852988692,\n",
       " 0.0016129032258064516,\n",
       " 0.001610305958132045,\n",
       " 0.001607717041800643,\n",
       " 0.0016051364365971107,\n",
       " 0.0016025641025641025,\n",
       " 0.0016,\n",
       " 0.001597444089456869,\n",
       " 0.001594896331738437,\n",
       " 0.0015923566878980893,\n",
       " 0.001589825119236884,\n",
       " 0.0015873015873015873,\n",
       " 0.001584786053882726,\n",
       " 0.0015822784810126582,\n",
       " 0.001579778830963665,\n",
       " 0.0015772870662460567,\n",
       " 0.0015748031496062992,\n",
       " 0.0015723270440251573,\n",
       " 0.0015698587127158557,\n",
       " 0.001567398119122257,\n",
       " 0.001564945226917058,\n",
       " 0.0015625,\n",
       " 0.0015600624024961,\n",
       " 0.001557632398753894,\n",
       " 0.0015552099533437014,\n",
       " 0.0015527950310559005,\n",
       " 0.0015503875968992248,\n",
       " 0.0015479876160990713,\n",
       " 0.0015455950540958269,\n",
       " 0.0015432098765432098,\n",
       " 0.0015408320493066256,\n",
       " 0.0015384615384615385,\n",
       " 0.0015360983102918587,\n",
       " 0.0015337423312883436,\n",
       " 0.0015313935681470138,\n",
       " 0.0015290519877675841,\n",
       " 0.0015267175572519084,\n",
       " 0.001524390243902439,\n",
       " 0.0015220700152207,\n",
       " 0.001519756838905775,\n",
       " 0.0015174506828528073,\n",
       " 0.0015151515151515152,\n",
       " 0.0015128593040847202,\n",
       " 0.0015105740181268882,\n",
       " 0.0015082956259426848,\n",
       " 0.0015060240963855422,\n",
       " 0.0015037593984962407,\n",
       " 0.0015015015015015015,\n",
       " 0.0014992503748125937,\n",
       " 0.0014970059880239522,\n",
       " 0.0014947683109118087,\n",
       " 0.0014925373134328358,\n",
       " 0.0014903129657228018,\n",
       " 0.001488095238095238,\n",
       " 0.0014858841010401188,\n",
       " 0.001483679525222552,\n",
       " 0.0014814814814814814,\n",
       " 0.0014792899408284023,\n",
       " 0.0014771048744460858,\n",
       " 0.0014749262536873156,\n",
       " 0.0014727540500736377,\n",
       " 0.0014705882352941176,\n",
       " 0.0014684287812041115,\n",
       " 0.001466275659824047,\n",
       " 0.0014641288433382138,\n",
       " 0.0014619883040935672,\n",
       " 0.00145985401459854,\n",
       " 0.0014577259475218659,\n",
       " 0.001455604075691412,\n",
       " 0.0014534883720930232,\n",
       " 0.001451378809869376,\n",
       " 0.0014492753623188406,\n",
       " 0.001447178002894356,\n",
       " 0.001445086705202312,\n",
       " 0.001443001443001443,\n",
       " 0.001440922190201729,\n",
       " 0.0014388489208633094,\n",
       " 0.0014367816091954023,\n",
       " 0.0014347202295552368,\n",
       " 0.0014326647564469914,\n",
       " 0.001430615164520744,\n",
       " 0.0014285714285714286,\n",
       " 0.0014265335235378032,\n",
       " 0.0014245014245014246,\n",
       " 0.001422475106685633,\n",
       " 0.0014204545454545455,\n",
       " 0.0014184397163120568,\n",
       " 0.00141643059490085,\n",
       " 0.0014144271570014145,\n",
       " 0.0014124293785310734,\n",
       " 0.0014104372355430183,\n",
       " 0.0014084507042253522,\n",
       " 0.0014064697609001407,\n",
       " 0.0014044943820224719,\n",
       " 0.001402524544179523,\n",
       " 0.0014005602240896359,\n",
       " 0.0013986013986013986,\n",
       " 0.0013966480446927375,\n",
       " 0.001394700139470014,\n",
       " 0.001392757660167131,\n",
       " 0.0013908205841446453,\n",
       " 0.001388888888888889,\n",
       " 0.0013869625520110957,\n",
       " 0.0013850415512465374,\n",
       " 0.0013831258644536654,\n",
       " 0.0013812154696132596,\n",
       " 0.001379310344827586,\n",
       " 0.0013774104683195593,\n",
       " 0.001375515818431912,\n",
       " 0.0013736263736263737,\n",
       " 0.0013717421124828531,\n",
       " 0.0013698630136986301,\n",
       " 0.0013679890560875513,\n",
       " 0.001366120218579235,\n",
       " 0.001364256480218281,\n",
       " 0.0013623978201634877,\n",
       " 0.0013605442176870747,\n",
       " 0.001358695652173913,\n",
       " 0.0013568521031207597,\n",
       " 0.0013550135501355014,\n",
       " 0.0013531799729364006,\n",
       " 0.0013513513513513514,\n",
       " 0.001349527665317139,\n",
       " 0.0013477088948787063,\n",
       " 0.0013458950201884253,\n",
       " 0.0013440860215053765,\n",
       " 0.0013422818791946308,\n",
       " 0.0013404825737265416,\n",
       " 0.0013386880856760374,\n",
       " 0.001336898395721925,\n",
       " 0.0013351134846461949,\n",
       " 0.0013333333333333333,\n",
       " 0.0013315579227696406,\n",
       " 0.0013297872340425532,\n",
       " 0.0013280212483399733,\n",
       " 0.001326259946949602,\n",
       " 0.0013245033112582781,\n",
       " 0.0013227513227513227,\n",
       " 0.001321003963011889,\n",
       " 0.0013192612137203166,\n",
       " 0.0013175230566534915,\n",
       " 0.0013157894736842105,\n",
       " 0.001314060446780552,\n",
       " 0.0013123359580052493,\n",
       " 0.001310615989515072,\n",
       " 0.0013089005235602095,\n",
       " 0.00130718954248366,\n",
       " 0.0013054830287206266,\n",
       " 0.001303780964797914,\n",
       " 0.0013020833333333333,\n",
       " 0.0013003901170351106,\n",
       " 0.0012987012987012987,\n",
       " 0.0012970168612191958,\n",
       " 0.0012953367875647669,\n",
       " 0.00129366106080207,\n",
       " 0.0012919896640826874,\n",
       " 0.0012903225806451613,\n",
       " 0.001288659793814433,\n",
       " 0.001287001287001287,\n",
       " 0.0012853470437017994,\n",
       " 0.0012836970474967907,\n",
       " 0.001282051282051282,\n",
       " 0.0012804097311139564,\n",
       " 0.0012787723785166241,\n",
       " 0.001277139208173691,\n",
       " 0.0012755102040816326,\n",
       " 0.0012738853503184713,\n",
       " 0.001272264631043257,\n",
       " 0.0012706480304955528,\n",
       " 0.0012690355329949238,\n",
       " 0.0012674271229404308,\n",
       " 0.0012658227848101266,\n",
       " 0.0012642225031605564,\n",
       " 0.0012626262626262627,\n",
       " 0.0012610340479192938,\n",
       " 0.0012594458438287153,\n",
       " 0.0012578616352201257,\n",
       " 0.001256281407035176,\n",
       " 0.0012547051442910915,\n",
       " 0.0012531328320802004,\n",
       " 0.0012515644555694619,\n",
       " 0.00125,\n",
       " 0.0012484394506866417,\n",
       " 0.0012468827930174563,\n",
       " 0.0012453300124533001,\n",
       " 0.0012437810945273632,\n",
       " 0.0012422360248447205,\n",
       " 0.0012406947890818859,\n",
       " 0.0012391573729863693,\n",
       " 0.0012376237623762376,\n",
       " 0.0012360939431396785,\n",
       " 0.0012345679012345679,\n",
       " 0.0012330456226880395,\n",
       " 0.0012315270935960591,\n",
       " 0.0012300123001230013,\n",
       " 0.0012285012285012285,\n",
       " 0.001226993865030675,\n",
       " 0.0012254901960784314,\n",
       " 0.0012239902080783353,\n",
       " 0.0012224938875305623,\n",
       " 0.001221001221001221,\n",
       " 0.0012195121951219512,\n",
       " 0.001218026796589525,\n",
       " 0.0012165450121654502,\n",
       " 0.001215066828675577,\n",
       " 0.0012135922330097086,\n",
       " 0.0012121212121212121,\n",
       " 0.0012106537530266344,\n",
       " 0.0012091898428053204,\n",
       " 0.0012077294685990338,\n",
       " 0.0012062726176115801,\n",
       " 0.0012048192771084338,\n",
       " 0.0012033694344163659,\n",
       " 0.001201923076923077,\n",
       " 0.0012004801920768306,\n",
       " 0.001199040767386091,\n",
       " 0.0011976047904191617,\n",
       " 0.0011961722488038277,\n",
       " 0.0011947431302270011,\n",
       " 0.0011933174224343676,\n",
       " 0.0011918951132300357,\n",
       " 0.0011904761904761906,\n",
       " 0.0011890606420927466,\n",
       " 0.0011876484560570072,\n",
       " 0.0011862396204033216,\n",
       " 0.001184834123222749,\n",
       " 0.001183431952662722,\n",
       " 0.001182033096926714,\n",
       " 0.0011806375442739079,\n",
       " 0.0011792452830188679,\n",
       " 0.001177856301531213,\n",
       " 0.001176470588235294,\n",
       " 0.0011750881316098707,\n",
       " 0.0011737089201877935,\n",
       " 0.0011723329425556857,\n",
       " 0.00117096018735363,\n",
       " 0.0011695906432748538,\n",
       " 0.0011682242990654205,\n",
       " 0.0011668611435239206,\n",
       " 0.0011655011655011655,\n",
       " 0.0011641443538998836,\n",
       " 0.0011627906976744186,\n",
       " 0.0011614401858304297,\n",
       " 0.001160092807424594,\n",
       " 0.0011587485515643105,\n",
       " 0.0011574074074074073,\n",
       " 0.0011560693641618498,\n",
       " 0.0011547344110854503,\n",
       " 0.0011534025374855825,\n",
       " 0.001152073732718894,\n",
       " 0.0011507479861910242,\n",
       " 0.0011494252873563218,\n",
       " 0.001148105625717566,\n",
       " 0.0011467889908256881,\n",
       " 0.001145475372279496,\n",
       " 0.0011441647597254005,\n",
       " 0.001142857142857143,\n",
       " 0.001141552511415525,\n",
       " 0.0011402508551881414,\n",
       " 0.0011389521640091116,\n",
       " 0.0011376564277588168,\n",
       " 0.0011363636363636363,\n",
       " 0.0011350737797956867,\n",
       " 0.0011337868480725624,\n",
       " 0.0011325028312570782,\n",
       " 0.0011312217194570137,\n",
       " 0.0011299435028248588,\n",
       " 0.001128668171557562,\n",
       " 0.0011273957158962795,\n",
       " 0.0011261261261261261,\n",
       " 0.0011248593925759281,\n",
       " 0.0011235955056179776,\n",
       " 0.001122334455667789,\n",
       " 0.0011210762331838565,\n",
       " 0.0011198208286674132,\n",
       " 0.0011185682326621924,\n",
       " 0.0011173184357541898,\n",
       " 0.0011160714285714285,\n",
       " 0.0011148272017837235,\n",
       " 0.0011135857461024498,\n",
       " 0.0011123470522803114,\n",
       " 0.0011111111111111111,\n",
       " 0.0011098779134295228,\n",
       " 0.0011086474501108647,\n",
       " 0.0011074197120708748,\n",
       " 0.0011061946902654867,\n",
       " 0.0011049723756906078,\n",
       " 0.0011037527593818985,\n",
       " 0.0011025358324145535,\n",
       " 0.0011013215859030838,\n",
       " 0.0011001100110011,\n",
       " 0.001098901098901099,\n",
       " 0.0010976948408342481,\n",
       " 0.0010964912280701754,\n",
       " 0.001095290251916758,\n",
       " 0.0010940919037199124,\n",
       " 0.001092896174863388,\n",
       " 0.001091703056768559,\n",
       " 0.0010905125408942203,\n",
       " 0.0010893246187363835,\n",
       " 0.001088139281828074,\n",
       " 0.0010869565217391304,\n",
       " 0.0010857763300760044,\n",
       " 0.0010845986984815619,\n",
       " 0.0010834236186348862,\n",
       " 0.0010822510822510823,\n",
       " 0.001081081081081081,\n",
       " 0.0010799136069114472,\n",
       " 0.0010787486515641855,\n",
       " 0.0010775862068965517,\n",
       " 0.001076426264800861,\n",
       " 0.001075268817204301,\n",
       " 0.0010741138560687433,\n",
       " 0.001072961373390558,\n",
       " 0.0010718113612004287,\n",
       " 0.0010706638115631692,\n",
       " 0.0010695187165775401,\n",
       " 0.0010683760683760685,\n",
       " 0.0010672358591248667,\n",
       " 0.0010660980810234541,\n",
       " 0.0010649627263045794,\n",
       " 0.0010638297872340426,\n",
       " 0.0010626992561105207,\n",
       " 0.0010615711252653928,\n",
       " 0.0010604453870625664,\n",
       " 0.001059322033898305,\n",
       " 0.0010582010582010583,\n",
       " 0.0010570824524312897,\n",
       " 0.0010559662090813093,\n",
       " 0.0010548523206751054,\n",
       " 0.001053740779768177,\n",
       " 0.0010526315789473684,\n",
       " 0.0010515247108307045,\n",
       " 0.0010504201680672268,\n",
       " 0.001049317943336831,\n",
       " 0.0010482180293501049,\n",
       " 0.0010471204188481676,\n",
       " 0.0010460251046025104,\n",
       " 0.0010449320794148381,\n",
       " 0.0010438413361169101,\n",
       " 0.0010427528675703858,\n",
       " 0.0010416666666666667,\n",
       " 0.001040582726326743,\n",
       " 0.0010395010395010396,\n",
       " 0.0010384215991692627,\n",
       " 0.001037344398340249,\n",
       " 0.0010362694300518134,\n",
       " 0.0010351966873706005,\n",
       " 0.001034126163391934,\n",
       " 0.0010330578512396695,\n",
       " 0.0010319917440660474,\n",
       " 0.0010309278350515464,\n",
       " 0.0010298661174047373,\n",
       " 0.00102880658436214,\n",
       " 0.0010277492291880781,\n",
       " 0.001026694045174538,\n",
       " 0.0010256410256410256,\n",
       " 0.0010245901639344263,\n",
       " 0.0010235414534288639,\n",
       " 0.0010224948875255625,\n",
       " 0.0010214504596527069,\n",
       " 0.0010204081632653062,\n",
       " 0.0010193679918450561,\n",
       " 0.0010183299389002036,\n",
       " 0.001017293997965412,\n",
       " 0.0010162601626016261,\n",
       " 0.0010152284263959391,\n",
       " 0.0010141987829614604,\n",
       " 0.0010131712259371835,\n",
       " 0.0010121457489878543,\n",
       " 0.0010111223458038423,\n",
       " 0.00101010101010101,\n",
       " 0.0010090817356205853,\n",
       " 0.0010080645161290322,\n",
       " 0.0010070493454179255,\n",
       " 0.001006036217303823,\n",
       " 0.0010050251256281408,\n",
       " 0.001004016064257028,\n",
       " 0.0010030090270812437,\n",
       " 0.001002004008016032,\n",
       " 0.001001001001001001,\n",
       " 0.001]"
      ]
     },
     "execution_count": 65,
     "metadata": {},
     "output_type": "execute_result"
    }
   ],
   "source": [
    "h"
   ]
  },
  {
   "cell_type": "code",
   "execution_count": 67,
   "metadata": {},
   "outputs": [],
   "source": [
    "h = 1/arange(10,1001) #Numpy way of declaring the same list, thanks to broadcasting"
   ]
  },
  {
   "cell_type": "code",
   "execution_count": 68,
   "metadata": {},
   "outputs": [
    {
     "data": {
      "text/plain": [
       "array([0.1       , 0.09090909, 0.08333333, 0.07692308, 0.07142857,\n",
       "       0.06666667, 0.0625    , 0.05882353, 0.05555556, 0.05263158,\n",
       "       0.05      , 0.04761905, 0.04545455, 0.04347826, 0.04166667,\n",
       "       0.04      , 0.03846154, 0.03703704, 0.03571429, 0.03448276,\n",
       "       0.03333333, 0.03225806, 0.03125   , 0.03030303, 0.02941176,\n",
       "       0.02857143, 0.02777778, 0.02702703, 0.02631579, 0.02564103,\n",
       "       0.025     , 0.02439024, 0.02380952, 0.02325581, 0.02272727,\n",
       "       0.02222222, 0.02173913, 0.0212766 , 0.02083333, 0.02040816,\n",
       "       0.02      , 0.01960784, 0.01923077, 0.01886792, 0.01851852,\n",
       "       0.01818182, 0.01785714, 0.01754386, 0.01724138, 0.01694915,\n",
       "       0.01666667, 0.01639344, 0.01612903, 0.01587302, 0.015625  ,\n",
       "       0.01538462, 0.01515152, 0.01492537, 0.01470588, 0.01449275,\n",
       "       0.01428571, 0.01408451, 0.01388889, 0.01369863, 0.01351351,\n",
       "       0.01333333, 0.01315789, 0.01298701, 0.01282051, 0.01265823,\n",
       "       0.0125    , 0.01234568, 0.01219512, 0.01204819, 0.01190476,\n",
       "       0.01176471, 0.01162791, 0.01149425, 0.01136364, 0.01123596,\n",
       "       0.01111111, 0.01098901, 0.01086957, 0.01075269, 0.0106383 ,\n",
       "       0.01052632, 0.01041667, 0.01030928, 0.01020408, 0.01010101,\n",
       "       0.01      , 0.00990099, 0.00980392, 0.00970874, 0.00961538,\n",
       "       0.00952381, 0.00943396, 0.00934579, 0.00925926, 0.00917431,\n",
       "       0.00909091, 0.00900901, 0.00892857, 0.00884956, 0.00877193,\n",
       "       0.00869565, 0.00862069, 0.00854701, 0.00847458, 0.00840336,\n",
       "       0.00833333, 0.00826446, 0.00819672, 0.00813008, 0.00806452,\n",
       "       0.008     , 0.00793651, 0.00787402, 0.0078125 , 0.00775194,\n",
       "       0.00769231, 0.00763359, 0.00757576, 0.0075188 , 0.00746269,\n",
       "       0.00740741, 0.00735294, 0.00729927, 0.00724638, 0.00719424,\n",
       "       0.00714286, 0.0070922 , 0.00704225, 0.00699301, 0.00694444,\n",
       "       0.00689655, 0.00684932, 0.00680272, 0.00675676, 0.00671141,\n",
       "       0.00666667, 0.00662252, 0.00657895, 0.00653595, 0.00649351,\n",
       "       0.00645161, 0.00641026, 0.00636943, 0.00632911, 0.00628931,\n",
       "       0.00625   , 0.00621118, 0.00617284, 0.00613497, 0.00609756,\n",
       "       0.00606061, 0.0060241 , 0.00598802, 0.00595238, 0.00591716,\n",
       "       0.00588235, 0.00584795, 0.00581395, 0.00578035, 0.00574713,\n",
       "       0.00571429, 0.00568182, 0.00564972, 0.00561798, 0.00558659,\n",
       "       0.00555556, 0.00552486, 0.00549451, 0.00546448, 0.00543478,\n",
       "       0.00540541, 0.00537634, 0.00534759, 0.00531915, 0.00529101,\n",
       "       0.00526316, 0.0052356 , 0.00520833, 0.00518135, 0.00515464,\n",
       "       0.00512821, 0.00510204, 0.00507614, 0.00505051, 0.00502513,\n",
       "       0.005     , 0.00497512, 0.0049505 , 0.00492611, 0.00490196,\n",
       "       0.00487805, 0.00485437, 0.00483092, 0.00480769, 0.00478469,\n",
       "       0.0047619 , 0.00473934, 0.00471698, 0.00469484, 0.0046729 ,\n",
       "       0.00465116, 0.00462963, 0.00460829, 0.00458716, 0.00456621,\n",
       "       0.00454545, 0.00452489, 0.0045045 , 0.0044843 , 0.00446429,\n",
       "       0.00444444, 0.00442478, 0.00440529, 0.00438596, 0.00436681,\n",
       "       0.00434783, 0.004329  , 0.00431034, 0.00429185, 0.0042735 ,\n",
       "       0.00425532, 0.00423729, 0.00421941, 0.00420168, 0.0041841 ,\n",
       "       0.00416667, 0.00414938, 0.00413223, 0.00411523, 0.00409836,\n",
       "       0.00408163, 0.00406504, 0.00404858, 0.00403226, 0.00401606,\n",
       "       0.004     , 0.00398406, 0.00396825, 0.00395257, 0.00393701,\n",
       "       0.00392157, 0.00390625, 0.00389105, 0.00387597, 0.003861  ,\n",
       "       0.00384615, 0.00383142, 0.00381679, 0.00380228, 0.00378788,\n",
       "       0.00377358, 0.0037594 , 0.00374532, 0.00373134, 0.00371747,\n",
       "       0.0037037 , 0.00369004, 0.00367647, 0.003663  , 0.00364964,\n",
       "       0.00363636, 0.00362319, 0.00361011, 0.00359712, 0.00358423,\n",
       "       0.00357143, 0.00355872, 0.0035461 , 0.00353357, 0.00352113,\n",
       "       0.00350877, 0.0034965 , 0.00348432, 0.00347222, 0.00346021,\n",
       "       0.00344828, 0.00343643, 0.00342466, 0.00341297, 0.00340136,\n",
       "       0.00338983, 0.00337838, 0.003367  , 0.0033557 , 0.00334448,\n",
       "       0.00333333, 0.00332226, 0.00331126, 0.00330033, 0.00328947,\n",
       "       0.00327869, 0.00326797, 0.00325733, 0.00324675, 0.00323625,\n",
       "       0.00322581, 0.00321543, 0.00320513, 0.00319489, 0.00318471,\n",
       "       0.0031746 , 0.00316456, 0.00315457, 0.00314465, 0.0031348 ,\n",
       "       0.003125  , 0.00311526, 0.00310559, 0.00309598, 0.00308642,\n",
       "       0.00307692, 0.00306748, 0.0030581 , 0.00304878, 0.00303951,\n",
       "       0.0030303 , 0.00302115, 0.00301205, 0.003003  , 0.00299401,\n",
       "       0.00298507, 0.00297619, 0.00296736, 0.00295858, 0.00294985,\n",
       "       0.00294118, 0.00293255, 0.00292398, 0.00291545, 0.00290698,\n",
       "       0.00289855, 0.00289017, 0.00288184, 0.00287356, 0.00286533,\n",
       "       0.00285714, 0.002849  , 0.00284091, 0.00283286, 0.00282486,\n",
       "       0.0028169 , 0.00280899, 0.00280112, 0.0027933 , 0.00278552,\n",
       "       0.00277778, 0.00277008, 0.00276243, 0.00275482, 0.00274725,\n",
       "       0.00273973, 0.00273224, 0.0027248 , 0.00271739, 0.00271003,\n",
       "       0.0027027 , 0.00269542, 0.00268817, 0.00268097, 0.0026738 ,\n",
       "       0.00266667, 0.00265957, 0.00265252, 0.0026455 , 0.00263852,\n",
       "       0.00263158, 0.00262467, 0.0026178 , 0.00261097, 0.00260417,\n",
       "       0.0025974 , 0.00259067, 0.00258398, 0.00257732, 0.00257069,\n",
       "       0.0025641 , 0.00255754, 0.00255102, 0.00254453, 0.00253807,\n",
       "       0.00253165, 0.00252525, 0.00251889, 0.00251256, 0.00250627,\n",
       "       0.0025    , 0.00249377, 0.00248756, 0.00248139, 0.00247525,\n",
       "       0.00246914, 0.00246305, 0.002457  , 0.00245098, 0.00244499,\n",
       "       0.00243902, 0.00243309, 0.00242718, 0.00242131, 0.00241546,\n",
       "       0.00240964, 0.00240385, 0.00239808, 0.00239234, 0.00238663,\n",
       "       0.00238095, 0.0023753 , 0.00236967, 0.00236407, 0.00235849,\n",
       "       0.00235294, 0.00234742, 0.00234192, 0.00233645, 0.002331  ,\n",
       "       0.00232558, 0.00232019, 0.00231481, 0.00230947, 0.00230415,\n",
       "       0.00229885, 0.00229358, 0.00228833, 0.00228311, 0.0022779 ,\n",
       "       0.00227273, 0.00226757, 0.00226244, 0.00225734, 0.00225225,\n",
       "       0.00224719, 0.00224215, 0.00223714, 0.00223214, 0.00222717,\n",
       "       0.00222222, 0.00221729, 0.00221239, 0.00220751, 0.00220264,\n",
       "       0.0021978 , 0.00219298, 0.00218818, 0.00218341, 0.00217865,\n",
       "       0.00217391, 0.0021692 , 0.0021645 , 0.00215983, 0.00215517,\n",
       "       0.00215054, 0.00214592, 0.00214133, 0.00213675, 0.0021322 ,\n",
       "       0.00212766, 0.00212314, 0.00211864, 0.00211416, 0.0021097 ,\n",
       "       0.00210526, 0.00210084, 0.00209644, 0.00209205, 0.00208768,\n",
       "       0.00208333, 0.002079  , 0.00207469, 0.00207039, 0.00206612,\n",
       "       0.00206186, 0.00205761, 0.00205339, 0.00204918, 0.00204499,\n",
       "       0.00204082, 0.00203666, 0.00203252, 0.0020284 , 0.00202429,\n",
       "       0.0020202 , 0.00201613, 0.00201207, 0.00200803, 0.00200401,\n",
       "       0.002     , 0.00199601, 0.00199203, 0.00198807, 0.00198413,\n",
       "       0.0019802 , 0.00197628, 0.00197239, 0.0019685 , 0.00196464,\n",
       "       0.00196078, 0.00195695, 0.00195312, 0.00194932, 0.00194553,\n",
       "       0.00194175, 0.00193798, 0.00193424, 0.0019305 , 0.00192678,\n",
       "       0.00192308, 0.00191939, 0.00191571, 0.00191205, 0.0019084 ,\n",
       "       0.00190476, 0.00190114, 0.00189753, 0.00189394, 0.00189036,\n",
       "       0.00188679, 0.00188324, 0.0018797 , 0.00187617, 0.00187266,\n",
       "       0.00186916, 0.00186567, 0.0018622 , 0.00185874, 0.00185529,\n",
       "       0.00185185, 0.00184843, 0.00184502, 0.00184162, 0.00183824,\n",
       "       0.00183486, 0.0018315 , 0.00182815, 0.00182482, 0.00182149,\n",
       "       0.00181818, 0.00181488, 0.00181159, 0.00180832, 0.00180505,\n",
       "       0.0018018 , 0.00179856, 0.00179533, 0.00179211, 0.00178891,\n",
       "       0.00178571, 0.00178253, 0.00177936, 0.0017762 , 0.00177305,\n",
       "       0.00176991, 0.00176678, 0.00176367, 0.00176056, 0.00175747,\n",
       "       0.00175439, 0.00175131, 0.00174825, 0.0017452 , 0.00174216,\n",
       "       0.00173913, 0.00173611, 0.0017331 , 0.0017301 , 0.00172712,\n",
       "       0.00172414, 0.00172117, 0.00171821, 0.00171527, 0.00171233,\n",
       "       0.0017094 , 0.00170648, 0.00170358, 0.00170068, 0.00169779,\n",
       "       0.00169492, 0.00169205, 0.00168919, 0.00168634, 0.0016835 ,\n",
       "       0.00168067, 0.00167785, 0.00167504, 0.00167224, 0.00166945,\n",
       "       0.00166667, 0.00166389, 0.00166113, 0.00165837, 0.00165563,\n",
       "       0.00165289, 0.00165017, 0.00164745, 0.00164474, 0.00164204,\n",
       "       0.00163934, 0.00163666, 0.00163399, 0.00163132, 0.00162866,\n",
       "       0.00162602, 0.00162338, 0.00162075, 0.00161812, 0.00161551,\n",
       "       0.0016129 , 0.00161031, 0.00160772, 0.00160514, 0.00160256,\n",
       "       0.0016    , 0.00159744, 0.0015949 , 0.00159236, 0.00158983,\n",
       "       0.0015873 , 0.00158479, 0.00158228, 0.00157978, 0.00157729,\n",
       "       0.0015748 , 0.00157233, 0.00156986, 0.0015674 , 0.00156495,\n",
       "       0.0015625 , 0.00156006, 0.00155763, 0.00155521, 0.0015528 ,\n",
       "       0.00155039, 0.00154799, 0.0015456 , 0.00154321, 0.00154083,\n",
       "       0.00153846, 0.0015361 , 0.00153374, 0.00153139, 0.00152905,\n",
       "       0.00152672, 0.00152439, 0.00152207, 0.00151976, 0.00151745,\n",
       "       0.00151515, 0.00151286, 0.00151057, 0.0015083 , 0.00150602,\n",
       "       0.00150376, 0.0015015 , 0.00149925, 0.00149701, 0.00149477,\n",
       "       0.00149254, 0.00149031, 0.0014881 , 0.00148588, 0.00148368,\n",
       "       0.00148148, 0.00147929, 0.0014771 , 0.00147493, 0.00147275,\n",
       "       0.00147059, 0.00146843, 0.00146628, 0.00146413, 0.00146199,\n",
       "       0.00145985, 0.00145773, 0.0014556 , 0.00145349, 0.00145138,\n",
       "       0.00144928, 0.00144718, 0.00144509, 0.001443  , 0.00144092,\n",
       "       0.00143885, 0.00143678, 0.00143472, 0.00143266, 0.00143062,\n",
       "       0.00142857, 0.00142653, 0.0014245 , 0.00142248, 0.00142045,\n",
       "       0.00141844, 0.00141643, 0.00141443, 0.00141243, 0.00141044,\n",
       "       0.00140845, 0.00140647, 0.00140449, 0.00140252, 0.00140056,\n",
       "       0.0013986 , 0.00139665, 0.0013947 , 0.00139276, 0.00139082,\n",
       "       0.00138889, 0.00138696, 0.00138504, 0.00138313, 0.00138122,\n",
       "       0.00137931, 0.00137741, 0.00137552, 0.00137363, 0.00137174,\n",
       "       0.00136986, 0.00136799, 0.00136612, 0.00136426, 0.0013624 ,\n",
       "       0.00136054, 0.0013587 , 0.00135685, 0.00135501, 0.00135318,\n",
       "       0.00135135, 0.00134953, 0.00134771, 0.0013459 , 0.00134409,\n",
       "       0.00134228, 0.00134048, 0.00133869, 0.0013369 , 0.00133511,\n",
       "       0.00133333, 0.00133156, 0.00132979, 0.00132802, 0.00132626,\n",
       "       0.0013245 , 0.00132275, 0.001321  , 0.00131926, 0.00131752,\n",
       "       0.00131579, 0.00131406, 0.00131234, 0.00131062, 0.0013089 ,\n",
       "       0.00130719, 0.00130548, 0.00130378, 0.00130208, 0.00130039,\n",
       "       0.0012987 , 0.00129702, 0.00129534, 0.00129366, 0.00129199,\n",
       "       0.00129032, 0.00128866, 0.001287  , 0.00128535, 0.0012837 ,\n",
       "       0.00128205, 0.00128041, 0.00127877, 0.00127714, 0.00127551,\n",
       "       0.00127389, 0.00127226, 0.00127065, 0.00126904, 0.00126743,\n",
       "       0.00126582, 0.00126422, 0.00126263, 0.00126103, 0.00125945,\n",
       "       0.00125786, 0.00125628, 0.00125471, 0.00125313, 0.00125156,\n",
       "       0.00125   , 0.00124844, 0.00124688, 0.00124533, 0.00124378,\n",
       "       0.00124224, 0.00124069, 0.00123916, 0.00123762, 0.00123609,\n",
       "       0.00123457, 0.00123305, 0.00123153, 0.00123001, 0.0012285 ,\n",
       "       0.00122699, 0.00122549, 0.00122399, 0.00122249, 0.001221  ,\n",
       "       0.00121951, 0.00121803, 0.00121655, 0.00121507, 0.00121359,\n",
       "       0.00121212, 0.00121065, 0.00120919, 0.00120773, 0.00120627,\n",
       "       0.00120482, 0.00120337, 0.00120192, 0.00120048, 0.00119904,\n",
       "       0.0011976 , 0.00119617, 0.00119474, 0.00119332, 0.0011919 ,\n",
       "       0.00119048, 0.00118906, 0.00118765, 0.00118624, 0.00118483,\n",
       "       0.00118343, 0.00118203, 0.00118064, 0.00117925, 0.00117786,\n",
       "       0.00117647, 0.00117509, 0.00117371, 0.00117233, 0.00117096,\n",
       "       0.00116959, 0.00116822, 0.00116686, 0.0011655 , 0.00116414,\n",
       "       0.00116279, 0.00116144, 0.00116009, 0.00115875, 0.00115741,\n",
       "       0.00115607, 0.00115473, 0.0011534 , 0.00115207, 0.00115075,\n",
       "       0.00114943, 0.00114811, 0.00114679, 0.00114548, 0.00114416,\n",
       "       0.00114286, 0.00114155, 0.00114025, 0.00113895, 0.00113766,\n",
       "       0.00113636, 0.00113507, 0.00113379, 0.0011325 , 0.00113122,\n",
       "       0.00112994, 0.00112867, 0.0011274 , 0.00112613, 0.00112486,\n",
       "       0.0011236 , 0.00112233, 0.00112108, 0.00111982, 0.00111857,\n",
       "       0.00111732, 0.00111607, 0.00111483, 0.00111359, 0.00111235,\n",
       "       0.00111111, 0.00110988, 0.00110865, 0.00110742, 0.00110619,\n",
       "       0.00110497, 0.00110375, 0.00110254, 0.00110132, 0.00110011,\n",
       "       0.0010989 , 0.00109769, 0.00109649, 0.00109529, 0.00109409,\n",
       "       0.0010929 , 0.0010917 , 0.00109051, 0.00108932, 0.00108814,\n",
       "       0.00108696, 0.00108578, 0.0010846 , 0.00108342, 0.00108225,\n",
       "       0.00108108, 0.00107991, 0.00107875, 0.00107759, 0.00107643,\n",
       "       0.00107527, 0.00107411, 0.00107296, 0.00107181, 0.00107066,\n",
       "       0.00106952, 0.00106838, 0.00106724, 0.0010661 , 0.00106496,\n",
       "       0.00106383, 0.0010627 , 0.00106157, 0.00106045, 0.00105932,\n",
       "       0.0010582 , 0.00105708, 0.00105597, 0.00105485, 0.00105374,\n",
       "       0.00105263, 0.00105152, 0.00105042, 0.00104932, 0.00104822,\n",
       "       0.00104712, 0.00104603, 0.00104493, 0.00104384, 0.00104275,\n",
       "       0.00104167, 0.00104058, 0.0010395 , 0.00103842, 0.00103734,\n",
       "       0.00103627, 0.0010352 , 0.00103413, 0.00103306, 0.00103199,\n",
       "       0.00103093, 0.00102987, 0.00102881, 0.00102775, 0.00102669,\n",
       "       0.00102564, 0.00102459, 0.00102354, 0.00102249, 0.00102145,\n",
       "       0.00102041, 0.00101937, 0.00101833, 0.00101729, 0.00101626,\n",
       "       0.00101523, 0.0010142 , 0.00101317, 0.00101215, 0.00101112,\n",
       "       0.0010101 , 0.00100908, 0.00100806, 0.00100705, 0.00100604,\n",
       "       0.00100503, 0.00100402, 0.00100301, 0.001002  , 0.001001  ,\n",
       "       0.001     ])"
      ]
     },
     "execution_count": 68,
     "metadata": {},
     "output_type": "execute_result"
    }
   ],
   "source": [
    "h"
   ]
  },
  {
   "cell_type": "code",
   "execution_count": 71,
   "metadata": {},
   "outputs": [],
   "source": [
    "error = [abs(FD(f, 1, s) - fprime(1)) for s in h] # f is the f function"
   ]
  },
  {
   "cell_type": "code",
   "execution_count": 73,
   "metadata": {},
   "outputs": [
    {
     "data": {
      "text/plain": [
       "[<matplotlib.lines.Line2D at 0x7f56f889fe10>]"
      ]
     },
     "execution_count": 73,
     "metadata": {},
     "output_type": "execute_result"
    },
    {
     "data": {
      "image/png": "[encoded data removed]",
      "text/plain": [
       "<Figure size 432x288 with 1 Axes>"
      ]
     },
     "metadata": {},
     "output_type": "display_data"
    }
   ],
   "source": [
    "loglog(h,error)"
   ]
  },
  {
   "cell_type": "code",
   "execution_count": 74,
   "metadata": {},
   "outputs": [],
   "source": [
    "h = 10.0**arange(-15,0)"
   ]
  },
  {
   "cell_type": "code",
   "execution_count": 75,
   "metadata": {},
   "outputs": [
    {
     "data": {
      "text/plain": [
       "array([1.e-15, 1.e-14, 1.e-13, 1.e-12, 1.e-11, 1.e-10, 1.e-09, 1.e-08,\n",
       "       1.e-07, 1.e-06, 1.e-05, 1.e-04, 1.e-03, 1.e-02, 1.e-01])"
      ]
     },
     "execution_count": 75,
     "metadata": {},
     "output_type": "execute_result"
    }
   ],
   "source": [
    "h"
   ]
  },
  {
   "cell_type": "code",
   "execution_count": 76,
   "metadata": {},
   "outputs": [],
   "source": [
    "error = [abs(FD(f, 1, s) - fprime(1)) for s in h] # f is the f function"
   ]
  },
  {
   "cell_type": "code",
   "execution_count": 77,
   "metadata": {},
   "outputs": [
    {
     "data": {
      "text/plain": [
       "[<matplotlib.lines.Line2D at 0x7f56f869b198>]"
      ]
     },
     "execution_count": 77,
     "metadata": {},
     "output_type": "execute_result"
    },
    {
     "data": {
      "image/png": "[encoded data removed]",
      "text/plain": [
       "<Figure size 432x288 with 1 Axes>"
      ]
     },
     "metadata": {},
     "output_type": "display_data"
    }
   ],
   "source": [
    "loglog(h, error) #We see the efect of rounding vs truncation error"
   ]
  },
  {
   "cell_type": "code",
   "execution_count": 78,
   "metadata": {},
   "outputs": [],
   "source": [
    "h = 2.0**arange(-55,0)"
   ]
  },
  {
   "cell_type": "code",
   "execution_count": 84,
   "metadata": {},
   "outputs": [],
   "source": [
    "error = [abs(FD(f, 1, s) - fprime(1)) for s in h] # f is the f function"
   ]
  },
  {
   "cell_type": "code",
   "execution_count": 86,
   "metadata": {},
   "outputs": [
    {
     "data": {
      "text/plain": [
       "[<matplotlib.lines.Line2D at 0x7f56f84b7c18>]"
      ]
     },
     "execution_count": 86,
     "metadata": {},
     "output_type": "execute_result"
    },
    {
     "data": {
      "image/png": "[encoded data removed]",
      "text/plain": [
       "<Figure size 432x288 with 1 Axes>"
      ]
     },
     "metadata": {},
     "output_type": "display_data"
    }
   ],
   "source": [
    "loglog(h, error) "
   ]
  },
  {
   "cell_type": "code",
   "execution_count": 89,
   "metadata": {},
   "outputs": [],
   "source": [
    "def CFD(f, x, h): #Crntral finite difference approach\n",
    "    return(f(x + h) - f(x - h))/(2*h) #The power of h is equal to 2 in the error"
   ]
  },
  {
   "cell_type": "code",
   "execution_count": 90,
   "metadata": {},
   "outputs": [],
   "source": [
    "error    = [abs( FD(f, 1, s) - fprime(1)) for s in h] # f is the f function\n",
    "errorcfd = [abs(CFD(f, 1, s) - fprime(1)) for s in h] # exactly the same calculation as before"
   ]
  },
  {
   "cell_type": "code",
   "execution_count": 91,
   "metadata": {},
   "outputs": [
    {
     "data": {
      "text/plain": [
       "[<matplotlib.lines.Line2D at 0x7f56f8438c50>]"
      ]
     },
     "execution_count": 91,
     "metadata": {},
     "output_type": "execute_result"
    },
    {
     "data": {
      "image/png": "[encoded data removed]",
      "text/plain": [
       "<Figure size 432x288 with 1 Axes>"
      ]
     },
     "metadata": {},
     "output_type": "display_data"
    }
   ],
   "source": [
    "loglog(h, error)\n",
    "loglog(h, errorcfd)"
   ]
  },
  {
   "cell_type": "code",
   "execution_count": 94,
   "metadata": {},
   "outputs": [],
   "source": [
    "error    = [abs( FD(f, pi/2, s) - fprime(pi/2)) for s in h] # f is the f function\n",
    "errorcfd = [abs(CFD(f, pi/2, s) - fprime(pi/2)) for s in h] # exactly the same calculation as before"
   ]
  },
  {
   "cell_type": "code",
   "execution_count": 95,
   "metadata": {},
   "outputs": [
    {
     "data": {
      "text/plain": [
       "[<matplotlib.lines.Line2D at 0x7f56f820ba90>]"
      ]
     },
     "execution_count": 95,
     "metadata": {},
     "output_type": "execute_result"
    },
    {
     "data": {
      "image/png": "[encoded data removed]",
      "text/plain": [
       "<Figure size 432x288 with 1 Axes>"
      ]
     },
     "metadata": {},
     "output_type": "display_data"
    }
   ],
   "source": [
    "loglog(h, error)\n",
    "loglog(h, errorcfd) #all the even derivatives is 0 between 10^-8 and 10^-16, so the rounding error goes to 0 very quickly"
   ]
  },
  {
   "cell_type": "code",
   "execution_count": null,
   "metadata": {},
   "outputs": [],
   "source": []
  }
 ],
 "metadata": {
  "kernelspec": {
   "display_name": "Python 3",
   "language": "python",
   "name": "python3"
  },
  "language_info": {
   "codemirror_mode": {
    "name": "ipython",
    "version": 3
   },
   "file_extension": ".py",
   "mimetype": "text/x-python",
   "name": "python",
   "nbconvert_exporter": "python",
   "pygments_lexer": "ipython3",
   "version": "3.7.0"
  }
 },
 "nbformat": 4,
 "nbformat_minor": 2
}
