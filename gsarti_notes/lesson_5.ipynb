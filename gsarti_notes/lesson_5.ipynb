{
 "cells": [
  {
   "cell_type": "markdown",
   "metadata": {},
   "source": [
    "# Best Approximations and Interpolation"
   ]
  },
  {
   "cell_type": "markdown",
   "metadata": {},
   "source": [
    "## Introduction - Vector Spaces, Norms and Completeness\n",
    "\n",
    "In order to talk about best approximations, we should first define a **Banach space**, since it is the space in which those approximations are defined.\n",
    "\n",
    "A **Banach space** is a **_vector space_** which is **_complete_** and **_normed_**.\n",
    "\n",
    "\n",
    "A **vector space** $V$ is defined as a set of values for which the two following operations are defined:\n",
    "\n",
    "* $x + y \\in V$, with $x, y \\in V$\n",
    "\n",
    "* $\\alpha x \\in V$, with $\\alpha \\in \\mathbb{R}, x \\in V$\n",
    "\n",
    "A **norm** $\\|.\\|$ is a set of functions $V \\to \\mathbb{R}^{+} \\cup \\{0\\}$ such that:\n",
    "\n",
    "* $\\|v\\| \\geq 0  \\forall v \\in V$ (*positive definiteness*)\n",
    "\n",
    "* $\\|\\alpha v\\| = |\\alpha|\\|v\\|$ (*homogeneity*)\n",
    "\n",
    "* $\\|u + v\\| = \\|u\\| + \\|v\\|$ (*triangular inequality*)\n",
    "\n",
    "* $\\|v\\| = 0 \\iff u = 0$ (if this property isn't true, the set of function is called a *seminorm*)\n",
    "\n",
    "\n",
    "A norm is said to be **strictly convex** if:\n",
    "\n",
    "* $\\|f\\| = \\|g\\| = 1$ for $f, g \\in V$\n",
    "\n",
    "* $\\|\\theta f + (1 - \\theta) g\\| < 1$ for $f, g \\in V$\n",
    "\n",
    "A vector space over $K$ ($K = \\mathbb{R}$ or $K = \\mathbb{C}$)is said to be **normed** if at least a norm is defined inside it. We need a normed space since we want to deal with locally convex functions and we use norm in order to approximate the results of high-order spaces.\n",
    "\n",
    "A vector space is said to be **complete** if all the Cauchy sequences defined inside the same space converge inside it. This gives us information about the possibility of approximating a function by approaching his exact value, given its convergence.\n",
    "\n",
    "The particular vector space we are going to deal with is $C^{0}([0,1])$, the **set of all continuous functions up to their 0th derivative (the function itself) defined between 0 and 1**.\n",
    "\n",
    "In $C^{0}([0,1])$ the **infinity norm** is $\\|v\\|_{\\infty} = \\max\\limits_{x \\in [0,1]} |v(x)|$\n",
    "\n",
    "In $C^{0}([0,1])$ the $L^{1}$**norm** is $\\|v\\|_{L^{1}} = \\int_{0}^{1}v$\n",
    "\n",
    "For the **Extreme Value Theorem** (Weierstrass), since the functions in C are all continuous on the closed interval $[0,1]$, then the maximum and the minimum of those functions must exist in that interval, so that the infinite norm is always defined. For non-continuous functions, the equivalent infinite norm is $\\|v\\|_{\\infty} = \\sup\\limits_{x \\in [0,1]} |v(x)|$ ($\\sup$ represents the least upper bound when $\\max$ is not defined)\n",
    "\n",
    "By definition, two functions are close in the L infinity norm if they are **close in every point of their domain**. $C^{0}([0,1])$ is an **infinite-dimensional space** since we can always define a polynomial of order $n+1$ which is continuous in this space.\n"
   ]
  },
  {
   "cell_type": "markdown",
   "metadata": {},
   "source": [
    "## Best Approximation\n",
    "\n",
    "The **distance** between two functions $f,g$ is given by the following formula:\n",
    "\n",
    "$$d(f,g) = \\| f - g \\|_{\\infty}$$\n",
    "\n",
    "For $f \\in V$ (ex. $C^{0}([0,1])$ ), using $p \\in M \\subset V$ ($M$ is a closed subspace of $V$), $p$ is the best approximation of $f$ if:\n",
    "\n",
    "\n",
    "$$\\| p - f \\|_{V} \\leq \\| q - f \\|_{V},  \\forall q \\in M $$\n",
    "\n",
    "In other terms, $p$ is the best function of $M$ to **minimize the distance between itself and $f$** ($f$ is not an element of $M$!).\n",
    "\n",
    "\n",
    "**_Is the best approximation unique, though?_**\n",
    "\n",
    "\n",
    "A possible approach is to prove that $\\| p_{2} - f \\| = \\| p_{1} - f \\| \\leq \\| q - f \\|,  \\forall q \\in M $, given that $ p_{1} \\neq p_{2}$.\n",
    "\n",
    "If the norm is strictly convex, then:\n",
    "\n",
    "$\\frac{1}{2}(p_{1} + p_{2}) = q$ and $f = \\frac{1}{2}(f - p_{1}) + \\frac{1}{2}(f - p_{2})$ \n",
    "\n",
    "we can then simplify to:\n",
    "\n",
    "$$ \\|f - p_{1}\\| = E = \\|f - p_{2}\\| \\leq \\frac{1}{2}(f - p_{1}) + \\frac{1}{2}(f - p_{2})$$\n",
    "\n",
    "which is **impossible** by definition. We have proved in such way that the best approximation have to be unique in $M$.\n",
    "\n",
    "The goodness of approximation **highly depends on the norm used** to estimate it. For example, the infinite norm takes in account the distance between two functions in all their points, while the $L^{1}$ norm is based on the area between the two curves. In the case of an approximation function which goes to infinity in a single point, it is going to be considered a bad approximation by the infinite norm, but good by the $L^{1}$ norm since the area under the said point is 0.\n",
    "\n",
    "In the context of best approximations, let's keep $V = C^{0}([0,1])$ and set $M$ as $P^{n}([0,1])$, that is, **the set of all the polynomials of order $n$ between 0 and 1**.\n",
    "\n",
    "$$ M = P^{n} = span\\{x^{(i)}\\}^{n}$$\n",
    "\n",
    "$$ p \\in P^{n} \\iff \\sum_{i = 0}^{n} p^{i}x^{(i)}$$\n",
    "\n",
    "($^{(i)}$ is the **Einstein's notation** for power elevation, while $^{i}$ is a simple index for the sum of elements)\n",
    "\n",
    "Example: $ p \\in P^{3} \\iff ax^{3}+bx^{2}+cx+d$ with $a,b,c,d$ being respectively $p^{3},p^{2},p^{1}$ and $p^{0}$\n",
    "\n",
    "$\\dim(P^{3})$ is equal to four since by taking four elements we can define all the domain of $P^{3}$"
   ]
  },
  {
   "cell_type": "markdown",
   "metadata": {},
   "source": [
    "## Interpolation\n",
    "\n",
    "# TODO (soon!)"
   ]
  },
  {
   "cell_type": "markdown",
   "metadata": {},
   "source": []
  },
  {
   "cell_type": "markdown",
   "metadata": {},
   "source": []
  }
 ],
 "metadata": {
  "kernelspec": {
   "display_name": "Python 3",
   "language": "python",
   "name": "python3"
  },
  "language_info": {
   "codemirror_mode": {
    "name": "ipython",
    "version": 3
   },
   "file_extension": ".py",
   "mimetype": "text/x-python",
   "name": "python",
   "nbconvert_exporter": "python",
   "pygments_lexer": "ipython3",
   "version": "3.7.0"
  }
 },
 "nbformat": 4,
 "nbformat_minor": 2
}
