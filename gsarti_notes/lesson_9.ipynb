{
 "cells": [
  {
   "cell_type": "code",
   "execution_count": 3,
   "metadata": {},
   "outputs": [],
   "source": [
    "%matplotlib inline\n",
    "from numpy import *\n",
    "from matplotlib.pyplot import *\n",
    "import sympy as sym\n",
    "\n",
    "# See 02_non_linear_equations.ipynb for the code"
   ]
  },
  {
   "cell_type": "markdown",
   "metadata": {},
   "source": [
    "We use the function $f(x) = \\frac{x}{8}(63x^{4} - 70x^{2} + 15)$, which is the Legendre polynomial of order 5\n",
    "\n",
    "1. We first **compute the first derivative of this function** through the use of sympy library's `sym.diff`. We'll use this derivative for the Newton's method.\n",
    "\n",
    "2. We use `sym.lambdify` the function and its derivative in order to make them assume values as parameters.\n",
    "\n",
    "3. We plot the function with respect to $[-1, 1]$ and put the x axis in evidence. \n",
    "\n",
    "## Bisection method\n",
    "\n",
    "For the bisection method, it is very important **not to choose values that have the same sign**, since we rely on them having different signs in order to perform the bisection step. That's why we start the `bisect` function with \n",
    "\n",
    "```python\n",
    "assert(f(a) * f(b) < 0)\n",
    "```\n",
    "The criterion $| x^{k} - \\alpha| < T$, where $T$ is the **tolerance** we are prescribing to the algorithm.\n",
    "\n",
    "Since this assumption would require us to have $\\alpha$, which is the value we are looking for, it doesn't make sense. We should simply check that $|f(x^{k}| = 0$ since we are converging towards a zero of the function.\n"
   ]
  },
  {
   "cell_type": "markdown",
   "metadata": {},
   "source": [
    "## Newton's Method\n",
    "\n",
    "See the Jupyter Notebook for the implementation"
   ]
  },
  {
   "cell_type": "markdown",
   "metadata": {},
   "source": [
    "## Chord Method"
   ]
  },
  {
   "cell_type": "markdown",
   "metadata": {},
   "source": []
  },
  {
   "cell_type": "markdown",
   "metadata": {},
   "source": []
  }
 ],
 "metadata": {
  "kernelspec": {
   "display_name": "Python 3",
   "language": "python",
   "name": "python3"
  },
  "language_info": {
   "codemirror_mode": {
    "name": "ipython",
    "version": 3
   },
   "file_extension": ".py",
   "mimetype": "text/x-python",
   "name": "python",
   "nbconvert_exporter": "python",
   "pygments_lexer": "ipython3",
   "version": "3.7.1"
  }
 },
 "nbformat": 4,
 "nbformat_minor": 2
}
