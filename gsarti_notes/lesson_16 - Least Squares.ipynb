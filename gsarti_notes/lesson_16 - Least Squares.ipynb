{
 "cells": [
  {
   "cell_type": "markdown",
   "metadata": {},
   "source": [
    "# Least Squares\n",
    "\n",
    "See [slides](https://github.com/gsarti/numerical_analysis/blob/master/docs/slides/Slides_06_Least_Squares_EN.pdf).\n",
    "\n",
    "# ODEs\n",
    "\n",
    "We're solving a Cauchy problem, looking at the evolution of $y$ in time.\n",
    "\n",
    "We have three possible different options to discretize the derivative, at the basis of any finite different approach: \n",
    "\n",
    "* Forward finite difference\n",
    "\n",
    "* Backward finite difference\n",
    "\n",
    "* Centered finite difference\n",
    "\n",
    "Those have different orders of accuracy, since they use different formulas basing on different intervals.\n",
    "\n"
   ]
  }
 ],
 "metadata": {
  "kernelspec": {
   "display_name": "Python 3",
   "language": "python",
   "name": "python3"
  },
  "language_info": {
   "codemirror_mode": {
    "name": "ipython",
    "version": 3
   },
   "file_extension": ".py",
   "mimetype": "text/x-python",
   "name": "python",
   "nbconvert_exporter": "python",
   "pygments_lexer": "ipython3",
   "version": "3.7.1"
  }
 },
 "nbformat": 4,
 "nbformat_minor": 2
}
