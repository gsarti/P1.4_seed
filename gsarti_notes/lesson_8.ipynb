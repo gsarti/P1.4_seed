{
 "cells": [
  {
   "cell_type": "markdown",
   "metadata": {},
   "source": [
    "# Interpolation - Continued"
   ]
  },
  {
   "cell_type": "markdown",
   "metadata": {},
   "source": [
    "Which is the optimal choice for the points on which we should perform the interpolation?\n",
    "\n",
    "Theorem 1: let $f \\in C^{n+1}([0,1]), \\forall x \\in [0,1], \\exists \\xi$ s.t.\n",
    "\n",
    "$$(Lf - f)(x) = \\frac{1}{(n+1)!}f^{(n+1)}(\\xi)\\omega(x)$$\n",
    "\n",
    "$$G(t) = (f(t) - p(t))\\omega(x) - (f(x) - p(x))\\omega(t)$$\n",
    "\n",
    "($p$ is the **Lagrange interpolation of f**, $Lf$)\n",
    "\n",
    "$G$ is a function of $t$ with an $x$ parameter and at most $n+2$ zeros\n",
    "\n",
    "$$\\frac{d^{n+1}}{dt^{n+1}}G(t) = f^{(n+1)}\\omega(x) - (f(x) - p(x))(n+1)!$$\n",
    "\n",
    "For **Rolle's theorem**, since we know there are at least two zeros, we know that there exists **at least one point $\\xi$ such that** $g'(\\xi) = 0$, with $\\xi \\in (a,b)$\n",
    "\n",
    "$\\exists \\xi \\in (a,b)$ such that $| \\frac{d^{n+1}}{dt^{n+1}}G | = 0$\n",
    "\n",
    "Taking the infinity norm of the difference and the function allows us to consider if the interpolation approximates well the function when n is going to infinite.\n",
    "\n",
    "$$\\|Lf - f\\|_{L^{\\infty}} \\leq \\frac{1}{(n+1)!} \\|\\omega\\|_{L^{\\infty}}\\|f^{n+1}\\|_{L^{\\infty}}$$\n",
    "\n",
    "**About analitical extension**\n",
    "Instead of writing $f(x)$ we write $f(z), z \\in C, f \\in C^{\\infty}(O(a,b,R))$\n",
    "\n",
    "$$O(a,b,R) = {z \\in C, s.t. dist(z, S(a,b)) < R)}$$\n",
    "\n",
    "$$|f^{n+1}(\\xi)|\\leq \\frac{(n+1)!}{R^{n+1}}\\|f\\|_{L^{\\infty}(O(a,b,R))}$$(1.) \n",
    "\n",
    "Theorem 1 + (1.) $\\|f - Lf\\|_{L^{\\infty}} \\begin{aligned}\\leq \\|f\\|_{L^{\\infty}(O(a,b,R))}\\frac{\\|\\omega\\|_{L^{\\infty}}}{R^{n+1}}\\end{aligned}$\n",
    "\n",
    "Which is the same as saying $\\begin{aligned}\\leq \\|f\\|_{L^{\\infty}(O(a,b,R))}(\\frac{|b -a|}{R})^{n+1}\\end{aligned}$\n",
    "\n",
    "Theorem 2: Let $f$ analytically extendible on an oval $(a,b,R)$ \n",
    "\n",
    "$(\\frac{|b - a|}{R})^{n+1}$ is the **upper bound for the error between the interpolation and the function**\n",
    "\n",
    "\n",
    "\n"
   ]
  },
  {
   "cell_type": "code",
   "execution_count": 2,
   "metadata": {},
   "outputs": [
    {
     "name": "stdout",
     "output_type": "stream",
     "text": [
      "Populating the interactive namespace from numpy and matplotlib\n"
     ]
    }
   ],
   "source": [
    "%pylab inline"
   ]
  },
  {
   "cell_type": "code",
   "execution_count": 3,
   "metadata": {},
   "outputs": [],
   "source": [
    "def interpolation(fun, q, x):\n",
    "    \"\"\"\n",
    "    Returns the polynomial interpolation of fun at \n",
    "    the points q, evaluated at the points x.\n",
    "\n",
    "    you can plot this by calling plot(x, interpolation(myfun, q, x))\n",
    "    \"\"\"\n",
    "    N = len(q)\n",
    "    I = arange(N)\n",
    "    q_vec = q.reshape((-1,1)) # Reshapes q to be a value vector\n",
    "    x_vec = x.reshape((-1,1))\n",
    "    B = q_vec**I\n",
    "    V = x_vec**I # Contain the basis function evaluated at x - V_{i}(x)\n",
    "    p = V.dot(inv(B).dot(fun(q))) # Vij dot Bij dot func(xj)\n",
    "    return p"
   ]
  },
  {
   "cell_type": "code",
   "execution_count": 4,
   "metadata": {},
   "outputs": [],
   "source": [
    "func = lambda x:1./(1 + x**2)\n",
    "func = sin"
   ]
  },
  {
   "cell_type": "code",
   "execution_count": 5,
   "metadata": {},
   "outputs": [
    {
     "name": "stderr",
     "output_type": "stream",
     "text": [
      "/usr/lib/python3.7/site-packages/ipykernel_launcher.py:12: RuntimeWarning: overflow encountered in power\n",
      "  if sys.path[0] == '':\n",
      "/usr/lib/python3.7/site-packages/ipykernel_launcher.py:13: RuntimeWarning: overflow encountered in power\n",
      "  del sys.path[0]\n"
     ]
    }
   ],
   "source": [
    "q = linspace(-5, 5, 15)\n",
    "x = linspace(-5, 5, 1025)\n",
    "y = interpolation(func, x, q)"
   ]
  },
  {
   "cell_type": "code",
   "execution_count": 6,
   "metadata": {},
   "outputs": [
    {
     "data": {
      "text/plain": [
       "[<matplotlib.lines.Line2D at 0x7fd48061ceb8>]"
      ]
     },
     "execution_count": 6,
     "metadata": {},
     "output_type": "execute_result"
    },
    {
     "data": {
      "image/png": "[encoded data removed]",
      "text/plain": [
       "<Figure size 432x288 with 1 Axes>"
      ]
     },
     "metadata": {},
     "output_type": "display_data"
    }
   ],
   "source": [
    "plot(q,y)\n",
    "plot(q, func(q), 'ro')\n",
    "plot(x, func(x))"
   ]
  },
  {
   "cell_type": "markdown",
   "metadata": {},
   "source": [
    "# Triangular Infinite Interpolation Matrix"
   ]
  },
  {
   "cell_type": "markdown",
   "metadata": {},
   "source": [
    "$L_{x}^{n}f = f(x_{i}^{n})v_{i}^{n}(x)$, with $v_{i}^{n} = \\Pi_{i \\neq j, j = 0}^{n} \\frac{(x - x_{j}^{n})}{x_{i}^{n} - x_{j}^{n}}$\n",
    "\n",
    "Theorem 3: **(Erodos)** $\\forall X,  \\exists c $ such that $\\|\\Lambda\\|_{L^{\\infty}} \\geq \\frac{2}{\\pi} log(n + 1) - c$\n",
    "\n",
    "$$\\Lambda(x) = \\Sigma^{n}_{i=0} |v_{i}^{n}(x)|$$\n",
    "\n",
    "Lambda represent the **condition number** of the interpolation operation. Taking a perturbation of f will cause a variation in the result of $Lf$ which is proportional to $\\Lambda$. This leads us to finding the **upper bound for interpolation**.\n",
    "\n",
    "$$\\|Lf\\|_{L^{\\infty}} \\leq \\|\\Lambda\\|_{L^{\\infty}}\\|f\\|_{L^{\\infty}}$$\n",
    "\n",
    "When $n$ goes to infinity, we see through the Erodos formula that the condition error is also slowly going to infinity. This is a first signal that **interpolation is ill-conditioned**.\n",
    "\n",
    "Theorem 4: **(Faber)** $\\forall X, \\exists f$ such that $L_{x}^{n}f \\not\\to f$\n",
    "\n",
    "This mean that there is always **at least one function of the interpolation which is not converging to f**.\n",
    "\n",
    "A function having this property is said to be **adversarial**. It is the case for deep neural networks, where there is always at least one possible permutation of the input where the results are not the ones we expected (example of one pixel attack).\n",
    "\n",
    "**Chebyshov's points** are defined as $x = argmin\\|\\Lambda\\|_{\\infty}$ (defined as **the points that helds the minimum for the Lambda function**), with $x \\in R$\n",
    "\n",
    "Between $[-1, 1]$ the Chebyshov's points are\n",
    "\n",
    "$$x_{i} = cos(\\frac{(2i + 1)\\pi}{2n + 2})$$\n",
    "\n",
    "(There is a scipy function to easily construct those points)\n",
    "\n",
    "$$\\frac{2}{pi}log(n+1) - c \\leq \\|\\Lambda\\|_{L^{\\infty}} \\leq \\frac{2}{pi}log(n+1) + 1$$\n",
    "\n",
    "The first part is obtained from Erodos theorem, the upper bound can be deduced. Long story short, **always use Chebyshov's point for interpolation when possible**."
   ]
  },
  {
   "cell_type": "markdown",
   "metadata": {},
   "source": [
    "## Interesting but unnecessary theorem - Weierstrass Approximation Theorem\n",
    "\n",
    "Let $f \\in C([a,b])$, let $\\epsilon > 0$, then $\\exists n$, and a polynomial of order $n$ with $p \\in P^{n}$ such that\n",
    "\n",
    "$$\\|f - p\\|_{L^{\\infty}([a,b])} \\leq \\epsilon$$\n",
    "\n",
    "Assume there exists a sequence $B_n$ of linear operators s.t.\n",
    "\n",
    "* $B_n$ is a positive linear operator $B_nf \\geq 0, \\forall f \\geq 0$\n",
    "\n",
    "* $B_nq \\implies q, \\forall q \\in P^2$ (converge pointwise)\n",
    "\n",
    "Then $\\forall \\epsilon > 0 ,\\exists \\bar{n}$ s.t. $\\forall n > \\bar{n}, \\|B_nf - f\\| \\leq \\epsilon$, with $B_n: C^0([a,b]) \\implies P^n$\n",
    "\n",
    "So it says, we can build a function **without using interpolation to avoid being bounded by Faber theorem**, such that it converges uniformely to the function f.\n",
    "\n",
    "$$1^{n} = 1 = ((1-x)+(x))^{n}= \\Sigma_{i=0}^{n}\\binom{n}{i}x^{i}(1 - x)^{n -i}$$\n",
    "\n",
    "$\\binom{n}{i}x^{i}(1 - x)^{n -i}$ is defined as $N_{i}^{n}(x)$\n",
    "\n",
    "This value has the following property:\n",
    "\n",
    "* $N_{i}^{n}(x) \\geq 0, \\forall x \\in [0,1]$\n",
    "\n",
    "\n",
    "* $\\Sigma_{i=0}^{n} N_{i}^{n}(x) = 1, \\forall x$\n",
    "\n",
    "\n",
    "* $N_{i}^{n} \\in P^{n}$\n",
    "\n",
    "$Bf(x) = \\Sigma_{i=0}^{n}f(\\frac{i}{n})N_{i}^{n}(x) \\in P^{n}$\n",
    "\n",
    "I am splitting the interval in n equispaced points, and the $\\max_{x \\in [0,1]} N_{i}^{n}(x)$ is achieved at $N_{i}(\\frac{i}{n}$)\n",
    "\n",
    "Increasing n enough make the function converge uniformly, as proved by Weierstrass Theorem.\n",
    "\n",
    "$B_{n}1 = 1, \\forall n \\geq 0$\n",
    "\n",
    "$B_{n}x = x, \\forall n \\geq 1$\n",
    "\n",
    "$B_{n}x^{2} = (\\frac{n - 1}{n})x^{2} + (\\frac{1}{n})x, \\forall n \\geq 1$\n",
    "\n",
    "Thanks to this property and the fact that $B_n$ is positive, we can use this for Weierstrass Theorem.\n",
    "\n",
    "The main difference with Lagrange interpolation is that **increasing the degree of the polynomial will not lead to the identity**, but instead to a polynomial of the same grade having new terms.\n",
    "\n",
    "The most important property is that $B_{n}f \\geq 0, \\forall f \\geq 0$, which defines B as a **positive operator**. This is different from interpolation, which is an **oscillating operator**, which is bad because the oscillatory behavior is going to increase with the degree of the polynomial (making it more prone to unpredictable behavior).\n",
    "\n",
    "This is a strong argument for using the Weierstrass operator, since it doesn't oscillate and it just approximates the right function.\n",
    "\n",
    "Fix $x_0 \\in [a,b]$\n",
    "\n",
    "$$q^{+-} = f(x_0) +- (\\frac{\\epsilon}{2} + \\frac{\\|f\\|_\\infty}{2\\delta}(x - x_0)^2)$$\n",
    "\n",
    "with $f \\in C^0([a,b])$, $\\forall \\epsilon, \\exists \\delta$ s.t. $|x_1 - x_2| \\leq \\delta$\n",
    "\n",
    "$\\implies |f(x_1) - f(x_2)| \\leq \\frac{\\epsilon}{2}$\n",
    "\n",
    "$\\implies -\\frac{\\epsilon}{2} + q^-(x) \\leq f(x) \\leq q^+(x) + \\frac{\\epsilon}{2}, \\forall x$\n",
    "\n",
    "$q^{+-} = a^{+-}x^2 + b^{+-}x + c^{+-}$, define $M = max(a^{+-}(x_0) + b^{+-}(x_0) + c^{+-}(x_0))$\n",
    "\n",
    "$$\\|B_nx^2 - x^2\\| \\leq \\delta \\implies B_n(Mx^2) - Mx^2 \\leq M\\delta$$\n",
    "\n",
    "$$\\implies B_n(Mx^2+Mx+x)-(Mx^2+Mx+M)\\leq 3M\\delta$$\n",
    "\n",
    "So $\\delta = \\frac{\\epsilon}{6M}$\n",
    "\n",
    "By hypothesis:\n",
    "\n",
    "$$\\exists \\bar{n}, \\|B_n q - q\\|_\\infty \\leq \\frac{\\epsilon}{6M}, \\forall n \\geq \\bar{n}, \\forall q \\in P^2$$\n",
    "\n",
    "$\\|B_n q^{+-} - q^{+-}\\|_\\infty \\leq \\frac{\\epsilon}{2}$ and this is true **for any $x_0$**\n",
    "\n",
    "$$-\\frac{\\epsilon}{2}(-\\frac{\\epsilon}{2} + f(x_0)) \\leq (B_n q^-)(x_0) \\leq (B_n f)(x_0) \\leq (B_nq^+)(x_0) \\leq (f(x_0) + \\frac{\\epsilon}{2}) + \\frac{\\epsilon}{2}$$\n",
    "\n",
    "$$\\implies -\\epsilon + f(x_0) \\leq (B_nf)(x_0) \\leq f(x_0) + \\epsilon$$\n",
    "\n",
    "$$\\implies \\|B_nf - f\\|_\\infty \\leq \\epsilon$$"
   ]
  }
 ],
 "metadata": {
  "kernelspec": {
   "display_name": "Python 3",
   "language": "python",
   "name": "python3"
  },
  "language_info": {
   "codemirror_mode": {
    "name": "ipython",
    "version": 3
   },
   "file_extension": ".py",
   "mimetype": "text/x-python",
   "name": "python",
   "nbconvert_exporter": "python",
   "pygments_lexer": "ipython3",
   "version": "3.7.1"
  }
 },
 "nbformat": 4,
 "nbformat_minor": 2
}
